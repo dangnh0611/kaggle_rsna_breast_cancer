{
 "cells": [
  {
   "cell_type": "code",
   "execution_count": 23,
   "id": "980bb9ba",
   "metadata": {},
   "outputs": [],
   "source": [
    "import cv2\n",
    "import numpy as np\n",
    "import os\n",
    "import sys\n",
    "from tqdm import tqdm\n",
    "import random\n",
    "import time"
   ]
  },
  {
   "cell_type": "code",
   "execution_count": 24,
   "id": "5c3b6918",
   "metadata": {},
   "outputs": [],
   "source": [
    "def down_and_up(img, down_inter_method = cv2.INTER_AREA, up_inter_method = cv2.INTER_CUBIC, max_size = 640):\n",
    "    ori_h, ori_w = img.shape[:2]\n",
    "    r = max_size / max(ori_w, ori_h)\n",
    "    down_h, down_w = int(r * ori_h), int(r * ori_w)\n",
    "    start = time.time()\n",
    "    down = cv2.resize(img, (down_w, down_h), interpolation = down_inter_method)\n",
    "    end = time.time()\n",
    "    take = end - start\n",
    "    up = cv2.resize(down, (ori_w, ori_h), interpolation = up_inter_method)\n",
    "    new_h, new_w = up.shape[:2]\n",
    "    assert ori_h == new_h, ori_w == new_w\n",
    "    psnr = cv2.PSNR(img, up)\n",
    "    return psnr, take\n",
    "\n",
    "\n",
    "def test_on_imgs(imgs, down_inter_method = cv2.INTER_AREA, up_inter_method = cv2.INTER_CUBIC, max_size = 416):\n",
    "    takes = []\n",
    "    psnrs = []\n",
    "    for i, img in tqdm(enumerate(imgs)):\n",
    "        psnr, take = down_and_up(img, down_inter_method = down_inter_method, up_inter_method=up_inter_method, max_size = max_size)\n",
    "        takes.append(take)\n",
    "        psnrs.append(psnr)\n",
    "    psnrs = np.array(psnrs)\n",
    "    takes = np.array(takes)\n",
    "    return psnrs.mean(), psnrs.std(), takes.mean(), takes.std()\n"
   ]
  },
  {
   "cell_type": "code",
   "execution_count": 25,
   "id": "2cfa5fe1",
   "metadata": {},
   "outputs": [],
   "source": [
    "TEST_DIR = '../datasets/roi_det/v2/yolox_coco/train2017/'\n",
    "\n",
    "MAX_SIZE = 640\n",
    "\n",
    "DOWN_METHODS = [\n",
    "                'INTER_LINEAR',\n",
    "                'INTER_CUBIC',\n",
    "                'INTER_NEAREST',\n",
    "                'INTER_LANCZOS4',\n",
    "                'INTER_LINEAR_EXACT',\n",
    "                'INTER_NEAREST_EXACT',\n",
    "                'INTER_BITS',\n",
    "                'INTER_BITS2',\n",
    "    'INTER_AREA',\n",
    "#                 'INTER_MAX',\n",
    "#                 'INTER_TAB_SIZE',\n",
    "#                 'INTER_TAB_SIZE2',\n",
    "]\n",
    "\n",
    "UP_METHODS = [\n",
    "                'INTER_LINEAR',\n",
    "                'INTER_CUBIC',\n",
    "                'INTER_NEAREST',\n",
    "                'INTER_LANCZOS4',\n",
    "                'INTER_LINEAR_EXACT',\n",
    "                'INTER_NEAREST_EXACT',\n",
    "                'INTER_BITS',\n",
    "                'INTER_BITS2',\n",
    "                    'INTER_AREA',\n",
    "#                 'INTER_MAX',\n",
    "#                 'INTER_TAB_SIZE',\n",
    "#                 'INTER_TAB_SIZE2',\n",
    "]\n"
   ]
  },
  {
   "cell_type": "code",
   "execution_count": 4,
   "id": "b7f5ab8c",
   "metadata": {},
   "outputs": [
    {
     "name": "stderr",
     "output_type": "stream",
     "text": [
      "100%|████████████████████████████████████████████████████| 50/50 [00:09<00:00,  5.30it/s]\n"
     ]
    }
   ],
   "source": [
    "img_names = os.listdir(TEST_DIR)\n",
    "img_paths = [os.path.join(TEST_DIR, name) for name in img_names]\n",
    "random.shuffle(img_paths)\n",
    "img_paths = img_paths[:50]\n",
    "\n",
    "imgs = []\n",
    "for img_path in tqdm(img_paths):\n",
    "    img = cv2.imread(img_path)\n",
    "    imgs.append(img)"
   ]
  },
  {
   "cell_type": "code",
   "execution_count": 26,
   "id": "d2d6c8f2",
   "metadata": {},
   "outputs": [
    {
     "name": "stdout",
     "output_type": "stream",
     "text": [
      "INTER_LINEAR INTER_LINEAR\n"
     ]
    },
    {
     "name": "stderr",
     "output_type": "stream",
     "text": [
      "50it [00:00, 62.62it/s]\n"
     ]
    },
    {
     "name": "stdout",
     "output_type": "stream",
     "text": [
      "{'psnr_mean': 35.166624614101764, 'psnr_std': 5.550537251550865, 'time_mean': 0.0010922861099243164, 'time_std': 0.00031551569944569493}\n",
      "INTER_LINEAR INTER_CUBIC\n"
     ]
    },
    {
     "name": "stderr",
     "output_type": "stream",
     "text": [
      "50it [00:00, 60.85it/s]\n"
     ]
    },
    {
     "name": "stdout",
     "output_type": "stream",
     "text": [
      "{'psnr_mean': 35.08517061281277, 'psnr_std': 5.6512654292699755, 'time_mean': 0.001273179054260254, 'time_std': 0.0010202011704599273}\n",
      "INTER_LINEAR INTER_NEAREST\n"
     ]
    },
    {
     "name": "stderr",
     "output_type": "stream",
     "text": [
      "50it [00:00, 59.21it/s]\n"
     ]
    },
    {
     "name": "stdout",
     "output_type": "stream",
     "text": [
      "{'psnr_mean': 33.07825539238859, 'psnr_std': 4.747820111413385, 'time_mean': 0.0011162900924682618, 'time_std': 0.00021385441862040535}\n",
      "INTER_LINEAR INTER_LANCZOS4\n"
     ]
    },
    {
     "name": "stderr",
     "output_type": "stream",
     "text": [
      "50it [00:01, 35.83it/s]\n"
     ]
    },
    {
     "name": "stdout",
     "output_type": "stream",
     "text": [
      "{'psnr_mean': 34.948698123409216, 'psnr_std': 5.665869695418128, 'time_mean': 0.0015394020080566407, 'time_std': 0.0015822060848560329}\n",
      "INTER_LINEAR INTER_LINEAR_EXACT\n"
     ]
    },
    {
     "name": "stderr",
     "output_type": "stream",
     "text": [
      "50it [00:00, 54.31it/s]\n"
     ]
    },
    {
     "name": "stdout",
     "output_type": "stream",
     "text": [
      "{'psnr_mean': 35.17824584755071, 'psnr_std': 5.573475322722324, 'time_mean': 0.0013345813751220704, 'time_std': 0.0008717576946383272}\n",
      "INTER_LINEAR INTER_NEAREST_EXACT\n"
     ]
    },
    {
     "name": "stderr",
     "output_type": "stream",
     "text": [
      "50it [00:00, 56.11it/s]\n"
     ]
    },
    {
     "name": "stdout",
     "output_type": "stream",
     "text": [
      "{'psnr_mean': 33.2017666257593, 'psnr_std': 4.886511925673177, 'time_mean': 0.0014791679382324219, 'time_std': 0.0013509805467281295}\n",
      "INTER_LINEAR INTER_BITS\n"
     ]
    },
    {
     "name": "stderr",
     "output_type": "stream",
     "text": [
      "50it [00:00, 55.77it/s]\n"
     ]
    },
    {
     "name": "stdout",
     "output_type": "stream",
     "text": [
      "{'psnr_mean': 35.17824584755071, 'psnr_std': 5.573475322722324, 'time_mean': 0.0010976886749267578, 'time_std': 0.00025992519005357123}\n",
      "INTER_LINEAR INTER_BITS2\n"
     ]
    },
    {
     "name": "stderr",
     "output_type": "stream",
     "text": [
      "50it [00:00, 61.82it/s]\n"
     ]
    },
    {
     "name": "stdout",
     "output_type": "stream",
     "text": [
      "{'psnr_mean': 35.08517061281277, 'psnr_std': 5.6512654292699755, 'time_mean': 0.0012165498733520508, 'time_std': 0.0004646878123736113}\n",
      "INTER_LINEAR INTER_AREA\n"
     ]
    },
    {
     "name": "stderr",
     "output_type": "stream",
     "text": [
      "50it [00:00, 55.66it/s]\n"
     ]
    },
    {
     "name": "stdout",
     "output_type": "stream",
     "text": [
      "{'psnr_mean': 33.79391469549365, 'psnr_std': 5.160559815067866, 'time_mean': 0.0012691926956176758, 'time_std': 0.00047540635232811085}\n",
      "INTER_CUBIC INTER_LINEAR\n"
     ]
    },
    {
     "name": "stderr",
     "output_type": "stream",
     "text": [
      "50it [00:01, 48.97it/s]\n"
     ]
    },
    {
     "name": "stdout",
     "output_type": "stream",
     "text": [
      "{'psnr_mean': 34.91825662371914, 'psnr_std': 5.5970765747973505, 'time_mean': 0.002306609153747559, 'time_std': 0.0010609031959426243}\n",
      "INTER_CUBIC INTER_CUBIC\n"
     ]
    },
    {
     "name": "stderr",
     "output_type": "stream",
     "text": [
      "50it [00:00, 52.20it/s]\n"
     ]
    },
    {
     "name": "stdout",
     "output_type": "stream",
     "text": [
      "{'psnr_mean': 34.63824221619157, 'psnr_std': 5.660362310952142, 'time_mean': 0.0017737293243408204, 'time_std': 0.0007524120090836395}\n",
      "INTER_CUBIC INTER_NEAREST\n"
     ]
    },
    {
     "name": "stderr",
     "output_type": "stream",
     "text": [
      "50it [00:00, 50.10it/s]\n"
     ]
    },
    {
     "name": "stdout",
     "output_type": "stream",
     "text": [
      "{'psnr_mean': 32.657410485729685, 'psnr_std': 4.807071018402318, 'time_mean': 0.0017805767059326171, 'time_std': 0.0008536638296292677}\n",
      "INTER_CUBIC INTER_LANCZOS4\n"
     ]
    },
    {
     "name": "stderr",
     "output_type": "stream",
     "text": [
      "50it [00:01, 33.20it/s]\n"
     ]
    },
    {
     "name": "stdout",
     "output_type": "stream",
     "text": [
      "{'psnr_mean': 34.45253254596443, 'psnr_std': 5.669800652426453, 'time_mean': 0.0016398143768310547, 'time_std': 0.0005961729766825043}\n",
      "INTER_CUBIC INTER_LINEAR_EXACT\n"
     ]
    },
    {
     "name": "stderr",
     "output_type": "stream",
     "text": [
      "50it [00:01, 47.72it/s]\n"
     ]
    },
    {
     "name": "stdout",
     "output_type": "stream",
     "text": [
      "{'psnr_mean': 34.92353300669888, 'psnr_std': 5.607717233316001, 'time_mean': 0.0019814205169677735, 'time_std': 0.001095720139731244}\n",
      "INTER_CUBIC INTER_NEAREST_EXACT\n"
     ]
    },
    {
     "name": "stderr",
     "output_type": "stream",
     "text": [
      "50it [00:00, 50.69it/s]\n"
     ]
    },
    {
     "name": "stdout",
     "output_type": "stream",
     "text": [
      "{'psnr_mean': 32.77862497977025, 'psnr_std': 4.938127480488868, 'time_mean': 0.0016103076934814453, 'time_std': 0.0008388003397517754}\n",
      "INTER_CUBIC INTER_BITS\n"
     ]
    },
    {
     "name": "stderr",
     "output_type": "stream",
     "text": [
      "50it [00:01, 48.81it/s]\n"
     ]
    },
    {
     "name": "stdout",
     "output_type": "stream",
     "text": [
      "{'psnr_mean': 34.92353300669888, 'psnr_std': 5.607717233316001, 'time_mean': 0.0016631412506103516, 'time_std': 0.0008470576106799621}\n",
      "INTER_CUBIC INTER_BITS2\n"
     ]
    },
    {
     "name": "stderr",
     "output_type": "stream",
     "text": [
      "50it [00:00, 50.33it/s]\n"
     ]
    },
    {
     "name": "stdout",
     "output_type": "stream",
     "text": [
      "{'psnr_mean': 34.63824221619157, 'psnr_std': 5.660362310952142, 'time_mean': 0.0017895793914794922, 'time_std': 0.0007364526891619715}\n",
      "INTER_CUBIC INTER_AREA\n"
     ]
    },
    {
     "name": "stderr",
     "output_type": "stream",
     "text": [
      "50it [00:00, 50.31it/s]\n"
     ]
    },
    {
     "name": "stdout",
     "output_type": "stream",
     "text": [
      "{'psnr_mean': 33.3739996664135, 'psnr_std': 5.205440235955106, 'time_mean': 0.0015954780578613281, 'time_std': 0.000868199778197693}\n",
      "INTER_NEAREST INTER_LINEAR\n"
     ]
    },
    {
     "name": "stderr",
     "output_type": "stream",
     "text": [
      "50it [00:00, 52.32it/s]\n"
     ]
    },
    {
     "name": "stdout",
     "output_type": "stream",
     "text": [
      "{'psnr_mean': 31.44579648232947, 'psnr_std': 4.429801134840944, 'time_mean': 0.0008224964141845704, 'time_std': 0.0003733574232189945}\n",
      "INTER_NEAREST INTER_CUBIC\n"
     ]
    },
    {
     "name": "stderr",
     "output_type": "stream",
     "text": [
      "50it [00:00, 56.74it/s]\n"
     ]
    },
    {
     "name": "stdout",
     "output_type": "stream",
     "text": [
      "{'psnr_mean': 30.921595954362783, 'psnr_std': 4.496584977748933, 'time_mean': 0.0008865118026733399, 'time_std': 0.00045020411606783574}\n",
      "INTER_NEAREST INTER_NEAREST\n"
     ]
    },
    {
     "name": "stderr",
     "output_type": "stream",
     "text": [
      "50it [00:00, 54.29it/s]\n"
     ]
    },
    {
     "name": "stdout",
     "output_type": "stream",
     "text": [
      "{'psnr_mean': 29.40274619278274, 'psnr_std': 4.259289947758412, 'time_mean': 0.0009341573715209961, 'time_std': 0.0006899610152146606}\n",
      "INTER_NEAREST INTER_LANCZOS4\n"
     ]
    },
    {
     "name": "stderr",
     "output_type": "stream",
     "text": [
      "50it [00:01, 33.91it/s]\n"
     ]
    },
    {
     "name": "stdout",
     "output_type": "stream",
     "text": [
      "{'psnr_mean': 30.78994570382466, 'psnr_std': 4.519226816041848, 'time_mean': 0.0009473180770874024, 'time_std': 0.00045361889182830444}\n",
      "INTER_NEAREST INTER_LINEAR_EXACT\n"
     ]
    },
    {
     "name": "stderr",
     "output_type": "stream",
     "text": [
      "50it [00:01, 49.18it/s]\n"
     ]
    },
    {
     "name": "stdout",
     "output_type": "stream",
     "text": [
      "{'psnr_mean': 31.44680628132751, 'psnr_std': 4.433027912267261, 'time_mean': 0.0008319854736328125, 'time_std': 0.0006351202004698462}\n",
      "INTER_NEAREST INTER_NEAREST_EXACT\n"
     ]
    },
    {
     "name": "stderr",
     "output_type": "stream",
     "text": [
      "50it [00:00, 53.38it/s]\n"
     ]
    },
    {
     "name": "stdout",
     "output_type": "stream",
     "text": [
      "{'psnr_mean': 29.956988547798364, 'psnr_std': 4.4824923771371274, 'time_mean': 0.0008899068832397461, 'time_std': 0.0004150343900009498}\n",
      "INTER_NEAREST INTER_BITS\n"
     ]
    },
    {
     "name": "stderr",
     "output_type": "stream",
     "text": [
      "50it [00:01, 49.67it/s]\n"
     ]
    },
    {
     "name": "stdout",
     "output_type": "stream",
     "text": [
      "{'psnr_mean': 31.44680628132751, 'psnr_std': 4.433027912267261, 'time_mean': 0.0008582353591918945, 'time_std': 0.0003250430861221731}\n",
      "INTER_NEAREST INTER_BITS2\n"
     ]
    },
    {
     "name": "stderr",
     "output_type": "stream",
     "text": [
      "50it [00:00, 57.74it/s]\n"
     ]
    },
    {
     "name": "stdout",
     "output_type": "stream",
     "text": [
      "{'psnr_mean': 30.921595954362783, 'psnr_std': 4.496584977748933, 'time_mean': 0.000959320068359375, 'time_std': 0.0004352850471354558}\n",
      "INTER_NEAREST INTER_AREA\n"
     ]
    },
    {
     "name": "stderr",
     "output_type": "stream",
     "text": [
      "50it [00:00, 52.58it/s]\n"
     ]
    },
    {
     "name": "stdout",
     "output_type": "stream",
     "text": [
      "{'psnr_mean': 30.244982729223956, 'psnr_std': 4.532290186760351, 'time_mean': 0.0008435821533203124, 'time_std': 0.000404630429612837}\n",
      "INTER_LANCZOS4 INTER_LINEAR\n"
     ]
    },
    {
     "name": "stderr",
     "output_type": "stream",
     "text": [
      "50it [00:01, 27.57it/s]\n"
     ]
    },
    {
     "name": "stdout",
     "output_type": "stream",
     "text": [
      "{'psnr_mean': 34.8532253418224, 'psnr_std': 5.595643578424149, 'time_mean': 0.017876830101013184, 'time_std': 0.003383086911781432}\n",
      "INTER_LANCZOS4 INTER_CUBIC\n"
     ]
    },
    {
     "name": "stderr",
     "output_type": "stream",
     "text": [
      "50it [00:01, 28.17it/s]\n"
     ]
    },
    {
     "name": "stdout",
     "output_type": "stream",
     "text": [
      "{'psnr_mean': 34.55160096887711, 'psnr_std': 5.6668629535041255, 'time_mean': 0.017793169021606447, 'time_std': 0.0035766076356156143}\n",
      "INTER_LANCZOS4 INTER_NEAREST\n"
     ]
    },
    {
     "name": "stderr",
     "output_type": "stream",
     "text": [
      "50it [00:01, 27.89it/s]\n"
     ]
    },
    {
     "name": "stdout",
     "output_type": "stream",
     "text": [
      "{'psnr_mean': 32.5871104643189, 'psnr_std': 4.826063681835316, 'time_mean': 0.018243398666381836, 'time_std': 0.0040246493657256155}\n",
      "INTER_LANCZOS4 INTER_LANCZOS4\n"
     ]
    },
    {
     "name": "stderr",
     "output_type": "stream",
     "text": [
      "50it [00:02, 22.16it/s]\n"
     ]
    },
    {
     "name": "stdout",
     "output_type": "stream",
     "text": [
      "{'psnr_mean': 34.36144814569042, 'psnr_std': 5.6786889280655695, 'time_mean': 0.016504802703857423, 'time_std': 0.00363738769032207}\n",
      "INTER_LANCZOS4 INTER_LINEAR_EXACT\n"
     ]
    },
    {
     "name": "stderr",
     "output_type": "stream",
     "text": [
      "50it [00:01, 26.63it/s]\n"
     ]
    },
    {
     "name": "stdout",
     "output_type": "stream",
     "text": [
      "{'psnr_mean': 34.85817121341187, 'psnr_std': 5.605249956649654, 'time_mean': 0.017177786827087402, 'time_std': 0.0038602418618548153}\n",
      "INTER_LANCZOS4 INTER_NEAREST_EXACT\n"
     ]
    },
    {
     "name": "stderr",
     "output_type": "stream",
     "text": [
      "50it [00:01, 28.97it/s]\n"
     ]
    },
    {
     "name": "stdout",
     "output_type": "stream",
     "text": [
      "{'psnr_mean': 32.70684493967851, 'psnr_std': 4.949771002591528, 'time_mean': 0.01761463165283203, 'time_std': 0.004131054962553544}\n",
      "INTER_LANCZOS4 INTER_BITS\n"
     ]
    },
    {
     "name": "stderr",
     "output_type": "stream",
     "text": [
      "50it [00:01, 28.30it/s]\n"
     ]
    },
    {
     "name": "stdout",
     "output_type": "stream",
     "text": [
      "{'psnr_mean': 34.85817121341187, 'psnr_std': 5.605249956649654, 'time_mean': 0.017538537979125978, 'time_std': 0.0036614245218787194}\n",
      "INTER_LANCZOS4 INTER_BITS2\n"
     ]
    },
    {
     "name": "stderr",
     "output_type": "stream",
     "text": [
      "50it [00:01, 28.80it/s]\n"
     ]
    },
    {
     "name": "stdout",
     "output_type": "stream",
     "text": [
      "{'psnr_mean': 34.55160096887711, 'psnr_std': 5.6668629535041255, 'time_mean': 0.017585091590881348, 'time_std': 0.004298764500601346}\n",
      "INTER_LANCZOS4 INTER_AREA\n"
     ]
    },
    {
     "name": "stderr",
     "output_type": "stream",
     "text": [
      "50it [00:01, 26.89it/s]\n"
     ]
    },
    {
     "name": "stdout",
     "output_type": "stream",
     "text": [
      "{'psnr_mean': 33.2969900946658, 'psnr_std': 5.219245275631066, 'time_mean': 0.018203253746032714, 'time_std': 0.0038799520185290536}\n",
      "INTER_LINEAR_EXACT INTER_LINEAR\n"
     ]
    },
    {
     "name": "stderr",
     "output_type": "stream",
     "text": [
      "50it [00:01, 47.06it/s]\n"
     ]
    },
    {
     "name": "stdout",
     "output_type": "stream",
     "text": [
      "{'psnr_mean': 35.17714975229653, 'psnr_std': 5.5674601087727975, 'time_mean': 0.002366290092468262, 'time_std': 0.0009754197917890021}\n",
      "INTER_LINEAR_EXACT INTER_CUBIC\n"
     ]
    },
    {
     "name": "stderr",
     "output_type": "stream",
     "text": [
      "50it [00:00, 52.94it/s]\n"
     ]
    },
    {
     "name": "stdout",
     "output_type": "stream",
     "text": [
      "{'psnr_mean': 35.089656312669725, 'psnr_std': 5.656017120018741, 'time_mean': 0.0022262048721313475, 'time_std': 0.0004601138821100734}\n",
      "INTER_LINEAR_EXACT INTER_NEAREST\n"
     ]
    },
    {
     "name": "stderr",
     "output_type": "stream",
     "text": [
      "50it [00:00, 54.38it/s]\n"
     ]
    },
    {
     "name": "stdout",
     "output_type": "stream",
     "text": [
      "{'psnr_mean': 33.080603817930935, 'psnr_std': 4.7488773808007565, 'time_mean': 0.0020308446884155272, 'time_std': 0.0005144966486986597}\n",
      "INTER_LINEAR_EXACT INTER_LANCZOS4\n"
     ]
    },
    {
     "name": "stderr",
     "output_type": "stream",
     "text": [
      "50it [00:01, 34.77it/s]\n"
     ]
    },
    {
     "name": "stdout",
     "output_type": "stream",
     "text": [
      "{'psnr_mean': 34.953463847107855, 'psnr_std': 5.671054677840369, 'time_mean': 0.002091846466064453, 'time_std': 0.00046416326917317737}\n",
      "INTER_LINEAR_EXACT INTER_LINEAR_EXACT\n"
     ]
    },
    {
     "name": "stderr",
     "output_type": "stream",
     "text": [
      "50it [00:00, 50.28it/s]\n"
     ]
    },
    {
     "name": "stdout",
     "output_type": "stream",
     "text": [
      "{'psnr_mean': 35.18274839001916, 'psnr_std': 5.578821294615943, 'time_mean': 0.002215018272399902, 'time_std': 0.0005492360048967448}\n",
      "INTER_LINEAR_EXACT INTER_NEAREST_EXACT\n"
     ]
    },
    {
     "name": "stderr",
     "output_type": "stream",
     "text": [
      "50it [00:00, 52.82it/s]\n"
     ]
    },
    {
     "name": "stdout",
     "output_type": "stream",
     "text": [
      "{'psnr_mean': 33.204715793838645, 'psnr_std': 4.887952575201989, 'time_mean': 0.002248721122741699, 'time_std': 0.0007496927725803233}\n",
      "INTER_LINEAR_EXACT INTER_BITS\n"
     ]
    },
    {
     "name": "stderr",
     "output_type": "stream",
     "text": [
      "50it [00:01, 48.34it/s]\n"
     ]
    },
    {
     "name": "stdout",
     "output_type": "stream",
     "text": [
      "{'psnr_mean': 35.18274839001916, 'psnr_std': 5.578821294615943, 'time_mean': 0.0021088838577270506, 'time_std': 0.0005448711864636849}\n",
      "INTER_LINEAR_EXACT INTER_BITS2\n"
     ]
    },
    {
     "name": "stderr",
     "output_type": "stream",
     "text": [
      "50it [00:00, 54.09it/s]\n"
     ]
    },
    {
     "name": "stdout",
     "output_type": "stream",
     "text": [
      "{'psnr_mean': 35.089656312669725, 'psnr_std': 5.656017120018741, 'time_mean': 0.002085866928100586, 'time_std': 0.0005226172812528764}\n",
      "INTER_LINEAR_EXACT INTER_AREA\n"
     ]
    },
    {
     "name": "stderr",
     "output_type": "stream",
     "text": [
      "50it [00:00, 50.82it/s]\n"
     ]
    },
    {
     "name": "stdout",
     "output_type": "stream",
     "text": [
      "{'psnr_mean': 33.797983470722734, 'psnr_std': 5.164145999091202, 'time_mean': 0.0023216629028320313, 'time_std': 0.0007910868106572816}\n",
      "INTER_NEAREST_EXACT INTER_LINEAR\n"
     ]
    },
    {
     "name": "stderr",
     "output_type": "stream",
     "text": [
      "50it [00:00, 54.91it/s]\n"
     ]
    },
    {
     "name": "stdout",
     "output_type": "stream",
     "text": [
      "{'psnr_mean': 34.64669552201479, 'psnr_std': 5.553075745738343, 'time_mean': 0.0009434127807617188, 'time_std': 0.0006845885467321155}\n",
      "INTER_NEAREST_EXACT INTER_CUBIC\n"
     ]
    },
    {
     "name": "stderr",
     "output_type": "stream",
     "text": [
      "50it [00:00, 56.00it/s]\n"
     ]
    },
    {
     "name": "stdout",
     "output_type": "stream",
     "text": [
      "{'psnr_mean': 34.272168428466024, 'psnr_std': 5.609461581246013, 'time_mean': 0.0007797574996948242, 'time_std': 0.0002780753893160008}\n",
      "INTER_NEAREST_EXACT INTER_NEAREST\n"
     ]
    },
    {
     "name": "stderr",
     "output_type": "stream",
     "text": [
      "50it [00:00, 57.93it/s]\n"
     ]
    },
    {
     "name": "stdout",
     "output_type": "stream",
     "text": [
      "{'psnr_mean': 32.33014049435312, 'psnr_std': 4.851494232603674, 'time_mean': 0.0007359266281127929, 'time_std': 0.000380109460559712}\n",
      "INTER_NEAREST_EXACT INTER_LANCZOS4\n"
     ]
    },
    {
     "name": "stderr",
     "output_type": "stream",
     "text": [
      "50it [00:01, 37.60it/s]\n"
     ]
    },
    {
     "name": "stdout",
     "output_type": "stream",
     "text": [
      "{'psnr_mean': 34.07041738000418, 'psnr_std': 5.618579835987954, 'time_mean': 0.0007351875305175781, 'time_std': 0.0003344231927018096}\n",
      "INTER_NEAREST_EXACT INTER_LINEAR_EXACT\n"
     ]
    },
    {
     "name": "stderr",
     "output_type": "stream",
     "text": [
      "50it [00:00, 54.09it/s]\n"
     ]
    },
    {
     "name": "stdout",
     "output_type": "stream",
     "text": [
      "{'psnr_mean': 34.65138783081354, 'psnr_std': 5.5622940588995125, 'time_mean': 0.0006631326675415039, 'time_std': 0.000235432275331653}\n",
      "INTER_NEAREST_EXACT INTER_NEAREST_EXACT\n"
     ]
    },
    {
     "name": "stderr",
     "output_type": "stream",
     "text": [
      "50it [00:00, 57.94it/s]\n"
     ]
    },
    {
     "name": "stdout",
     "output_type": "stream",
     "text": [
      "{'psnr_mean': 32.46775356141008, 'psnr_std': 4.931686623644514, 'time_mean': 0.0006691980361938477, 'time_std': 0.00025801135915143574}\n",
      "INTER_NEAREST_EXACT INTER_BITS\n"
     ]
    },
    {
     "name": "stderr",
     "output_type": "stream",
     "text": [
      "50it [00:00, 54.39it/s]\n"
     ]
    },
    {
     "name": "stdout",
     "output_type": "stream",
     "text": [
      "{'psnr_mean': 34.65138783081354, 'psnr_std': 5.5622940588995125, 'time_mean': 0.0006356763839721679, 'time_std': 0.000292787956673207}\n",
      "INTER_NEAREST_EXACT INTER_BITS2\n"
     ]
    },
    {
     "name": "stderr",
     "output_type": "stream",
     "text": [
      "50it [00:00, 62.19it/s]\n"
     ]
    },
    {
     "name": "stdout",
     "output_type": "stream",
     "text": [
      "{'psnr_mean': 34.272168428466024, 'psnr_std': 5.609461581246013, 'time_mean': 0.0006948041915893554, 'time_std': 0.00034118321214483577}\n",
      "INTER_NEAREST_EXACT INTER_AREA\n"
     ]
    },
    {
     "name": "stderr",
     "output_type": "stream",
     "text": [
      "50it [00:00, 54.72it/s]\n"
     ]
    },
    {
     "name": "stdout",
     "output_type": "stream",
     "text": [
      "{'psnr_mean': 33.058846088678955, 'psnr_std': 5.246208917532339, 'time_mean': 0.0007702350616455078, 'time_std': 0.00038161977856616}\n",
      "INTER_BITS INTER_LINEAR\n"
     ]
    },
    {
     "name": "stderr",
     "output_type": "stream",
     "text": [
      "50it [00:00, 51.99it/s]\n"
     ]
    },
    {
     "name": "stdout",
     "output_type": "stream",
     "text": [
      "{'psnr_mean': 35.17714975229653, 'psnr_std': 5.5674601087727975, 'time_mean': 0.0021341991424560546, 'time_std': 0.0008453569164022708}\n",
      "INTER_BITS INTER_CUBIC\n"
     ]
    },
    {
     "name": "stderr",
     "output_type": "stream",
     "text": [
      "50it [00:00, 53.32it/s]\n"
     ]
    },
    {
     "name": "stdout",
     "output_type": "stream",
     "text": [
      "{'psnr_mean': 35.089656312669725, 'psnr_std': 5.656017120018741, 'time_mean': 0.002253556251525879, 'time_std': 0.0004877702179210036}\n",
      "INTER_BITS INTER_NEAREST\n"
     ]
    },
    {
     "name": "stderr",
     "output_type": "stream",
     "text": [
      "50it [00:01, 49.15it/s]\n"
     ]
    },
    {
     "name": "stdout",
     "output_type": "stream",
     "text": [
      "{'psnr_mean': 33.080603817930935, 'psnr_std': 4.7488773808007565, 'time_mean': 0.002122030258178711, 'time_std': 0.0004547864616613611}\n",
      "INTER_BITS INTER_LANCZOS4\n"
     ]
    },
    {
     "name": "stderr",
     "output_type": "stream",
     "text": [
      "50it [00:01, 33.60it/s]\n"
     ]
    },
    {
     "name": "stdout",
     "output_type": "stream",
     "text": [
      "{'psnr_mean': 34.953463847107855, 'psnr_std': 5.671054677840369, 'time_mean': 0.001860342025756836, 'time_std': 0.0003830539629937909}\n",
      "INTER_BITS INTER_LINEAR_EXACT\n"
     ]
    },
    {
     "name": "stderr",
     "output_type": "stream",
     "text": [
      "50it [00:00, 51.44it/s]\n"
     ]
    },
    {
     "name": "stdout",
     "output_type": "stream",
     "text": [
      "{'psnr_mean': 35.18274839001916, 'psnr_std': 5.578821294615943, 'time_mean': 0.002053065299987793, 'time_std': 0.00036337908583282554}\n",
      "INTER_BITS INTER_NEAREST_EXACT\n"
     ]
    },
    {
     "name": "stderr",
     "output_type": "stream",
     "text": [
      "50it [00:00, 50.10it/s]\n"
     ]
    },
    {
     "name": "stdout",
     "output_type": "stream",
     "text": [
      "{'psnr_mean': 33.204715793838645, 'psnr_std': 4.887952575201989, 'time_mean': 0.002165713310241699, 'time_std': 0.00043301829552236176}\n",
      "INTER_BITS INTER_BITS\n"
     ]
    },
    {
     "name": "stderr",
     "output_type": "stream",
     "text": [
      "50it [00:00, 50.73it/s]\n"
     ]
    },
    {
     "name": "stdout",
     "output_type": "stream",
     "text": [
      "{'psnr_mean': 35.18274839001916, 'psnr_std': 5.578821294615943, 'time_mean': 0.0019902086257934572, 'time_std': 0.00037134786947943643}\n",
      "INTER_BITS INTER_BITS2\n"
     ]
    },
    {
     "name": "stderr",
     "output_type": "stream",
     "text": [
      "50it [00:00, 55.73it/s]\n"
     ]
    },
    {
     "name": "stdout",
     "output_type": "stream",
     "text": [
      "{'psnr_mean': 35.089656312669725, 'psnr_std': 5.656017120018741, 'time_mean': 0.001875457763671875, 'time_std': 0.0004020093740264518}\n",
      "INTER_BITS INTER_AREA\n"
     ]
    },
    {
     "name": "stderr",
     "output_type": "stream",
     "text": [
      "50it [00:00, 51.81it/s]\n"
     ]
    },
    {
     "name": "stdout",
     "output_type": "stream",
     "text": [
      "{'psnr_mean': 33.797983470722734, 'psnr_std': 5.164145999091202, 'time_mean': 0.0020847320556640625, 'time_std': 0.00039416047691799995}\n",
      "INTER_BITS2 INTER_LINEAR\n"
     ]
    },
    {
     "name": "stderr",
     "output_type": "stream",
     "text": [
      "50it [00:00, 52.74it/s]\n"
     ]
    },
    {
     "name": "stdout",
     "output_type": "stream",
     "text": [
      "{'psnr_mean': 34.91825662371914, 'psnr_std': 5.5970765747973505, 'time_mean': 0.0017548418045043946, 'time_std': 0.0008911481714955607}\n",
      "INTER_BITS2 INTER_CUBIC\n"
     ]
    },
    {
     "name": "stderr",
     "output_type": "stream",
     "text": [
      "50it [00:00, 59.15it/s]\n"
     ]
    },
    {
     "name": "stdout",
     "output_type": "stream",
     "text": [
      "{'psnr_mean': 34.63824221619157, 'psnr_std': 5.660362310952142, 'time_mean': 0.0013992881774902344, 'time_std': 0.0005624754139404698}\n",
      "INTER_BITS2 INTER_NEAREST\n"
     ]
    },
    {
     "name": "stderr",
     "output_type": "stream",
     "text": [
      "50it [00:00, 56.21it/s]\n"
     ]
    },
    {
     "name": "stdout",
     "output_type": "stream",
     "text": [
      "{'psnr_mean': 32.657410485729685, 'psnr_std': 4.807071018402318, 'time_mean': 0.0018778085708618165, 'time_std': 0.0005587489744849112}\n",
      "INTER_BITS2 INTER_LANCZOS4\n"
     ]
    },
    {
     "name": "stderr",
     "output_type": "stream",
     "text": [
      "50it [00:01, 37.12it/s]\n"
     ]
    },
    {
     "name": "stdout",
     "output_type": "stream",
     "text": [
      "{'psnr_mean': 34.45253254596443, 'psnr_std': 5.669800652426453, 'time_mean': 0.0014609289169311523, 'time_std': 0.0005260506712829477}\n",
      "INTER_BITS2 INTER_LINEAR_EXACT\n"
     ]
    },
    {
     "name": "stderr",
     "output_type": "stream",
     "text": [
      "50it [00:01, 48.64it/s]\n"
     ]
    },
    {
     "name": "stdout",
     "output_type": "stream",
     "text": [
      "{'psnr_mean': 34.92353300669888, 'psnr_std': 5.607717233316001, 'time_mean': 0.00158113956451416, 'time_std': 0.0005651728450412052}\n",
      "INTER_BITS2 INTER_NEAREST_EXACT\n"
     ]
    },
    {
     "name": "stderr",
     "output_type": "stream",
     "text": [
      "50it [00:00, 53.81it/s]\n"
     ]
    },
    {
     "name": "stdout",
     "output_type": "stream",
     "text": [
      "{'psnr_mean': 32.77862497977025, 'psnr_std': 4.938127480488868, 'time_mean': 0.0015912961959838867, 'time_std': 0.0005995082193972656}\n",
      "INTER_BITS2 INTER_BITS\n"
     ]
    },
    {
     "name": "stderr",
     "output_type": "stream",
     "text": [
      "50it [00:00, 51.51it/s]\n"
     ]
    },
    {
     "name": "stdout",
     "output_type": "stream",
     "text": [
      "{'psnr_mean': 34.92353300669888, 'psnr_std': 5.607717233316001, 'time_mean': 0.001524033546447754, 'time_std': 0.0005943010118956602}\n",
      "INTER_BITS2 INTER_BITS2\n"
     ]
    },
    {
     "name": "stderr",
     "output_type": "stream",
     "text": [
      "50it [00:00, 55.88it/s]\n"
     ]
    },
    {
     "name": "stdout",
     "output_type": "stream",
     "text": [
      "{'psnr_mean': 34.63824221619157, 'psnr_std': 5.660362310952142, 'time_mean': 0.0013639497756958007, 'time_std': 0.0006076020895355635}\n",
      "INTER_BITS2 INTER_AREA\n"
     ]
    },
    {
     "name": "stderr",
     "output_type": "stream",
     "text": [
      "50it [00:00, 56.69it/s]\n"
     ]
    },
    {
     "name": "stdout",
     "output_type": "stream",
     "text": [
      "{'psnr_mean': 33.3739996664135, 'psnr_std': 5.205440235955106, 'time_mean': 0.0014371871948242188, 'time_std': 0.0006572276304036914}\n",
      "INTER_AREA INTER_LINEAR\n"
     ]
    },
    {
     "name": "stderr",
     "output_type": "stream",
     "text": [
      "50it [00:02, 22.01it/s]\n"
     ]
    },
    {
     "name": "stdout",
     "output_type": "stream",
     "text": [
      "{'psnr_mean': 35.46514054349144, 'psnr_std': 5.450918063657956, 'time_mean': 0.028186535835266112, 'time_std': 0.009063185792128947}\n",
      "INTER_AREA INTER_CUBIC\n"
     ]
    },
    {
     "name": "stderr",
     "output_type": "stream",
     "text": [
      "50it [00:02, 22.36it/s]\n"
     ]
    },
    {
     "name": "stdout",
     "output_type": "stream",
     "text": [
      "{'psnr_mean': 36.07677906808241, 'psnr_std': 5.5678416595541576, 'time_mean': 0.028650541305541993, 'time_std': 0.009735113960147325}\n",
      "INTER_AREA INTER_NEAREST\n"
     ]
    },
    {
     "name": "stderr",
     "output_type": "stream",
     "text": [
      "50it [00:02, 22.37it/s]\n"
     ]
    },
    {
     "name": "stdout",
     "output_type": "stream",
     "text": [
      "{'psnr_mean': 34.24488380777067, 'psnr_std': 4.564733033916409, 'time_mean': 0.027912707328796388, 'time_std': 0.008723845932457798}\n",
      "INTER_AREA INTER_LANCZOS4\n"
     ]
    },
    {
     "name": "stderr",
     "output_type": "stream",
     "text": [
      "50it [00:02, 17.81it/s]\n"
     ]
    },
    {
     "name": "stdout",
     "output_type": "stream",
     "text": [
      "{'psnr_mean': 36.156532855081146, 'psnr_std': 5.578780077261077, 'time_mean': 0.029025239944458006, 'time_std': 0.009666186039810667}\n",
      "INTER_AREA INTER_LINEAR_EXACT\n"
     ]
    },
    {
     "name": "stderr",
     "output_type": "stream",
     "text": [
      "50it [00:02, 20.22it/s]\n"
     ]
    },
    {
     "name": "stdout",
     "output_type": "stream",
     "text": [
      "{'psnr_mean': 35.47054629098174, 'psnr_std': 5.46088732088183, 'time_mean': 0.030905332565307617, 'time_std': 0.009579332900098523}\n",
      "INTER_AREA INTER_NEAREST_EXACT\n"
     ]
    },
    {
     "name": "stderr",
     "output_type": "stream",
     "text": [
      "50it [00:02, 20.86it/s]\n"
     ]
    },
    {
     "name": "stdout",
     "output_type": "stream",
     "text": [
      "{'psnr_mean': 34.41073997543038, 'psnr_std': 4.697880057738437, 'time_mean': 0.030565156936645507, 'time_std': 0.01006303160473994}\n",
      "INTER_AREA INTER_BITS\n"
     ]
    },
    {
     "name": "stderr",
     "output_type": "stream",
     "text": [
      "50it [00:02, 20.86it/s]\n"
     ]
    },
    {
     "name": "stdout",
     "output_type": "stream",
     "text": [
      "{'psnr_mean': 35.47054629098174, 'psnr_std': 5.46088732088183, 'time_mean': 0.029208674430847167, 'time_std': 0.008979191254161599}\n",
      "INTER_AREA INTER_BITS2\n"
     ]
    },
    {
     "name": "stderr",
     "output_type": "stream",
     "text": [
      "50it [00:02, 22.52it/s]\n"
     ]
    },
    {
     "name": "stdout",
     "output_type": "stream",
     "text": [
      "{'psnr_mean': 36.07677906808241, 'psnr_std': 5.5678416595541576, 'time_mean': 0.028345279693603516, 'time_std': 0.008786037531763765}\n",
      "INTER_AREA INTER_AREA\n"
     ]
    },
    {
     "name": "stderr",
     "output_type": "stream",
     "text": [
      "50it [00:02, 21.67it/s]"
     ]
    },
    {
     "name": "stdout",
     "output_type": "stream",
     "text": [
      "{'psnr_mean': 34.854101032798866, 'psnr_std': 4.981452770051216, 'time_mean': 0.02906826972961426, 'time_std': 0.008864168183807026}\n"
     ]
    },
    {
     "name": "stderr",
     "output_type": "stream",
     "text": [
      "\n"
     ]
    }
   ],
   "source": [
    "ret = {}\n",
    "for down_method_name in DOWN_METHODS:\n",
    "    for up_method_name in UP_METHODS:\n",
    "        print(down_method_name, up_method_name)\n",
    "        down_method = getattr(cv2, down_method_name)\n",
    "        up_method = getattr(cv2, up_method_name)\n",
    "        psnr_mean, psnr_std, time_mean, time_std = test_on_imgs(imgs, down_inter_method = down_method, up_inter_method=up_method, max_size = MAX_SIZE)\n",
    "        item = {\n",
    "            'psnr_mean': psnr_mean,\n",
    "            'psnr_std': psnr_std,\n",
    "            'time_mean': time_mean,\n",
    "            'time_std': time_std\n",
    "        }\n",
    "        print(item)\n",
    "        ret.setdefault(down_method_name, {})[up_method_name] = item"
   ]
  },
  {
   "cell_type": "code",
   "execution_count": null,
   "id": "7962644e",
   "metadata": {},
   "outputs": [],
   "source": []
  },
  {
   "cell_type": "code",
   "execution_count": 27,
   "id": "1aedfdce",
   "metadata": {},
   "outputs": [
    {
     "data": {
      "text/plain": [
       "361.20199909921956"
      ]
     },
     "execution_count": 27,
     "metadata": {},
     "output_type": "execute_result"
    }
   ],
   "source": [
    "cv2.PSNR(img, img)"
   ]
  },
  {
   "cell_type": "code",
   "execution_count": 28,
   "id": "051b6d3d",
   "metadata": {},
   "outputs": [
    {
     "data": {
      "text/plain": [
       "361.20199909921956"
      ]
     },
     "execution_count": 28,
     "metadata": {},
     "output_type": "execute_result"
    }
   ],
   "source": [
    "cv2.PSNR(np.ones((2000, 2000)), np.ones((2000, 2000)))"
   ]
  },
  {
   "cell_type": "code",
   "execution_count": 29,
   "id": "7d8d7e25",
   "metadata": {},
   "outputs": [
    {
     "data": {
      "text/plain": [
       "361.20199909921956"
      ]
     },
     "execution_count": 29,
     "metadata": {},
     "output_type": "execute_result"
    }
   ],
   "source": [
    "cv2.PSNR(np.zeros((2000, 2000)), np.zeros((2000, 2000)))"
   ]
  },
  {
   "cell_type": "code",
   "execution_count": 30,
   "id": "afd07cd4",
   "metadata": {},
   "outputs": [],
   "source": [
    "d = {}\n",
    "for down_method_name, v1 in ret.items():\n",
    "    temp = [(k,v) for k, v in v1.items()]\n",
    "    temp.sort(key = lambda x: x[1]['psnr_mean'], reverse = True)\n",
    "    d[down_method_name] = temp[0]"
   ]
  },
  {
   "cell_type": "markdown",
   "id": "a520cb1b",
   "metadata": {},
   "source": [
    "### Results\n",
    "- AREA:\n",
    "    + 416: 47 +- 28 ms\n",
    "    + 640: 29 +- 9\n",
    "- LINEAR\n",
    "    + 416: 1.2 +-0.8 ms\n",
    "    + 640: 1.3 +-0.8 ms\n",
    "- LINEAR EXACT:\n",
    "    + 416: 1.9 +- 0.6 ms\n",
    "    + 640: 2.2 +-0.5 ms\n",
    "- CUBIC\n",
    "    + 416: 0.8 +- 0.5 ms\n",
    "    + 640: 1.9 +- 1.0 ms"
   ]
  },
  {
   "cell_type": "code",
   "execution_count": 31,
   "id": "dfac7fd1",
   "metadata": {},
   "outputs": [
    {
     "data": {
      "text/plain": [
       "[('INTER_AREA',\n",
       "  'INTER_LANCZOS4',\n",
       "  {'psnr_mean': 36.156532855081146,\n",
       "   'psnr_std': 5.578780077261077,\n",
       "   'time_mean': 0.029025239944458006,\n",
       "   'time_std': 0.009666186039810667}),\n",
       " ('INTER_LINEAR_EXACT',\n",
       "  'INTER_LINEAR_EXACT',\n",
       "  {'psnr_mean': 35.18274839001916,\n",
       "   'psnr_std': 5.578821294615943,\n",
       "   'time_mean': 0.002215018272399902,\n",
       "   'time_std': 0.0005492360048967448}),\n",
       " ('INTER_BITS',\n",
       "  'INTER_LINEAR_EXACT',\n",
       "  {'psnr_mean': 35.18274839001916,\n",
       "   'psnr_std': 5.578821294615943,\n",
       "   'time_mean': 0.002053065299987793,\n",
       "   'time_std': 0.00036337908583282554}),\n",
       " ('INTER_LINEAR',\n",
       "  'INTER_LINEAR_EXACT',\n",
       "  {'psnr_mean': 35.17824584755071,\n",
       "   'psnr_std': 5.573475322722324,\n",
       "   'time_mean': 0.0013345813751220704,\n",
       "   'time_std': 0.0008717576946383272}),\n",
       " ('INTER_CUBIC',\n",
       "  'INTER_LINEAR_EXACT',\n",
       "  {'psnr_mean': 34.92353300669888,\n",
       "   'psnr_std': 5.607717233316001,\n",
       "   'time_mean': 0.0019814205169677735,\n",
       "   'time_std': 0.001095720139731244}),\n",
       " ('INTER_BITS2',\n",
       "  'INTER_LINEAR_EXACT',\n",
       "  {'psnr_mean': 34.92353300669888,\n",
       "   'psnr_std': 5.607717233316001,\n",
       "   'time_mean': 0.00158113956451416,\n",
       "   'time_std': 0.0005651728450412052}),\n",
       " ('INTER_LANCZOS4',\n",
       "  'INTER_LINEAR_EXACT',\n",
       "  {'psnr_mean': 34.85817121341187,\n",
       "   'psnr_std': 5.605249956649654,\n",
       "   'time_mean': 0.017177786827087402,\n",
       "   'time_std': 0.0038602418618548153}),\n",
       " ('INTER_NEAREST_EXACT',\n",
       "  'INTER_LINEAR_EXACT',\n",
       "  {'psnr_mean': 34.65138783081354,\n",
       "   'psnr_std': 5.5622940588995125,\n",
       "   'time_mean': 0.0006631326675415039,\n",
       "   'time_std': 0.000235432275331653}),\n",
       " ('INTER_NEAREST',\n",
       "  'INTER_LINEAR_EXACT',\n",
       "  {'psnr_mean': 31.44680628132751,\n",
       "   'psnr_std': 4.433027912267261,\n",
       "   'time_mean': 0.0008319854736328125,\n",
       "   'time_std': 0.0006351202004698462})]"
      ]
     },
     "execution_count": 31,
     "metadata": {},
     "output_type": "execute_result"
    }
   ],
   "source": [
    "d2 = [(k, v[0], v[1]) for k, v in d.items()]\n",
    "d2.sort(key = lambda x: x[2]['psnr_mean'], reverse = True)\n",
    "d2"
   ]
  },
  {
   "cell_type": "code",
   "execution_count": null,
   "id": "9d8b0391",
   "metadata": {},
   "outputs": [],
   "source": []
  },
  {
   "cell_type": "code",
   "execution_count": 32,
   "id": "65235f68",
   "metadata": {},
   "outputs": [
    {
     "data": {
      "text/plain": [
       "{'INTER_LINEAR': {'psnr_mean': 35.46514054349144,\n",
       "  'psnr_std': 5.450918063657956,\n",
       "  'time_mean': 0.028186535835266112,\n",
       "  'time_std': 0.009063185792128947},\n",
       " 'INTER_CUBIC': {'psnr_mean': 36.07677906808241,\n",
       "  'psnr_std': 5.5678416595541576,\n",
       "  'time_mean': 0.028650541305541993,\n",
       "  'time_std': 0.009735113960147325},\n",
       " 'INTER_NEAREST': {'psnr_mean': 34.24488380777067,\n",
       "  'psnr_std': 4.564733033916409,\n",
       "  'time_mean': 0.027912707328796388,\n",
       "  'time_std': 0.008723845932457798},\n",
       " 'INTER_LANCZOS4': {'psnr_mean': 36.156532855081146,\n",
       "  'psnr_std': 5.578780077261077,\n",
       "  'time_mean': 0.029025239944458006,\n",
       "  'time_std': 0.009666186039810667},\n",
       " 'INTER_LINEAR_EXACT': {'psnr_mean': 35.47054629098174,\n",
       "  'psnr_std': 5.46088732088183,\n",
       "  'time_mean': 0.030905332565307617,\n",
       "  'time_std': 0.009579332900098523},\n",
       " 'INTER_NEAREST_EXACT': {'psnr_mean': 34.41073997543038,\n",
       "  'psnr_std': 4.697880057738437,\n",
       "  'time_mean': 0.030565156936645507,\n",
       "  'time_std': 0.01006303160473994},\n",
       " 'INTER_BITS': {'psnr_mean': 35.47054629098174,\n",
       "  'psnr_std': 5.46088732088183,\n",
       "  'time_mean': 0.029208674430847167,\n",
       "  'time_std': 0.008979191254161599},\n",
       " 'INTER_BITS2': {'psnr_mean': 36.07677906808241,\n",
       "  'psnr_std': 5.5678416595541576,\n",
       "  'time_mean': 0.028345279693603516,\n",
       "  'time_std': 0.008786037531763765},\n",
       " 'INTER_AREA': {'psnr_mean': 34.854101032798866,\n",
       "  'psnr_std': 4.981452770051216,\n",
       "  'time_mean': 0.02906826972961426,\n",
       "  'time_std': 0.008864168183807026}}"
      ]
     },
     "execution_count": 32,
     "metadata": {},
     "output_type": "execute_result"
    }
   ],
   "source": [
    "ret['INTER_AREA']"
   ]
  },
  {
   "cell_type": "code",
   "execution_count": null,
   "id": "11c72b8a",
   "metadata": {},
   "outputs": [],
   "source": []
  },
  {
   "cell_type": "code",
   "execution_count": null,
   "id": "8896454a",
   "metadata": {},
   "outputs": [],
   "source": []
  },
  {
   "cell_type": "code",
   "execution_count": null,
   "id": "bb0cfb70",
   "metadata": {},
   "outputs": [],
   "source": []
  },
  {
   "cell_type": "code",
   "execution_count": null,
   "id": "ada39ba5",
   "metadata": {},
   "outputs": [],
   "source": []
  },
  {
   "cell_type": "code",
   "execution_count": null,
   "id": "0a64fdaa",
   "metadata": {},
   "outputs": [],
   "source": []
  },
  {
   "cell_type": "code",
   "execution_count": null,
   "id": "e54c9203",
   "metadata": {},
   "outputs": [],
   "source": []
  },
  {
   "cell_type": "code",
   "execution_count": null,
   "id": "94703494",
   "metadata": {},
   "outputs": [],
   "source": []
  },
  {
   "cell_type": "code",
   "execution_count": null,
   "id": "6a9c150d",
   "metadata": {},
   "outputs": [],
   "source": []
  },
  {
   "cell_type": "code",
   "execution_count": null,
   "id": "a7c32acd",
   "metadata": {},
   "outputs": [],
   "source": []
  },
  {
   "cell_type": "code",
   "execution_count": null,
   "id": "20c5bb87",
   "metadata": {},
   "outputs": [],
   "source": []
  },
  {
   "cell_type": "code",
   "execution_count": null,
   "id": "ff623a08",
   "metadata": {},
   "outputs": [],
   "source": []
  },
  {
   "cell_type": "code",
   "execution_count": null,
   "id": "443372ef",
   "metadata": {},
   "outputs": [],
   "source": []
  },
  {
   "cell_type": "code",
   "execution_count": null,
   "id": "4ea55366",
   "metadata": {},
   "outputs": [],
   "source": []
  },
  {
   "cell_type": "code",
   "execution_count": null,
   "id": "22935c3b",
   "metadata": {},
   "outputs": [],
   "source": []
  },
  {
   "cell_type": "code",
   "execution_count": null,
   "id": "6e8f206a",
   "metadata": {},
   "outputs": [],
   "source": []
  },
  {
   "cell_type": "code",
   "execution_count": null,
   "id": "b2307cf1",
   "metadata": {},
   "outputs": [],
   "source": []
  },
  {
   "cell_type": "code",
   "execution_count": null,
   "id": "908a104e",
   "metadata": {},
   "outputs": [],
   "source": []
  },
  {
   "cell_type": "code",
   "execution_count": null,
   "id": "26fef2de",
   "metadata": {},
   "outputs": [],
   "source": []
  },
  {
   "cell_type": "code",
   "execution_count": null,
   "id": "ec7844a3",
   "metadata": {},
   "outputs": [],
   "source": []
  },
  {
   "cell_type": "code",
   "execution_count": null,
   "id": "4178fa39",
   "metadata": {},
   "outputs": [],
   "source": []
  }
 ],
 "metadata": {
  "kernelspec": {
   "display_name": "Python 3 (ipykernel)",
   "language": "python",
   "name": "python3"
  },
  "language_info": {
   "codemirror_mode": {
    "name": "ipython",
    "version": 3
   },
   "file_extension": ".py",
   "mimetype": "text/x-python",
   "name": "python",
   "nbconvert_exporter": "python",
   "pygments_lexer": "ipython3",
   "version": "3.10.8"
  }
 },
 "nbformat": 4,
 "nbformat_minor": 5
}
