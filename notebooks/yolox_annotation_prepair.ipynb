{
 "cells": [
  {
   "cell_type": "code",
   "execution_count": 4,
   "id": "58c9c21c",
   "metadata": {},
   "outputs": [],
   "source": [
    "import os\n",
    "import cv2\n",
    "import numpy as np\n",
    "import shutil"
   ]
  },
  {
   "cell_type": "code",
   "execution_count": null,
   "id": "35ad430f",
   "metadata": {},
   "outputs": [],
   "source": []
  },
  {
   "cell_type": "code",
   "execution_count": 11,
   "id": "f01f12aa",
   "metadata": {},
   "outputs": [],
   "source": [
    "# SRC_IMG_DIR = '../datasets/export/uint8_png/'\n",
    "# YOLO_IMG_DIR = '../datasets/roi_det/yolo/train/images/'\n",
    "# YOLO_LABEL_DIR = '../datasets/roi_det/yolo/train/labels/'\n",
    "\n",
    "# SAVE_IMG_DIR = '../datasets/roi_det/v2/train/images'\n",
    "# SAVE_LABEL_DIR = '../datasets/roi_det/v2/train/labels'\n",
    "\n",
    "\n",
    "SRC_IMG_DIR = '../datasets/export/uint8_png/'\n",
    "YOLO_IMG_DIR = '../datasets/roi_det/yolo/val/images/'\n",
    "YOLO_LABEL_DIR = '../datasets/roi_det/yolo/val/labels/'\n",
    "\n",
    "SAVE_IMG_DIR = '../datasets/roi_det/v2/val/images'\n",
    "SAVE_LABEL_DIR = '../datasets/roi_det/v2/val/labels'\n",
    "\n",
    "\n",
    "os.makedirs(SAVE_IMG_DIR, exist_ok=True)\n",
    "os.makedirs(SAVE_LABEL_DIR, exist_ok=True)"
   ]
  },
  {
   "cell_type": "code",
   "execution_count": 12,
   "id": "1c2bef32",
   "metadata": {},
   "outputs": [],
   "source": [
    "img_names = os.listdir(YOLO_IMG_DIR)\n",
    "\n",
    "for img_name in img_names:\n",
    "    name = img_name.split('.')[0]\n",
    "    patient_id, image_id = name.split('_')\n",
    "    src_img_name = f'{patient_id}@{image_id}.png'\n",
    "    src_img_path = os.path.join(SRC_IMG_DIR, src_img_name)\n",
    "    dst_img_path = os.path.join(SAVE_IMG_DIR, src_img_name)\n",
    "    shutil.copy2(src_img_path, dst_img_path)\n",
    "    \n",
    "    src_label_name =  name + '.txt'\n",
    "    src_label_path = os.path.join(YOLO_LABEL_DIR, src_label_name)\n",
    "    dst_label_path = os.path.join(SAVE_LABEL_DIR, f'{patient_id}@{image_id}.txt' )\n",
    "    shutil.copy2(src_label_path, dst_label_path)\n",
    "    "
   ]
  },
  {
   "cell_type": "code",
   "execution_count": null,
   "id": "7c457918",
   "metadata": {},
   "outputs": [],
   "source": []
  },
  {
   "cell_type": "code",
   "execution_count": null,
   "id": "d49d7f50",
   "metadata": {},
   "outputs": [],
   "source": []
  },
  {
   "cell_type": "code",
   "execution_count": 17,
   "id": "19e46931",
   "metadata": {},
   "outputs": [],
   "source": [
    "SRC_IMG_DIR = '../datasets/export/uint8_png/'\n",
    "YOLO_IMG_DIR = '../../rsna_old/roi_det/YOLOX/runs/detect/exp0/to_be_labeled/'\n",
    "YOLO_LABEL_DIR = '../../rsna_old/roi_det/YOLOX/runs/detect/exp0/coco_txt/'\n",
    "\n",
    "SAVE_IMG_DIR = '../datasets/roi_det/v2/to_be_labeled_images'\n",
    "SAVE_LABEL_DIR = '../datasets/roi_det/v2/to_be_labeled_labels'\n",
    "\n",
    "\n",
    "os.makedirs(SAVE_IMG_DIR, exist_ok=True)\n",
    "os.makedirs(SAVE_LABEL_DIR, exist_ok=True)"
   ]
  },
  {
   "cell_type": "code",
   "execution_count": 18,
   "id": "6994f2e9",
   "metadata": {},
   "outputs": [
    {
     "name": "stdout",
     "output_type": "stream",
     "text": [
      "7010@1966077241.png\n",
      "22253@47808467.png\n",
      "50203@643148078.png\n"
     ]
    }
   ],
   "source": [
    "img_names = os.listdir(YOLO_IMG_DIR)\n",
    "\n",
    "for img_name in img_names:\n",
    "    src_img_name = img_name\n",
    "    src_img_path = os.path.join(SRC_IMG_DIR, src_img_name)\n",
    "    dst_img_path = os.path.join(SAVE_IMG_DIR, src_img_name)\n",
    "    shutil.copy2(src_img_path, dst_img_path)\n",
    "    \n",
    "    src_label_name =  img_name.replace('.png', '.txt')\n",
    "    src_label_path = os.path.join(YOLO_LABEL_DIR, src_label_name)\n",
    "    dst_label_path = os.path.join(SAVE_LABEL_DIR, src_label_name )\n",
    "    try:\n",
    "        shutil.copy2(src_label_path, dst_label_path)\n",
    "    except:\n",
    "        print(img_name)"
   ]
  },
  {
   "cell_type": "code",
   "execution_count": null,
   "id": "7d070b20",
   "metadata": {},
   "outputs": [],
   "source": []
  },
  {
   "cell_type": "code",
   "execution_count": null,
   "id": "df20d31e",
   "metadata": {},
   "outputs": [],
   "source": []
  },
  {
   "cell_type": "code",
   "execution_count": null,
   "id": "87390e72",
   "metadata": {},
   "outputs": [],
   "source": []
  },
  {
   "cell_type": "code",
   "execution_count": null,
   "id": "0d6932af",
   "metadata": {},
   "outputs": [],
   "source": []
  },
  {
   "cell_type": "code",
   "execution_count": 21,
   "id": "3bb8324a",
   "metadata": {},
   "outputs": [],
   "source": [
    "LABEL_DIR = '/home/dangnh36/downloads/oh/to_be_labeled_labels/'\n",
    "SAVE_LABEL_DIR = '/home/dangnh36/downloads/oh/save_labels'\n",
    "os.makedirs(SAVE_LABEL_DIR, exist_ok = True)\n",
    "\n",
    "names = os.listdir(LABEL_DIR)\n",
    "for name in names:\n",
    "    if name == 'classes.txt':\n",
    "        continue\n",
    "    path = os.path.join(LABEL_DIR, name)\n",
    "    save_path = os.path.join(SAVE_LABEL_DIR, name)\n",
    "    with open(path, 'r') as f:\n",
    "        content = f.read()\n",
    "    lines = [line for line in content.split('\\n') if line]\n",
    "    assert len(lines) == 1, len(lines)\n",
    "    line = lines[0]\n",
    "    cls, x, y, w, h = line.split()\n",
    "    new_line = ' '.join(['0', x, y, w, h])\n",
    "    with open(save_path, 'w') as f:\n",
    "        f.write(new_line)\n",
    "        "
   ]
  },
  {
   "cell_type": "code",
   "execution_count": 22,
   "id": "1b596ca8",
   "metadata": {},
   "outputs": [],
   "source": [
    "val = ['1511@764545189.png', '21161@782712243.png', '46373@689012688.png']"
   ]
  },
  {
   "cell_type": "code",
   "execution_count": 23,
   "id": "edc429b0",
   "metadata": {},
   "outputs": [
    {
     "data": {
      "text/plain": [
       "'1511@764545189.png 21161@782712243.png 46373@689012688.png'"
      ]
     },
     "execution_count": 23,
     "metadata": {},
     "output_type": "execute_result"
    }
   ],
   "source": [
    "' '.join(val)"
   ]
  },
  {
   "cell_type": "code",
   "execution_count": null,
   "id": "6cb50077",
   "metadata": {},
   "outputs": [],
   "source": []
  }
 ],
 "metadata": {
  "kernelspec": {
   "display_name": "Python 3 (ipykernel)",
   "language": "python",
   "name": "python3"
  },
  "language_info": {
   "codemirror_mode": {
    "name": "ipython",
    "version": 3
   },
   "file_extension": ".py",
   "mimetype": "text/x-python",
   "name": "python",
   "nbconvert_exporter": "python",
   "pygments_lexer": "ipython3",
   "version": "3.10.8"
  }
 },
 "nbformat": 4,
 "nbformat_minor": 5
}
