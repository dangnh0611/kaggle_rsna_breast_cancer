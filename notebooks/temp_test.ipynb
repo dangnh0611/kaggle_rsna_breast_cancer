{
 "cells": [
  {
   "cell_type": "code",
   "execution_count": 2,
   "id": "5b0387ad",
   "metadata": {},
   "outputs": [],
   "source": [
    "import torch\n",
    "import torch.nn as nn\n",
    "import torch.nn.functional as F"
   ]
  },
  {
   "cell_type": "code",
   "execution_count": 37,
   "id": "c4be1308",
   "metadata": {},
   "outputs": [],
   "source": [
    "class LabelSmoothingCrossEntropy(nn.Module):\n",
    "    \"\"\" NLL loss with label smoothing.\n",
    "    \"\"\"\n",
    "    def __init__(self, smoothing=0.1):\n",
    "        super(LabelSmoothingCrossEntropy, self).__init__()\n",
    "        assert smoothing < 1.0\n",
    "        self.smoothing = smoothing\n",
    "        self.confidence = 1. - smoothing\n",
    "\n",
    "    def forward(self, x: torch.Tensor, target: torch.Tensor) -> torch.Tensor:\n",
    "        logprobs = F.log_softmax(x, dim=-1)\n",
    "        print('logprobs:', logprobs)\n",
    "#         print('softmax:', torch.softmax(x, dim = 1))\n",
    "#         print('confirm logprobs:', torch.log(torch.softmax(x, dim = 1)))\n",
    "        nll_loss = -logprobs.gather(dim=-1, index=target.unsqueeze(1))\n",
    "        print(target.unsqueeze(1))\n",
    "        print('nll_loss:', nll_loss)\n",
    "        nll_loss = nll_loss.squeeze(1)\n",
    "        smooth_loss = -logprobs.mean(dim=-1)\n",
    "        print('smooth loss:', smooth_loss)\n",
    "        loss = self.confidence * nll_loss + self.smoothing * smooth_loss\n",
    "        return loss.mean()\n"
   ]
  },
  {
   "cell_type": "code",
   "execution_count": 38,
   "id": "4885b107",
   "metadata": {},
   "outputs": [],
   "source": [
    "loss = LabelSmoothingCrossEntropy(smoothing = 0.2)"
   ]
  },
  {
   "cell_type": "code",
   "execution_count": 39,
   "id": "42184238",
   "metadata": {},
   "outputs": [],
   "source": [
    "preds = torch.Tensor([[-9, 12], [0, 99], [50, 5], [0, 0], [999, -999]]).float()\n",
    "targets = torch.Tensor([1, 1, 0, 1, 1]).long()"
   ]
  },
  {
   "cell_type": "code",
   "execution_count": 40,
   "id": "31e237c7",
   "metadata": {},
   "outputs": [
    {
     "name": "stdout",
     "output_type": "stream",
     "text": [
      "logprobs: tensor([[-2.1000e+01,  0.0000e+00],\n",
      "        [-9.9000e+01,  0.0000e+00],\n",
      "        [ 0.0000e+00, -4.5000e+01],\n",
      "        [-6.9315e-01, -6.9315e-01],\n",
      "        [ 0.0000e+00, -1.9980e+03]])\n",
      "tensor([[1],\n",
      "        [1],\n",
      "        [0],\n",
      "        [1],\n",
      "        [1]])\n",
      "nll_loss: tensor([[-0.0000e+00],\n",
      "        [-0.0000e+00],\n",
      "        [-0.0000e+00],\n",
      "        [6.9315e-01],\n",
      "        [1.9980e+03]])\n",
      "smooth loss: tensor([1.0500e+01, 4.9500e+01, 2.2500e+01, 6.9315e-01, 9.9900e+02])\n"
     ]
    },
    {
     "data": {
      "text/plain": [
       "tensor(363.0786)"
      ]
     },
     "execution_count": 40,
     "metadata": {},
     "output_type": "execute_result"
    }
   ],
   "source": [
    "loss(preds, targets)"
   ]
  },
  {
   "cell_type": "code",
   "execution_count": null,
   "id": "69b6b8ee",
   "metadata": {},
   "outputs": [],
   "source": []
  },
  {
   "cell_type": "code",
   "execution_count": null,
   "id": "ec287396",
   "metadata": {},
   "outputs": [],
   "source": []
  },
  {
   "cell_type": "code",
   "execution_count": null,
   "id": "f92867b5",
   "metadata": {},
   "outputs": [],
   "source": []
  }
 ],
 "metadata": {
  "kernelspec": {
   "display_name": "Python 3 (ipykernel)",
   "language": "python",
   "name": "python3"
  },
  "language_info": {
   "codemirror_mode": {
    "name": "ipython",
    "version": 3
   },
   "file_extension": ".py",
   "mimetype": "text/x-python",
   "name": "python",
   "nbconvert_exporter": "python",
   "pygments_lexer": "ipython3",
   "version": "3.10.8"
  }
 },
 "nbformat": 4,
 "nbformat_minor": 5
}
