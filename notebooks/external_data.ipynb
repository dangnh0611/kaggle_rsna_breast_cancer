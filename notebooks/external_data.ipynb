{
 "cells": [
  {
   "cell_type": "code",
   "execution_count": 3,
   "id": "5aa52cea",
   "metadata": {},
   "outputs": [],
   "source": [
    "import os\n",
    "import numpy as np\n",
    "import pandas as pd\n",
    "import sys\n",
    "from tqdm import tqdm\n",
    "from pydicom import dcmread\n",
    "import shutil\n",
    "import subprocess as sp\n",
    "\n",
    "pd.set_option('display.max_columns', None)\n",
    "pd.set_option('display.max_rows', 5)"
   ]
  },
  {
   "cell_type": "code",
   "execution_count": 4,
   "id": "87f8fdb1",
   "metadata": {},
   "outputs": [],
   "source": [
    "def get_dicom_meta_from_file(dicom_root_dir, patient_id, img_id, extension = 'dcm'):\n",
    "    dicom_path = os.path.join(dicom_root_dir, f'{patient_id}/{img_id}.{extension}')\n",
    "    return dcmread(dicom_path, stop_before_pixels=True)\n",
    "\n",
    "\n",
    "def get_dicom_meta(dicom_root_dir, dicom_df, extension = 'dcm'):\n",
    "    dicom_data = dict()\n",
    "    keywords = set()\n",
    "    dicom_df = dicom_df[[\"patient_id\", \"image_id\"]].copy()\n",
    "\n",
    "    for index, row in tqdm(dicom_df.iterrows()):\n",
    "        patient_id = row[\"patient_id\"]\n",
    "        image_id = row[\"image_id\"]\n",
    "        dicom = get_dicom_meta_from_file(dicom_root_dir, patient_id, image_id, extension)\n",
    "        assert dicom.get('ModalityLUTSequence', None) is None\n",
    "        if patient_id not in dicom_data:\n",
    "            dicom_data[patient_id] = dict()\n",
    "        if image_id not in dicom_data[patient_id]:\n",
    "            dicom_data[patient_id][image_id] = dict()\n",
    "        for feature in dicom.iterall():\n",
    "            dicom_data[patient_id][image_id][feature.keyword] = feature.value\n",
    "            keywords.add(feature.keyword)\n",
    "    for keyword in keywords:\n",
    "        dicom_df[keyword] = dicom_df[[\"patient_id\", \"image_id\"]].apply(lambda x: np.nan if keyword not in dicom_data[x.patient_id][x.image_id] else dicom_data[x.patient_id][x.image_id][keyword], axis=1)\n",
    "    print(\": Keywords extracted from dicom files:\")\n",
    "    for keyword in keywords:\n",
    "        print(\"--> {}\".format(keyword))\n",
    "    return dicom_df"
   ]
  },
  {
   "cell_type": "code",
   "execution_count": null,
   "id": "da7bd69d",
   "metadata": {},
   "outputs": [],
   "source": []
  },
  {
   "cell_type": "code",
   "execution_count": null,
   "id": "dae1d62a",
   "metadata": {},
   "outputs": [],
   "source": []
  },
  {
   "cell_type": "markdown",
   "id": "babcf3e8",
   "metadata": {},
   "source": [
    "### Competition data "
   ]
  },
  {
   "cell_type": "code",
   "execution_count": null,
   "id": "a4b31c4f",
   "metadata": {},
   "outputs": [],
   "source": [
    "comp_df = pd.read_csv('/home/dangnh36/datasets/.comp/rsna/cv/v1/train_fold_0.csv')\n",
    "print(comp_df.columns)\n",
    "comp_df"
   ]
  },
  {
   "cell_type": "code",
   "execution_count": null,
   "id": "051acb29",
   "metadata": {},
   "outputs": [],
   "source": []
  },
  {
   "cell_type": "code",
   "execution_count": null,
   "id": "2608527b",
   "metadata": {},
   "outputs": [],
   "source": []
  },
  {
   "cell_type": "markdown",
   "id": "f2fda339",
   "metadata": {},
   "source": [
    "### Vindr"
   ]
  },
  {
   "cell_type": "code",
   "execution_count": null,
   "id": "b32a9cda",
   "metadata": {},
   "outputs": [],
   "source": [
    "ROOT_DIR = '/home/dangnh36/datasets/.comp/rsna/external/vindr/'\n",
    "DCM_ROOT_DIR = os.path.join(ROOT_DIR, 'images')"
   ]
  },
  {
   "cell_type": "code",
   "execution_count": null,
   "id": "d6e0b3ff",
   "metadata": {},
   "outputs": [],
   "source": [
    "df = pd.read_csv(os.path.join(ROOT_DIR, 'breast-level_annotations.csv'))\n",
    "df"
   ]
  },
  {
   "cell_type": "code",
   "execution_count": null,
   "id": "a482c9a3",
   "metadata": {},
   "outputs": [],
   "source": [
    "df.columns"
   ]
  },
  {
   "cell_type": "code",
   "execution_count": null,
   "id": "ef04918d",
   "metadata": {},
   "outputs": [],
   "source": [
    "df.rename(columns = {'study_id': 'patient_id', 'view_position': 'view',\n",
    "                     'breast_birads': 'BIRADS', 'breast_density': 'density'}, inplace = True)\n",
    "df.BIRADS = df.BIRADS.apply(lambda x: int(x.split()[-1]))\n",
    "df.density = df.density.apply(lambda x: x.split()[-1] if type(x) == str else x)\n",
    "df"
   ]
  },
  {
   "cell_type": "code",
   "execution_count": null,
   "id": "9c89b981",
   "metadata": {},
   "outputs": [],
   "source": [
    "df.density.value_counts()"
   ]
  },
  {
   "cell_type": "code",
   "execution_count": null,
   "id": "678083e6",
   "metadata": {},
   "outputs": [],
   "source": [
    "df.BIRADS.value_counts()"
   ]
  },
  {
   "cell_type": "code",
   "execution_count": null,
   "id": "3f6a90c6",
   "metadata": {},
   "outputs": [],
   "source": [
    "meta_df = get_dicom_meta(DCM_ROOT_DIR, df, extension = 'dicom')"
   ]
  },
  {
   "cell_type": "code",
   "execution_count": null,
   "id": "7a2c3b11",
   "metadata": {},
   "outputs": [],
   "source": [
    "meta_df"
   ]
  },
  {
   "cell_type": "code",
   "execution_count": null,
   "id": "82c1fe8f",
   "metadata": {},
   "outputs": [],
   "source": [
    "meta_df[~meta_df.VOILUTSequence.isna()]"
   ]
  },
  {
   "cell_type": "code",
   "execution_count": null,
   "id": "b2f8bb60",
   "metadata": {},
   "outputs": [],
   "source": [
    "arr = np.array(meta_df.at[19965, 'LUTData'])\n",
    "arr"
   ]
  },
  {
   "cell_type": "code",
   "execution_count": null,
   "id": "5fe41177",
   "metadata": {},
   "outputs": [],
   "source": [
    "arr.max(), arr.mean(), arr.min()"
   ]
  },
  {
   "cell_type": "code",
   "execution_count": null,
   "id": "b0b77116",
   "metadata": {},
   "outputs": [],
   "source": [
    "list(set(arr))"
   ]
  },
  {
   "cell_type": "code",
   "execution_count": null,
   "id": "de2ec462",
   "metadata": {},
   "outputs": [],
   "source": [
    "arr[2048]"
   ]
  },
  {
   "cell_type": "code",
   "execution_count": null,
   "id": "4dd0b239",
   "metadata": {},
   "outputs": [],
   "source": [
    "meta_df.to_csv(os.path.join(ROOT_DIR, 'dicom_meta_only.csv'), index = False)"
   ]
  },
  {
   "cell_type": "code",
   "execution_count": null,
   "id": "34d1c354",
   "metadata": {},
   "outputs": [],
   "source": [
    "meta_df.rename(columns = {name:'__' + name for name in meta_df.columns if name != 'image_id'}, inplace = True)\n",
    "merged = pd.merge(\n",
    "    df,\n",
    "    meta_df,\n",
    "    how=\"inner\",\n",
    "    on='image_id',\n",
    "    left_on=None,\n",
    "    right_on=None,\n",
    "    left_index=False,\n",
    "    right_index=False,\n",
    "    sort=False,\n",
    "    suffixes=(\"??\", \"__\"),\n",
    "    copy=True,\n",
    "    indicator=False,\n",
    "    validate='1:1',\n",
    ")\n",
    "merged"
   ]
  },
  {
   "cell_type": "code",
   "execution_count": null,
   "id": "978dd3f6",
   "metadata": {},
   "outputs": [],
   "source": [
    "merged.at[0, '__VOILUTSequence'][1].get('LUTData', None)"
   ]
  },
  {
   "cell_type": "code",
   "execution_count": null,
   "id": "76205fa0",
   "metadata": {},
   "outputs": [],
   "source": [
    "merged.at[0, '__VOILUTSequence'][1].get('LUTData', None)"
   ]
  },
  {
   "cell_type": "code",
   "execution_count": null,
   "id": "dbf77caa",
   "metadata": {},
   "outputs": [],
   "source": [
    "merged.at[0, '__VOILUTSequence'][0].get('LUTData', None)"
   ]
  },
  {
   "cell_type": "code",
   "execution_count": null,
   "id": "9582a958",
   "metadata": {},
   "outputs": [],
   "source": [
    "merged.at[0, '__VOILUTSequence'][2]"
   ]
  },
  {
   "cell_type": "code",
   "execution_count": null,
   "id": "c8b91b5e",
   "metadata": {},
   "outputs": [],
   "source": [
    "merged.columns"
   ]
  },
  {
   "cell_type": "code",
   "execution_count": null,
   "id": "ec7c6720",
   "metadata": {},
   "outputs": [],
   "source": [
    "merged.split.value_counts()"
   ]
  },
  {
   "cell_type": "code",
   "execution_count": null,
   "id": "1a041aa0",
   "metadata": {},
   "outputs": [],
   "source": [
    "merged['__hasVOILUTSequence'] = merged['__VOILUTSequence'].isna()\n",
    "merged['__hasLUTDescriptor'] = merged['__LUTDescriptor'].isna()\n",
    "merged['__hasLUTData'] = merged['__LUTData'].isna()"
   ]
  },
  {
   "cell_type": "code",
   "execution_count": null,
   "id": "ea4e9e74",
   "metadata": {},
   "outputs": [],
   "source": [
    "merged.rename(columns = {'__PatientAge': 'age'}, inplace = True)"
   ]
  },
  {
   "cell_type": "code",
   "execution_count": null,
   "id": "7f021e62",
   "metadata": {},
   "outputs": [],
   "source": []
  },
  {
   "cell_type": "code",
   "execution_count": null,
   "id": "01600246",
   "metadata": {},
   "outputs": [],
   "source": [
    "merged['__PhotometricInterpretation'].value_counts()"
   ]
  },
  {
   "cell_type": "code",
   "execution_count": null,
   "id": "df68b12e",
   "metadata": {},
   "outputs": [],
   "source": [
    "merged['__LUTExplanation'].value_counts()"
   ]
  },
  {
   "cell_type": "code",
   "execution_count": null,
   "id": "f62d7642",
   "metadata": {},
   "outputs": [],
   "source": [
    "merged = merged[['patient_id', 'series_id', 'image_id', 'laterality', 'view', 'age',\n",
    "       'BIRADS', 'density', 'split', '__SmallestImagePixelValue',\n",
    "       '__PixelRepresentation', '__SOPInstanceUID', '__PatientWeight', '__WindowWidth',\n",
    "       '__PixelPaddingValue', '__BodyPartExamined',\n",
    "       '__StudyInstanceUID', '__ViewPosition', '__LargestImagePixelValue',\n",
    "       '__PixelSpacing', '__PixelPaddingRangeLimit',\n",
    "       '__SeriesInstanceUID', '__SamplesPerPixel', '__PresentationLUTShape',\n",
    "                 '__WindowCenterWidthExplanation', '__WindowCenter',\n",
    "       '__ImagerPixelSpacing', '__VOILUTFunction', '__RescaleIntercept', '__RescaleSlope',\n",
    "        '__PhotometricInterpretation', '__Rows', '__Columns',\n",
    "                 '__hasVOILUTSequence', '__hasLUTDescriptor', '__hasLUTData' ]]\n",
    "merged"
   ]
  },
  {
   "cell_type": "code",
   "execution_count": null,
   "id": "74d0fd2c",
   "metadata": {},
   "outputs": [],
   "source": [
    "merged.BIRADS.value_counts()"
   ]
  },
  {
   "cell_type": "code",
   "execution_count": null,
   "id": "2c445112",
   "metadata": {},
   "outputs": [],
   "source": [
    "merged['cancer'] = merged.BIRADS.apply(lambda x: 1 if x == 5 else 0)"
   ]
  },
  {
   "cell_type": "code",
   "execution_count": null,
   "id": "f53dcb48",
   "metadata": {},
   "outputs": [],
   "source": [
    "merged.cancer.value_counts()"
   ]
  },
  {
   "cell_type": "code",
   "execution_count": null,
   "id": "66bced71",
   "metadata": {},
   "outputs": [],
   "source": [
    "merged.to_csv(os.path.join(ROOT_DIR, 'all_labels.csv'), index = False)"
   ]
  },
  {
   "cell_type": "code",
   "execution_count": null,
   "id": "70461c2a",
   "metadata": {},
   "outputs": [],
   "source": []
  },
  {
   "cell_type": "code",
   "execution_count": null,
   "id": "e2253643",
   "metadata": {},
   "outputs": [],
   "source": [
    "import dicomsdl"
   ]
  },
  {
   "cell_type": "code",
   "execution_count": null,
   "id": "209693a8",
   "metadata": {},
   "outputs": [],
   "source": [
    "merged[merged['__hasVOILUTSequence'] == True]"
   ]
  },
  {
   "cell_type": "code",
   "execution_count": null,
   "id": "3e8111fb",
   "metadata": {},
   "outputs": [],
   "source": [
    "dcm = dicomsdl.open('/home/dangnh36/datasets/.comp/rsna/external/vindr/images/b8d273e8601f348d3664778dae0e7e0b/d8125545210c08e1b1793a5af6458ee2.dicom')"
   ]
  },
  {
   "cell_type": "code",
   "execution_count": null,
   "id": "31ab4e95",
   "metadata": {},
   "outputs": [],
   "source": [
    "dcm.VOILUTSequence[0]"
   ]
  },
  {
   "cell_type": "code",
   "execution_count": null,
   "id": "3a779245",
   "metadata": {},
   "outputs": [],
   "source": []
  },
  {
   "cell_type": "code",
   "execution_count": null,
   "id": "5e3abc0a",
   "metadata": {},
   "outputs": [],
   "source": []
  },
  {
   "cell_type": "code",
   "execution_count": null,
   "id": "e4658b8a",
   "metadata": {},
   "outputs": [],
   "source": []
  },
  {
   "cell_type": "code",
   "execution_count": null,
   "id": "04cd2b56",
   "metadata": {},
   "outputs": [],
   "source": []
  },
  {
   "cell_type": "code",
   "execution_count": null,
   "id": "4a75d4ec",
   "metadata": {},
   "outputs": [],
   "source": []
  },
  {
   "cell_type": "code",
   "execution_count": null,
   "id": "e240ed9c",
   "metadata": {},
   "outputs": [],
   "source": []
  },
  {
   "cell_type": "code",
   "execution_count": null,
   "id": "2cac8566",
   "metadata": {},
   "outputs": [],
   "source": []
  },
  {
   "cell_type": "code",
   "execution_count": null,
   "id": "1d1eb4f5",
   "metadata": {},
   "outputs": [],
   "source": []
  },
  {
   "cell_type": "code",
   "execution_count": null,
   "id": "a2bbed1e",
   "metadata": {},
   "outputs": [],
   "source": []
  },
  {
   "cell_type": "markdown",
   "id": "97df3db6",
   "metadata": {},
   "source": [
    "### MiniDDSM"
   ]
  },
  {
   "cell_type": "code",
   "execution_count": null,
   "id": "93d0fa79",
   "metadata": {},
   "outputs": [],
   "source": [
    "ROOT_DIR = '/home/dangnh36/datasets/.comp/rsna/external/miniddsm/'\n",
    "DCM_ROOT_DIR = os.path.join(ROOT_DIR, 'MINI-DDSM-Complete-PNG-16')"
   ]
  },
  {
   "cell_type": "code",
   "execution_count": null,
   "id": "b7ca63c5",
   "metadata": {},
   "outputs": [],
   "source": [
    "df = pd.read_excel(os.path.join(ROOT_DIR, 'Data-MoreThanTwoMasks', 'Data-MoreThanTwoMasks.xlsx'))\n",
    "df"
   ]
  },
  {
   "cell_type": "code",
   "execution_count": null,
   "id": "c64aeddf",
   "metadata": {},
   "outputs": [],
   "source": [
    "df['patient_id'] = df['fileName'].apply(lambda x: x.split('.')[0])\n",
    "df['image_id'] = df['patient_id'] + '@' + df['Side'] + '@' + df['View']\n",
    "df"
   ]
  },
  {
   "cell_type": "code",
   "execution_count": null,
   "id": "e9bab307",
   "metadata": {},
   "outputs": [],
   "source": [
    "df.columns"
   ]
  },
  {
   "cell_type": "code",
   "execution_count": null,
   "id": "68a40f6f",
   "metadata": {},
   "outputs": [],
   "source": [
    "df.patient_id.nunique()"
   ]
  },
  {
   "cell_type": "code",
   "execution_count": null,
   "id": "599f0cf8",
   "metadata": {},
   "outputs": [],
   "source": [
    "df.image_id.nunique()"
   ]
  },
  {
   "cell_type": "code",
   "execution_count": null,
   "id": "0586daaa",
   "metadata": {},
   "outputs": [],
   "source": [
    "for patient_id, sub_df in tqdm(df.groupby('patient_id')):\n",
    "    assert sub_df.Status.nunique() == 1"
   ]
  },
  {
   "cell_type": "code",
   "execution_count": null,
   "id": "4504c0c0",
   "metadata": {},
   "outputs": [],
   "source": [
    "for patient_id, sub_df in tqdm(df.groupby(['patient_id'])):\n",
    "    sub_df = sub_df.reset_index(drop = True)\n",
    "    assert sub_df.Status.nunique() == 1\n",
    "    status = sub_df.at[0, 'Status']\n",
    "    no_annotation = True\n",
    "    for j in range(len(sub_df)):\n",
    "        if type(sub_df.at[j, 'Tumour_Contour']) == str:\n",
    "            if len(sub_df.at[j, 'Tumour_Contour']) > 5:\n",
    "                no_annotation = False\n",
    "    if status == 'Normal':\n",
    "        if not no_annotation:\n",
    "            display(sub_df)\n",
    "            break\n",
    "    else:\n",
    "        if no_annotation:\n",
    "            display(sub_df)\n",
    "            break"
   ]
  },
  {
   "cell_type": "code",
   "execution_count": null,
   "id": "0a6fea0c",
   "metadata": {},
   "outputs": [],
   "source": [
    "cancer_dict = {}\n",
    "for patient_id, sub_df in tqdm(df.groupby(['patient_id', 'Side'])):\n",
    "    breast = '@'.join(patient_id)\n",
    "    sub_df = sub_df.reset_index(drop = True)\n",
    "    assert sub_df.Status.nunique() == 1\n",
    "    status = sub_df.at[0, 'Status']\n",
    "    no_annotation = True\n",
    "    for j in range(len(sub_df)):\n",
    "        if type(sub_df.at[j, 'Tumour_Contour']) == str:\n",
    "            if len(sub_df.at[j, 'Tumour_Contour']) > 5:\n",
    "                no_annotation = False\n",
    "    if status == 'Normal':\n",
    "        if not no_annotation:\n",
    "            raise AssertionError()\n",
    "        else:\n",
    "            cancer_dict[breast] = 0\n",
    "    elif status == 'Benign':\n",
    "        cancer_dict[breast] = 0\n",
    "    elif status == 'Cancer':\n",
    "        if no_annotation:\n",
    "            cancer_dict[breast] = 0\n",
    "        else:\n",
    "            cancer_dict[breast] = 1\n",
    "    else:\n",
    "        raise AssertionError()"
   ]
  },
  {
   "cell_type": "code",
   "execution_count": null,
   "id": "d7994448",
   "metadata": {},
   "outputs": [],
   "source": [
    "cancer_dict"
   ]
  },
  {
   "cell_type": "code",
   "execution_count": null,
   "id": "ef9e80d0",
   "metadata": {},
   "outputs": [],
   "source": []
  },
  {
   "cell_type": "code",
   "execution_count": null,
   "id": "1e82d790",
   "metadata": {},
   "outputs": [],
   "source": [
    "df['cancer'] = -1"
   ]
  },
  {
   "cell_type": "code",
   "execution_count": null,
   "id": "f08fbddb",
   "metadata": {},
   "outputs": [],
   "source": [
    "for i in tqdm(range(len(df))):\n",
    "    breast = df.at[i, 'patient_id'] + '@' + df.at[i, 'Side']\n",
    "    df.at[i, 'cancer'] = cancer_dict[breast]\n",
    "df"
   ]
  },
  {
   "cell_type": "code",
   "execution_count": null,
   "id": "4b1e76c9",
   "metadata": {},
   "outputs": [],
   "source": [
    "df[df.cancer == 1].Status.value_counts()"
   ]
  },
  {
   "cell_type": "code",
   "execution_count": null,
   "id": "3bc67e78",
   "metadata": {},
   "outputs": [],
   "source": [
    "df[df.cancer == 1]['Tumour_Contour'].isna().any()"
   ]
  },
  {
   "cell_type": "code",
   "execution_count": null,
   "id": "901bb203",
   "metadata": {},
   "outputs": [],
   "source": [
    "(df[(df.cancer == 0) & (df.Status=='Cancer')]['Tumour_Contour'].apply(lambda x: len(x)) > 1).any()"
   ]
  },
  {
   "cell_type": "code",
   "execution_count": null,
   "id": "b54c557d",
   "metadata": {},
   "outputs": [],
   "source": [
    "df.cancer.value_counts()"
   ]
  },
  {
   "cell_type": "code",
   "execution_count": null,
   "id": "3f35f427",
   "metadata": {},
   "outputs": [],
   "source": [
    "df.columns"
   ]
  },
  {
   "cell_type": "code",
   "execution_count": null,
   "id": "5c847924",
   "metadata": {},
   "outputs": [],
   "source": []
  },
  {
   "cell_type": "code",
   "execution_count": null,
   "id": "5f20bdb4",
   "metadata": {},
   "outputs": [],
   "source": [
    "src_dir = os.path.join(ROOT_DIR, 'MINI-DDSM-Complete-PNG-16')\n",
    "dst_dir = os.path.join(ROOT_DIR, 'png16_v2')\n",
    "for i in tqdm(range(len(df))):\n",
    "    status = df.at[i, 'Status']\n",
    "    patient_id = df.at[i, 'patient_id']\n",
    "    patient_idx = patient_id.split('_')[1]\n",
    "    image_id = df.at[i, 'image_id']\n",
    "    name = df.at[i, 'fileName']\n",
    "    src_path = os.path.join(src_dir, status, patient_idx, name)\n",
    "    dst_path = os.path.join(dst_dir, patient_id, f'{image_id}.png')\n",
    "    os.makedirs(os.path.dirname(dst_path), exist_ok=True)\n",
    "    shutil.copy2(src_path, dst_path)"
   ]
  },
  {
   "cell_type": "code",
   "execution_count": null,
   "id": "09911e3b",
   "metadata": {},
   "outputs": [],
   "source": [
    "df.Density.value_counts()"
   ]
  },
  {
   "cell_type": "code",
   "execution_count": null,
   "id": "d60ed48c",
   "metadata": {},
   "outputs": [],
   "source": []
  },
  {
   "cell_type": "code",
   "execution_count": null,
   "id": "88b7b743",
   "metadata": {},
   "outputs": [],
   "source": [
    "# LEFT, RIGHT --> L, R\n",
    "df['Side'] = df['Side'].apply(lambda x: x[0])\n",
    "\n",
    "density_map = {1: 'A', 2: 'B', 3: 'C', 4: 'D', 0: 'A'}\n",
    "df['Density'] = df['Density'].apply(lambda x: density_map[x])"
   ]
  },
  {
   "cell_type": "code",
   "execution_count": null,
   "id": "6e66ff33",
   "metadata": {},
   "outputs": [],
   "source": [
    "df.drop(columns = ['fullPath', 'fileName', 'Tumour_Contour', 'Tumour_Contour2',\n",
    "                   'Tumour_Contour3', 'Tumour_Contour4', 'Tumour_Contour5',\n",
    "                   'Tumour_Contour6'], inplace = True)\n",
    "df.rename(columns = {'View': 'view', 'Side': 'laterality',\n",
    "                    'Status': 'ddsm_ori_status', 'Age': 'age', 'Density': 'density',\n",
    "                    }, inplace = True)"
   ]
  },
  {
   "cell_type": "code",
   "execution_count": null,
   "id": "7bafe6bd",
   "metadata": {},
   "outputs": [],
   "source": [
    "df = df[['patient_id', 'image_id', 'view', 'laterality', 'density', 'age', 'ddsm_ori_status', 'cancer']]\n",
    "df"
   ]
  },
  {
   "cell_type": "code",
   "execution_count": null,
   "id": "bb2ec0c7",
   "metadata": {},
   "outputs": [],
   "source": [
    "df.to_csv(os.path.join(ROOT_DIR, 'label_v2.csv'), index = False)"
   ]
  },
  {
   "cell_type": "code",
   "execution_count": null,
   "id": "f92f6319",
   "metadata": {},
   "outputs": [],
   "source": []
  },
  {
   "cell_type": "code",
   "execution_count": null,
   "id": "c03de121",
   "metadata": {},
   "outputs": [],
   "source": []
  },
  {
   "cell_type": "markdown",
   "id": "7bf85eff",
   "metadata": {},
   "source": [
    "### CMMD"
   ]
  },
  {
   "cell_type": "code",
   "execution_count": 9,
   "id": "9238d176",
   "metadata": {},
   "outputs": [],
   "source": [
    "ROOT_DIR = '/home/dangnh36/datasets/.comp/rsna/external/cmmd'\n",
    "DCM_ROOT_DIR = os.path.join(ROOT_DIR, 'CMMD')"
   ]
  },
  {
   "cell_type": "code",
   "execution_count": 10,
   "id": "563ab04e",
   "metadata": {},
   "outputs": [
    {
     "data": {
      "text/html": [
       "<div>\n",
       "<style scoped>\n",
       "    .dataframe tbody tr th:only-of-type {\n",
       "        vertical-align: middle;\n",
       "    }\n",
       "\n",
       "    .dataframe tbody tr th {\n",
       "        vertical-align: top;\n",
       "    }\n",
       "\n",
       "    .dataframe thead th {\n",
       "        text-align: right;\n",
       "    }\n",
       "</style>\n",
       "<table border=\"1\" class=\"dataframe\">\n",
       "  <thead>\n",
       "    <tr style=\"text-align: right;\">\n",
       "      <th></th>\n",
       "      <th>ID1</th>\n",
       "      <th>LeftRight</th>\n",
       "      <th>Age</th>\n",
       "      <th>number</th>\n",
       "      <th>abnormality</th>\n",
       "      <th>classification</th>\n",
       "      <th>subtype</th>\n",
       "    </tr>\n",
       "  </thead>\n",
       "  <tbody>\n",
       "    <tr>\n",
       "      <th>0</th>\n",
       "      <td>D1-0001</td>\n",
       "      <td>R</td>\n",
       "      <td>44</td>\n",
       "      <td>2</td>\n",
       "      <td>calcification</td>\n",
       "      <td>Benign</td>\n",
       "      <td>NaN</td>\n",
       "    </tr>\n",
       "    <tr>\n",
       "      <th>1</th>\n",
       "      <td>D1-0002</td>\n",
       "      <td>L</td>\n",
       "      <td>40</td>\n",
       "      <td>2</td>\n",
       "      <td>calcification</td>\n",
       "      <td>Benign</td>\n",
       "      <td>NaN</td>\n",
       "    </tr>\n",
       "    <tr>\n",
       "      <th>...</th>\n",
       "      <td>...</td>\n",
       "      <td>...</td>\n",
       "      <td>...</td>\n",
       "      <td>...</td>\n",
       "      <td>...</td>\n",
       "      <td>...</td>\n",
       "      <td>...</td>\n",
       "    </tr>\n",
       "    <tr>\n",
       "      <th>1870</th>\n",
       "      <td>D2-0748</td>\n",
       "      <td>R</td>\n",
       "      <td>29</td>\n",
       "      <td>2</td>\n",
       "      <td>mass</td>\n",
       "      <td>Malignant</td>\n",
       "      <td>Luminal B</td>\n",
       "    </tr>\n",
       "    <tr>\n",
       "      <th>1871</th>\n",
       "      <td>D2-0749</td>\n",
       "      <td>L</td>\n",
       "      <td>42</td>\n",
       "      <td>2</td>\n",
       "      <td>mass</td>\n",
       "      <td>Malignant</td>\n",
       "      <td>Luminal B</td>\n",
       "    </tr>\n",
       "  </tbody>\n",
       "</table>\n",
       "<p>1872 rows × 7 columns</p>\n",
       "</div>"
      ],
      "text/plain": [
       "          ID1 LeftRight  Age  number    abnormality classification    subtype\n",
       "0     D1-0001         R   44       2  calcification         Benign        NaN\n",
       "1     D1-0002         L   40       2  calcification         Benign        NaN\n",
       "...       ...       ...  ...     ...            ...            ...        ...\n",
       "1870  D2-0748         R   29       2           mass      Malignant  Luminal B\n",
       "1871  D2-0749         L   42       2           mass      Malignant  Luminal B\n",
       "\n",
       "[1872 rows x 7 columns]"
      ]
     },
     "execution_count": 10,
     "metadata": {},
     "output_type": "execute_result"
    }
   ],
   "source": [
    "df = pd.read_csv(os.path.join(ROOT_DIR, 'CMMD_label.csv'))\n",
    "df"
   ]
  },
  {
   "cell_type": "code",
   "execution_count": null,
   "id": "628bb11d",
   "metadata": {},
   "outputs": [],
   "source": [
    "src_dir = DCM_ROOT_DIR\n",
    "dst_dir = os.path.join(ROOT_DIR, 'dicoms_v2')\n",
    "\n",
    "for patient_id, sub_df in tqdm(df.groupby('ID1')):\n",
    "    tmp_dir = os.path.join(src_dir, patient_id)\n",
    "    tmp2_dirs = os.listdir(tmp_dir)\n",
    "    assert len(tmp2_dirs) == 1\n",
    "    tmp3_dirs = os.listdir(os.path.join(tmp_dir, tmp2_dirs[0]))\n",
    "    assert len(tmp3_dirs) == 1\n",
    "    src_img_dir = os.path.join(tmp_dir, tmp2_dirs[0], tmp3_dirs[0])\n",
    "    img_names = os.listdir(src_img_dir)\n",
    "#     if len(img_names) != sub_df.number.sum():\n",
    "#         print(patient_id, img_names)\n",
    "#         print(sub_df.number)\n",
    "    for img_name in img_names:\n",
    "        src_img_path = os.path.join(src_img_dir, img_name)\n",
    "        dst_img_path = os.path.join(dst_dir, patient_id, f'{patient_id}_{img_name}')\n",
    "        os.makedirs(os.path.dirname(dst_img_path), exist_ok=True)\n",
    "        shutil.copy2(src_img_path, dst_img_path)\n",
    "    "
   ]
  },
  {
   "cell_type": "code",
   "execution_count": null,
   "id": "3789b664",
   "metadata": {},
   "outputs": [],
   "source": [
    "all_patient_ids = []\n",
    "all_image_ids = []\n",
    "\n",
    "patients = os.listdir(dst_dir)\n",
    "for patient in patients:\n",
    "    patient_dir = os.path.join(dst_dir, patient)\n",
    "    image_names = os.listdir(patient_dir)\n",
    "    for image_name in image_names:\n",
    "        all_patient_ids.append(patient)\n",
    "        all_image_ids.append(image_name.split('.dcm')[0])\n",
    "dicom_df = pd.DataFrame({\n",
    "    'patient_id': all_patient_ids,\n",
    "    'image_id': all_image_ids\n",
    "})\n",
    "dicom_df"
   ]
  },
  {
   "cell_type": "code",
   "execution_count": null,
   "id": "bcdb24e3",
   "metadata": {},
   "outputs": [],
   "source": [
    "dicom_df = get_dicom_meta(dst_dir, dicom_df, extension = 'dcm')\n",
    "dicom_df"
   ]
  },
  {
   "cell_type": "code",
   "execution_count": null,
   "id": "0c0aa513",
   "metadata": {},
   "outputs": [],
   "source": [
    "df.rename(columns = {'ID1': 'patient_id', 'LeftRight': 'laterality'}, inplace = True)"
   ]
  },
  {
   "cell_type": "code",
   "execution_count": null,
   "id": "710800b0",
   "metadata": {},
   "outputs": [],
   "source": [
    "dicom_df.rename(columns = {'ImageLaterality': 'laterality'}, inplace = True)"
   ]
  },
  {
   "cell_type": "code",
   "execution_count": null,
   "id": "77c32281",
   "metadata": {},
   "outputs": [],
   "source": [
    "dicom_df.rename(columns = {name:'__' + name for name in dicom_df.columns if name not in ['patient_id', 'laterality']}, inplace = True)"
   ]
  },
  {
   "cell_type": "code",
   "execution_count": null,
   "id": "e671b72b",
   "metadata": {},
   "outputs": [],
   "source": [
    "dicom_df"
   ]
  },
  {
   "cell_type": "code",
   "execution_count": null,
   "id": "5983ca91",
   "metadata": {},
   "outputs": [],
   "source": [
    "dicom_df.groupby(['patient_id', 'laterality']).count()"
   ]
  },
  {
   "cell_type": "code",
   "execution_count": null,
   "id": "08fa398d",
   "metadata": {},
   "outputs": [],
   "source": [
    "dicom_df.patient_id.nunique()"
   ]
  },
  {
   "cell_type": "code",
   "execution_count": null,
   "id": "0eb373a5",
   "metadata": {},
   "outputs": [],
   "source": [
    "df.patient_id.nunique()"
   ]
  },
  {
   "cell_type": "code",
   "execution_count": null,
   "id": "ce81ad96",
   "metadata": {},
   "outputs": [],
   "source": [
    "df"
   ]
  },
  {
   "cell_type": "code",
   "execution_count": null,
   "id": "5b855114",
   "metadata": {},
   "outputs": [],
   "source": []
  },
  {
   "cell_type": "code",
   "execution_count": null,
   "id": "08d2ac48",
   "metadata": {},
   "outputs": [],
   "source": [
    "merged = pd.merge(\n",
    "    dicom_df,\n",
    "    df,\n",
    "    how=\"outer\",\n",
    "    on=['patient_id', 'laterality'],\n",
    "    left_on=None,\n",
    "    right_on=None,\n",
    "    left_index=False,\n",
    "    right_index=False,\n",
    "    sort=False,\n",
    "    suffixes=(\"__\", \"\"),\n",
    "    copy=True,\n",
    "    indicator=False,\n",
    "#     validate='1:1',\n",
    ")\n",
    "merged"
   ]
  },
  {
   "cell_type": "code",
   "execution_count": null,
   "id": "11bd6818",
   "metadata": {},
   "outputs": [],
   "source": [
    "merged.at[0, '__ViewCodeSequence']"
   ]
  },
  {
   "cell_type": "code",
   "execution_count": null,
   "id": "1ebd6d2c",
   "metadata": {},
   "outputs": [],
   "source": [
    "merged.columns"
   ]
  },
  {
   "cell_type": "code",
   "execution_count": null,
   "id": "8faf9ef4",
   "metadata": {},
   "outputs": [],
   "source": [
    "merged = merged[\n",
    "    ['patient_id', '__image_id', 'laterality', 'Age', 'number', 'abnormality', 'classification', 'subtype',\n",
    "     '__VOILUTFunction', '__WindowCenter', '__WindowWidth', '__WindowCenterWidthExplanation',\n",
    "     '__RescaleSlope', '__RescaleIntercept', '__Columns', '__Rows',\n",
    "       '__SOPInstanceUID', '__LossyImageCompression',\n",
    "       '__CodeMeaning', '__StudyID', '__PatientOrientation',\n",
    "       '__SpecificCharacterSet', '__InstanceCreatorUID', '__PositionerType',\n",
    "       '__PhotometricInterpretation', '__BitsAllocated',\n",
    "       '__StudyDate', '__PatientName', '__ContentTime',\n",
    "       '__PixelIntensityRelationship', '__Modality',\n",
    "       '__PresentationIntentType', '__AcquisitionTime', '__BodyPartExamined', '__HighBit',\n",
    "       '__PatientIdentityRemoved', '__BitsStored', '__InstanceCreationTime',\n",
    "       '__StudyTime', '__SeriesTime', '__PatientBirthDate', '__ImageType',\n",
    "       '__RescaleType', '__SeriesInstanceUID', '__ReferringPhysicianName',\n",
    "       '__ContentDate', '__InstanceCreationDate',\n",
    "       '__PixelIntensityRelationshipSign', '__SeriesNumber',\n",
    "       '__StudyInstanceUID', '__PatientID', '__DetectorType',\n",
    "       '__SamplesPerPixel', '__SOPClassUID', '__PixelRepresentation', '__CodeValue',\n",
    "       '__OrganExposed', '__InstanceNumber', '__AccessionNumber',\n",
    "       '__SeriesDate', '__AcquisitionDate',\n",
    "       '__PatientAge',\n",
    "       '__BurnedInAnnotation', '__PresentationLUTShape',\n",
    "       '__Manufacturer', '__DeidentificationMethod', '__ImagerPixelSpacing',\n",
    "       '__PatientSex', ]\n",
    "]\n",
    "merged"
   ]
  },
  {
   "cell_type": "code",
   "execution_count": null,
   "id": "a6675028",
   "metadata": {},
   "outputs": [],
   "source": [
    "merged[merged['classification'].isna()]"
   ]
  },
  {
   "cell_type": "code",
   "execution_count": null,
   "id": "1197dd2f",
   "metadata": {},
   "outputs": [],
   "source": [
    "merged.classification.fillna('Normal', inplace = True)"
   ]
  },
  {
   "cell_type": "code",
   "execution_count": null,
   "id": "aa6c707e",
   "metadata": {},
   "outputs": [],
   "source": [
    "merged[merged['classification'].isna()]"
   ]
  },
  {
   "cell_type": "code",
   "execution_count": null,
   "id": "acb2648d",
   "metadata": {},
   "outputs": [],
   "source": [
    "merged.columns"
   ]
  },
  {
   "cell_type": "code",
   "execution_count": null,
   "id": "7d1aa06c",
   "metadata": {},
   "outputs": [],
   "source": [
    "merged.classification.hist()"
   ]
  },
  {
   "cell_type": "code",
   "execution_count": null,
   "id": "bcfe3231",
   "metadata": {},
   "outputs": [],
   "source": [
    "merged['cancer'] = merged.classification.apply(lambda x: 1 if x=='Malignant' else 0)"
   ]
  },
  {
   "cell_type": "code",
   "execution_count": null,
   "id": "9520b062",
   "metadata": {},
   "outputs": [],
   "source": [
    "merged.columns"
   ]
  },
  {
   "cell_type": "code",
   "execution_count": null,
   "id": "c6a9deb5",
   "metadata": {},
   "outputs": [],
   "source": [
    "merged = merged[['patient_id', '__image_id', 'laterality', 'Age', 'cancer', 'number',\n",
    "       'abnormality', 'classification', 'subtype', '__VOILUTFunction',\n",
    "       '__WindowCenter', '__WindowWidth', '__WindowCenterWidthExplanation',\n",
    "       '__RescaleSlope', '__RescaleIntercept', '__Columns', '__Rows',\n",
    "       '__SOPInstanceUID', '__LossyImageCompression', '__CodeMeaning',\n",
    "       '__StudyID', '__PatientOrientation', '__SpecificCharacterSet',\n",
    "       '__InstanceCreatorUID', '__PositionerType',\n",
    "       '__PhotometricInterpretation', '__BitsAllocated', '__StudyDate',\n",
    "       '__PatientName', '__ContentTime', '__PixelIntensityRelationship',\n",
    "       '__Modality', '__PresentationIntentType', '__AcquisitionTime',\n",
    "       '__BodyPartExamined', '__HighBit', '__PatientIdentityRemoved',\n",
    "       '__BitsStored', '__InstanceCreationTime', '__StudyTime', '__SeriesTime',\n",
    "       '__PatientBirthDate', '__ImageType', '__RescaleType',\n",
    "       '__SeriesInstanceUID', '__ReferringPhysicianName', '__ContentDate',\n",
    "       '__InstanceCreationDate', '__PixelIntensityRelationshipSign',\n",
    "       '__SeriesNumber', '__StudyInstanceUID', '__PatientID', '__DetectorType',\n",
    "       '__SamplesPerPixel', '__SOPClassUID', '__PixelRepresentation',\n",
    "       '__CodeValue', '__OrganExposed', '__InstanceNumber',\n",
    "       '__AccessionNumber', '__SeriesDate', '__AcquisitionDate',\n",
    "       '__PatientAge', '__BurnedInAnnotation', '__PresentationLUTShape',\n",
    "       '__Manufacturer', '__DeidentificationMethod', '__ImagerPixelSpacing',\n",
    "       '__PatientSex']]\n",
    "\n",
    "merged.rename(columns = {\n",
    "    '__image_id': 'image_id',\n",
    "    'Age': 'age',\n",
    "    'number': '_num_images',\n",
    "}, inplace = True)\n",
    "merged"
   ]
  },
  {
   "cell_type": "code",
   "execution_count": null,
   "id": "ee808f79",
   "metadata": {},
   "outputs": [],
   "source": [
    "merged.cancer.hist()"
   ]
  },
  {
   "cell_type": "code",
   "execution_count": null,
   "id": "9cab6d9e",
   "metadata": {},
   "outputs": [],
   "source": [
    "merged.to_csv(os.path.join(ROOT_DIR, 'label_v2.csv'), index = False)"
   ]
  },
  {
   "cell_type": "code",
   "execution_count": null,
   "id": "b418bb89",
   "metadata": {},
   "outputs": [],
   "source": [
    "merged"
   ]
  },
  {
   "cell_type": "code",
   "execution_count": null,
   "id": "0f0b6513",
   "metadata": {},
   "outputs": [],
   "source": [
    "# for _name, sub_df in merged.groupby(['patient_id']):\n",
    "#     assert sub_df.cancer.nunique() == 1\n",
    "\n",
    "for _name, sub_df in merged.groupby(['patient_id', 'laterality']):\n",
    "    assert sub_df.cancer.nunique() == 1"
   ]
  },
  {
   "cell_type": "code",
   "execution_count": null,
   "id": "5b6dfa2a",
   "metadata": {},
   "outputs": [],
   "source": []
  },
  {
   "cell_type": "code",
   "execution_count": null,
   "id": "21f5f8ae",
   "metadata": {},
   "outputs": [],
   "source": []
  },
  {
   "cell_type": "code",
   "execution_count": null,
   "id": "f01f3850",
   "metadata": {},
   "outputs": [],
   "source": []
  },
  {
   "cell_type": "code",
   "execution_count": null,
   "id": "dfa399be",
   "metadata": {},
   "outputs": [],
   "source": []
  },
  {
   "cell_type": "code",
   "execution_count": null,
   "id": "ad62f71d",
   "metadata": {},
   "outputs": [],
   "source": []
  },
  {
   "cell_type": "markdown",
   "id": "60fac18b",
   "metadata": {},
   "source": [
    "### BMCD"
   ]
  },
  {
   "cell_type": "code",
   "execution_count": null,
   "id": "6861546e",
   "metadata": {},
   "outputs": [],
   "source": [
    "ROOT_DIR = '/home/dangnh36/datasets/.comp/rsna/external/bmcd/'\n",
    "DCM_ROOT_DIR = os.path.join(ROOT_DIR, 'dicoms')"
   ]
  },
  {
   "cell_type": "code",
   "execution_count": null,
   "id": "275d97eb",
   "metadata": {},
   "outputs": [],
   "source": [
    "df = pd.read_csv(os.path.join(ROOT_DIR, 'label.csv'))\n",
    "df.biopsy_result.fillna('NAN', inplace = True)\n",
    "df"
   ]
  },
  {
   "cell_type": "code",
   "execution_count": null,
   "id": "a908ecaf",
   "metadata": {},
   "outputs": [],
   "source": [
    "df.biopsy_result.value_counts()"
   ]
  },
  {
   "cell_type": "code",
   "execution_count": null,
   "id": "2c71ce2b",
   "metadata": {},
   "outputs": [],
   "source": [
    "df = df[df.biopsy_result.isin(['NAN', 'BENIGN', 'DCIS', 'MALIGNANT'])].reset_index(drop = True)\n",
    "df"
   ]
  },
  {
   "cell_type": "code",
   "execution_count": null,
   "id": "2cb57cf1",
   "metadata": {},
   "outputs": [],
   "source": [
    "src_root_dir = DCM_ROOT_DIR\n",
    "dst_root_dir = os.path.join(ROOT_DIR, 'dicoms_v2')\n",
    "\n",
    "df['view'] = None\n",
    "df['image_id'] = None\n",
    "all_series = []\n",
    "for i in tqdm(range(len(df))):\n",
    "    dir_type = df.at[i, 'folder_type']\n",
    "    dir_name = df.at[i, 'dir']\n",
    "    dir_parent = 'Suspicious_cases'\n",
    "    if dir_type == 'normal':\n",
    "        dir_parent = 'Normal_cases'\n",
    "    \n",
    "    src_dir = os.path.join(src_root_dir, str(dir_parent), str(dir_name))\n",
    "    dst_dir = os.path.join(dst_root_dir, dir_type + '_' + str(dir_name))\n",
    "    os.makedirs(dst_dir, exist_ok=True)\n",
    "    names = os.listdir(src_dir)\n",
    "#     for name in names:\n",
    "    s = df.loc[i]\n",
    "    names = [name for name in names if '.dcm' in name.lower()]\n",
    "    priors = [name for name in names if 'prior' in name]\n",
    "    recents = [name for name in names if 'recent' in name]\n",
    "    assert len(priors) == 2 or len(priors) == 0, names\n",
    "    assert len(recents) == 2, f'{names} and {dir_parent} -{dir_name}'\n",
    "    for ori_name in names:\n",
    "        name = ori_name.split('.')[0]\n",
    "        new_s = s.copy()\n",
    "        if new_s['biopsy_result'] == 'DCIS' or new_s['biopsy_result'] == 'MALIGNANT':\n",
    "            if 'prior' in name:\n",
    "                new_s['biopsy_result'] = 'BENIGN/NORMAL'\n",
    "        new_name = str(new_s['folder_type']) + '_' + str(new_s['dir']) + name\n",
    "        new_s['image_id'] =  new_name\n",
    "        src_path = os.path.join(src_dir, ori_name)\n",
    "        dst_path = os.path.join(dst_dir, new_name + '.dcm')\n",
    "        shutil.copy2(src_path, dst_path)\n",
    "        \n",
    "        new_s['view'] = name.split('_')[0]\n",
    "        all_series.append(new_s)"
   ]
  },
  {
   "cell_type": "code",
   "execution_count": null,
   "id": "ac2121ed",
   "metadata": {},
   "outputs": [],
   "source": [
    "df = pd.DataFrame(all_series)\n",
    "df"
   ]
  },
  {
   "cell_type": "code",
   "execution_count": null,
   "id": "e2445b79",
   "metadata": {},
   "outputs": [],
   "source": [
    "df.biopsy_result.value_counts()"
   ]
  },
  {
   "cell_type": "code",
   "execution_count": null,
   "id": "e8d6f438",
   "metadata": {},
   "outputs": [],
   "source": [
    "print(df[df.biopsy_result.isin(['MALIGNANT', 'DCIS'])]['image_id'].tolist())"
   ]
  },
  {
   "cell_type": "code",
   "execution_count": null,
   "id": "42ed40cd",
   "metadata": {},
   "outputs": [],
   "source": [
    "df.columns"
   ]
  },
  {
   "cell_type": "code",
   "execution_count": null,
   "id": "d1cc81d6",
   "metadata": {},
   "outputs": [],
   "source": [
    "df['cancer'] = df.biopsy_result.apply(lambda x: 1 if x in ['MALIGNANT', 'DCIS'] else 0)\n",
    "df.cancer.value_counts()"
   ]
  },
  {
   "cell_type": "code",
   "execution_count": null,
   "id": "1ddf4210",
   "metadata": {},
   "outputs": [],
   "source": [
    "df.rename(columns = {\n",
    "    'dir': 'patient_id',\n",
    "}, inplace = True)\n",
    "df"
   ]
  },
  {
   "cell_type": "code",
   "execution_count": null,
   "id": "f8547f8d",
   "metadata": {},
   "outputs": [],
   "source": [
    "df['patient_id'] = df['folder_type'] + '_' +  df['patient_id'].apply(str)"
   ]
  },
  {
   "cell_type": "code",
   "execution_count": null,
   "id": "c11c07b1",
   "metadata": {},
   "outputs": [],
   "source": []
  },
  {
   "cell_type": "code",
   "execution_count": null,
   "id": "5290b0a4",
   "metadata": {},
   "outputs": [],
   "source": []
  },
  {
   "cell_type": "code",
   "execution_count": null,
   "id": "4766e8f0",
   "metadata": {},
   "outputs": [],
   "source": [
    "dicom_df = get_dicom_meta(dst_root_dir, df, extension = 'dcm')"
   ]
  },
  {
   "cell_type": "code",
   "execution_count": null,
   "id": "3d040f26",
   "metadata": {},
   "outputs": [],
   "source": [
    "dicom_df.dropna(axis=1, how='all', inplace = True)"
   ]
  },
  {
   "cell_type": "code",
   "execution_count": null,
   "id": "c637e213",
   "metadata": {},
   "outputs": [],
   "source": [
    "dicom_df"
   ]
  },
  {
   "cell_type": "code",
   "execution_count": null,
   "id": "afb6ab2d",
   "metadata": {},
   "outputs": [],
   "source": [
    "dicom_df.rename(columns = {name:'__' + name for name in dicom_df.columns if name != 'image_id'}, inplace = True)\n",
    "merged = pd.merge(\n",
    "    df,\n",
    "    dicom_df,\n",
    "    how=\"inner\",\n",
    "    on='image_id',\n",
    "    left_on=None,\n",
    "    right_on=None,\n",
    "    left_index=False,\n",
    "    right_index=False,\n",
    "    sort=False,\n",
    "    suffixes=(\"\", \"__\"),\n",
    "    copy=True,\n",
    "    indicator=False,\n",
    "    validate='1:1',\n",
    ")\n",
    "merged"
   ]
  },
  {
   "cell_type": "code",
   "execution_count": null,
   "id": "98ee6672",
   "metadata": {},
   "outputs": [],
   "source": [
    "merged"
   ]
  },
  {
   "cell_type": "code",
   "execution_count": null,
   "id": "d1771e14",
   "metadata": {},
   "outputs": [],
   "source": [
    "print(list(merged.columns))"
   ]
  },
  {
   "cell_type": "code",
   "execution_count": null,
   "id": "2de1c8cd",
   "metadata": {},
   "outputs": [],
   "source": [
    "merged = merged[['patient_id', 'laterality', 'age', 'density', 'BIRADS', 'biopsy_result', 'folder_type', 'view', 'image_id', 'cancer', '__WindowWidth', '__WindowCenter', '__WindowCenterWidthExplanation', '__RescaleType', '__RescaleSlope', '__RescaleIntercept', '__Rows', '__Columns', '__BitsAllocated', '__BitsStored']]\n",
    "merged"
   ]
  },
  {
   "cell_type": "code",
   "execution_count": null,
   "id": "8c9b26b2",
   "metadata": {},
   "outputs": [],
   "source": [
    "merged.to_csv(os.path.join(ROOT_DIR, 'label_v2.csv'), index = False)"
   ]
  },
  {
   "cell_type": "code",
   "execution_count": null,
   "id": "612224cb",
   "metadata": {},
   "outputs": [],
   "source": []
  },
  {
   "cell_type": "code",
   "execution_count": null,
   "id": "0fc3eb8c",
   "metadata": {},
   "outputs": [],
   "source": []
  },
  {
   "cell_type": "code",
   "execution_count": null,
   "id": "acc794a2",
   "metadata": {},
   "outputs": [],
   "source": []
  },
  {
   "cell_type": "markdown",
   "id": "ae677fea",
   "metadata": {},
   "source": [
    "### CDD-CESM"
   ]
  },
  {
   "cell_type": "code",
   "execution_count": 5,
   "id": "4fd67070",
   "metadata": {},
   "outputs": [],
   "source": [
    "ROOT_DIR = '/home/dangnh36/datasets/.comp/rsna/external/cdd_cesm/'\n",
    "DCM_ROOT_DIR = os.path.join(ROOT_DIR, 'low_energy')"
   ]
  },
  {
   "cell_type": "code",
   "execution_count": null,
   "id": "fef11d8a",
   "metadata": {},
   "outputs": [],
   "source": [
    "df = pd.read_csv(os.path.join(ROOT_DIR, 'cdd_cesm.csv'))\n"
   ]
  },
  {
   "cell_type": "code",
   "execution_count": null,
   "id": "10490183",
   "metadata": {},
   "outputs": [],
   "source": [
    "df.Type.value_counts()"
   ]
  },
  {
   "cell_type": "code",
   "execution_count": null,
   "id": "632404d5",
   "metadata": {},
   "outputs": [],
   "source": [
    "df['image_id'] = df['Image_name'].apply(lambda x: x.replace('DM_', '').replace('CM_', ''))\n",
    "# df['patient_id'] = df['Image_name'].apply(lambda x: x.split('_')[0])\n",
    "df"
   ]
  },
  {
   "cell_type": "code",
   "execution_count": null,
   "id": "90dd2298",
   "metadata": {},
   "outputs": [],
   "source": [
    "df['Pathology Classification/ Follow up'].value_counts()"
   ]
  },
  {
   "cell_type": "code",
   "execution_count": null,
   "id": "2dc436e8",
   "metadata": {},
   "outputs": [],
   "source": [
    "for image_name, sub_df in df.groupby('image_id'):\n",
    "    sub_df = sub_df.reset_index(drop = True)\n",
    "    if sub_df.at[0, 'Pathology Classification/ Follow up'] == 'Malignant':\n",
    "        assert sub_df['Pathology Classification/ Follow up'].nunique() == 1, sub_df"
   ]
  },
  {
   "cell_type": "code",
   "execution_count": null,
   "id": "5f157905",
   "metadata": {},
   "outputs": [],
   "source": [
    "df = df[df.Type == 'DM'].reset_index(drop = True)\n",
    "df"
   ]
  },
  {
   "cell_type": "code",
   "execution_count": null,
   "id": "7d1fbd60",
   "metadata": {},
   "outputs": [],
   "source": [
    "df.columns"
   ]
  },
  {
   "cell_type": "code",
   "execution_count": null,
   "id": "4f8be39d",
   "metadata": {},
   "outputs": [],
   "source": []
  },
  {
   "cell_type": "code",
   "execution_count": null,
   "id": "91ab3c11",
   "metadata": {},
   "outputs": [],
   "source": [
    "df.rename(columns = {\n",
    "    'Image_name': 'image_name',\n",
    "    'Patient_ID': 'patient_id',\n",
    "    'Side': 'laterality',\n",
    "    'Age': 'age',\n",
    "    'Breast density (ACR)': 'density',\n",
    "    'Findings': 'findings',\n",
    "    'View': 'view',\n",
    "    'Tags': 'tags',\n",
    "    'Machine': 'machine_id',\n",
    "    'Pathology Classification/ Follow up': 'classification',\n",
    "}, inplace = True)\n",
    "df.columns"
   ]
  },
  {
   "cell_type": "code",
   "execution_count": null,
   "id": "0c5f07c7",
   "metadata": {},
   "outputs": [],
   "source": [
    "df = df[['patient_id', 'image_id', 'laterality', 'view', 'image_name', 'age', 'density', 'BIRADS',\n",
    "       'findings', 'tags', 'machine_id', 'classification', 'Type']]\n",
    "df"
   ]
  },
  {
   "cell_type": "code",
   "execution_count": null,
   "id": "52f83657",
   "metadata": {},
   "outputs": [],
   "source": [
    "df.classification.value_counts()"
   ]
  },
  {
   "cell_type": "code",
   "execution_count": null,
   "id": "26ed4c17",
   "metadata": {},
   "outputs": [],
   "source": [
    "df['cancer'] = df.classification.apply(lambda x: 1 if x == 'Malignant' else 0)\n",
    "df"
   ]
  },
  {
   "cell_type": "code",
   "execution_count": null,
   "id": "6b6aa62a",
   "metadata": {},
   "outputs": [],
   "source": [
    "df.image_id.nunique()"
   ]
  },
  {
   "cell_type": "code",
   "execution_count": null,
   "id": "e163b729",
   "metadata": {},
   "outputs": [],
   "source": [
    "df.cancer.value_counts()"
   ]
  },
  {
   "cell_type": "code",
   "execution_count": 8,
   "id": "43067666",
   "metadata": {},
   "outputs": [],
   "source": [
    "df.to_csv(os.path.join(ROOT_DIR, 'label_v2.csv'), index = False)"
   ]
  },
  {
   "cell_type": "code",
   "execution_count": 6,
   "id": "34cea47b",
   "metadata": {},
   "outputs": [
    {
     "data": {
      "text/html": [
       "<div>\n",
       "<style scoped>\n",
       "    .dataframe tbody tr th:only-of-type {\n",
       "        vertical-align: middle;\n",
       "    }\n",
       "\n",
       "    .dataframe tbody tr th {\n",
       "        vertical-align: top;\n",
       "    }\n",
       "\n",
       "    .dataframe thead th {\n",
       "        text-align: right;\n",
       "    }\n",
       "</style>\n",
       "<table border=\"1\" class=\"dataframe\">\n",
       "  <thead>\n",
       "    <tr style=\"text-align: right;\">\n",
       "      <th></th>\n",
       "      <th>patient_id</th>\n",
       "      <th>image_id</th>\n",
       "      <th>laterality</th>\n",
       "      <th>view</th>\n",
       "      <th>image_name</th>\n",
       "      <th>age</th>\n",
       "      <th>density</th>\n",
       "      <th>BIRADS</th>\n",
       "      <th>findings</th>\n",
       "      <th>tags</th>\n",
       "      <th>machine_id</th>\n",
       "      <th>classification</th>\n",
       "      <th>Type</th>\n",
       "      <th>cancer</th>\n",
       "    </tr>\n",
       "  </thead>\n",
       "  <tbody>\n",
       "    <tr>\n",
       "      <th>0</th>\n",
       "      <td>1</td>\n",
       "      <td>P1_L_MLO</td>\n",
       "      <td>L</td>\n",
       "      <td>MLO</td>\n",
       "      <td>P1_L_DM_MLO</td>\n",
       "      <td>46</td>\n",
       "      <td>C</td>\n",
       "      <td>4</td>\n",
       "      <td>Architectural distortion</td>\n",
       "      <td>suspicious, distortion</td>\n",
       "      <td>1</td>\n",
       "      <td>Malignant</td>\n",
       "      <td>DM</td>\n",
       "      <td>1</td>\n",
       "    </tr>\n",
       "    <tr>\n",
       "      <th>1</th>\n",
       "      <td>2</td>\n",
       "      <td>P2_R_CC</td>\n",
       "      <td>R</td>\n",
       "      <td>CC</td>\n",
       "      <td>P2_R_DM_CC</td>\n",
       "      <td>31</td>\n",
       "      <td>C</td>\n",
       "      <td>3$2</td>\n",
       "      <td>Multiple equal density  masses$Benign macrocal...</td>\n",
       "      <td>benign, masses, macrocalcification</td>\n",
       "      <td>2</td>\n",
       "      <td>Benign</td>\n",
       "      <td>DM</td>\n",
       "      <td>0</td>\n",
       "    </tr>\n",
       "    <tr>\n",
       "      <th>...</th>\n",
       "      <td>...</td>\n",
       "      <td>...</td>\n",
       "      <td>...</td>\n",
       "      <td>...</td>\n",
       "      <td>...</td>\n",
       "      <td>...</td>\n",
       "      <td>...</td>\n",
       "      <td>...</td>\n",
       "      <td>...</td>\n",
       "      <td>...</td>\n",
       "      <td>...</td>\n",
       "      <td>...</td>\n",
       "      <td>...</td>\n",
       "      <td>...</td>\n",
       "    </tr>\n",
       "    <tr>\n",
       "      <th>1001</th>\n",
       "      <td>326</td>\n",
       "      <td>P326_L_CC</td>\n",
       "      <td>L</td>\n",
       "      <td>CC</td>\n",
       "      <td>P326_L_DM_CC</td>\n",
       "      <td>51</td>\n",
       "      <td>C</td>\n",
       "      <td>3</td>\n",
       "      <td>Asymmetrical increased density</td>\n",
       "      <td>asymmetry</td>\n",
       "      <td>1</td>\n",
       "      <td>Malignant</td>\n",
       "      <td>DM</td>\n",
       "      <td>1</td>\n",
       "    </tr>\n",
       "    <tr>\n",
       "      <th>1002</th>\n",
       "      <td>326</td>\n",
       "      <td>P326_L_MLO</td>\n",
       "      <td>L</td>\n",
       "      <td>MLO</td>\n",
       "      <td>P326_L_DM_MLO</td>\n",
       "      <td>51</td>\n",
       "      <td>C</td>\n",
       "      <td>3</td>\n",
       "      <td>Asymmetrical increased density</td>\n",
       "      <td>asymmetry</td>\n",
       "      <td>1</td>\n",
       "      <td>Malignant</td>\n",
       "      <td>DM</td>\n",
       "      <td>1</td>\n",
       "    </tr>\n",
       "  </tbody>\n",
       "</table>\n",
       "<p>1003 rows × 14 columns</p>\n",
       "</div>"
      ],
      "text/plain": [
       "      patient_id    image_id laterality view     image_name  age density  \\\n",
       "0              1    P1_L_MLO          L  MLO    P1_L_DM_MLO   46       C   \n",
       "1              2     P2_R_CC          R   CC     P2_R_DM_CC   31       C   \n",
       "...          ...         ...        ...  ...            ...  ...     ...   \n",
       "1001         326   P326_L_CC          L   CC   P326_L_DM_CC   51       C   \n",
       "1002         326  P326_L_MLO          L  MLO  P326_L_DM_MLO   51       C   \n",
       "\n",
       "     BIRADS                                           findings  \\\n",
       "0         4                          Architectural distortion    \n",
       "1       3$2  Multiple equal density  masses$Benign macrocal...   \n",
       "...     ...                                                ...   \n",
       "1001      3                    Asymmetrical increased density    \n",
       "1002      3                    Asymmetrical increased density    \n",
       "\n",
       "                                    tags  machine_id classification Type  \\\n",
       "0                 suspicious, distortion           1      Malignant   DM   \n",
       "1     benign, masses, macrocalcification           2         Benign   DM   \n",
       "...                                  ...         ...            ...  ...   \n",
       "1001                           asymmetry           1      Malignant   DM   \n",
       "1002                           asymmetry           1      Malignant   DM   \n",
       "\n",
       "      cancer  \n",
       "0          1  \n",
       "1          0  \n",
       "...      ...  \n",
       "1001       1  \n",
       "1002       1  \n",
       "\n",
       "[1003 rows x 14 columns]"
      ]
     },
     "execution_count": 6,
     "metadata": {},
     "output_type": "execute_result"
    }
   ],
   "source": [
    "df = pd.read_csv(os.path.join(ROOT_DIR, 'label_v2.csv'))\n",
    "df"
   ]
  },
  {
   "cell_type": "code",
   "execution_count": 7,
   "id": "6887483e",
   "metadata": {},
   "outputs": [],
   "source": [
    "df['image_id']  = df['image_id'].apply(lambda x: x.strip())"
   ]
  },
  {
   "cell_type": "code",
   "execution_count": null,
   "id": "d5b60b39",
   "metadata": {},
   "outputs": [],
   "source": []
  },
  {
   "cell_type": "code",
   "execution_count": null,
   "id": "a056f613",
   "metadata": {},
   "outputs": [],
   "source": []
  },
  {
   "cell_type": "code",
   "execution_count": null,
   "id": "7fdaafb3",
   "metadata": {},
   "outputs": [],
   "source": []
  }
 ],
 "metadata": {
  "kernelspec": {
   "display_name": "Python 3 (ipykernel)",
   "language": "python",
   "name": "python3"
  },
  "language_info": {
   "codemirror_mode": {
    "name": "ipython",
    "version": 3
   },
   "file_extension": ".py",
   "mimetype": "text/x-python",
   "name": "python",
   "nbconvert_exporter": "python",
   "pygments_lexer": "ipython3",
   "version": "3.10.8"
  }
 },
 "nbformat": 4,
 "nbformat_minor": 5
}
