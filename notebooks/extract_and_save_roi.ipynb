{
 "cells": [
  {
   "cell_type": "code",
   "execution_count": 1,
   "id": "3e95571a",
   "metadata": {},
   "outputs": [],
   "source": [
    "import pandas as pd\n",
    "import numpy as np\n",
    "import cv2\n",
    "import os\n",
    "from tqdm import tqdm\n",
    "from joblib import Parallel, delayed\n",
    "from tqdm import tqdm\n"
   ]
  },
  {
   "cell_type": "code",
   "execution_count": 2,
   "id": "1f480340",
   "metadata": {},
   "outputs": [],
   "source": [
    "IMG_DIR = '../datasets/exports/uint8_png/'\n",
    "LABEL_DIR = '../datasets/roi_det/detect/yolox_nano_bre_416_datav2/'\n",
    "SAVE_DIR = '../datasets/crops/uint8_png@yolox_nano_bre_416_datav2/'\n",
    "DTYPE = 'uint8'"
   ]
  },
  {
   "cell_type": "code",
   "execution_count": 3,
   "id": "1ecacbea",
   "metadata": {},
   "outputs": [],
   "source": [
    "os.makedirs(SAVE_DIR, exist_ok = True)"
   ]
  },
  {
   "cell_type": "code",
   "execution_count": 4,
   "id": "7509dced",
   "metadata": {},
   "outputs": [
    {
     "name": "stderr",
     "output_type": "stream",
     "text": [
      "100%|█████████████████████████████████████████████████████| 54706/54706 [1:15:08<00:00, 12.13it/s]\n"
     ]
    }
   ],
   "source": [
    "img_names = os.listdir(IMG_DIR)\n",
    "    \n",
    "def process_one(img_name):\n",
    "    label_name = img_name.replace('.png', '.txt')\n",
    "    img_path = os.path.join(IMG_DIR, img_name)\n",
    "    label_path = os.path.join(LABEL_DIR, label_name)\n",
    "    save_crop_path = os.path.join(SAVE_DIR, img_name)\n",
    "    img = cv2.imread(img_path, cv2.IMREAD_ANYDEPTH)\n",
    "    if DTYPE == 'uint8':\n",
    "        assert img.dtype == np.uint8\n",
    "    elif DTYPE == 'uint16':\n",
    "        assert img.dtype == np.uint16\n",
    "    else:\n",
    "        raise ValueError()\n",
    "    \n",
    "    img_h, img_w = img.shape[:2]\n",
    "    \n",
    "    try:\n",
    "        label = np.loadtxt(label_path, delimiter= ' ').reshape((1, 5))\n",
    "    except Exception as e:\n",
    "        print('Error:', img_name)\n",
    "        raise e\n",
    "    \n",
    "    xywh = label[0, 1:]\n",
    "    ltrb = xywh.copy()\n",
    "    ltrb[:2] = ltrb[:2] - ltrb[2:] / 2\n",
    "    ltrb[2:] = ltrb[:2] + ltrb[2:]\n",
    "    \n",
    "    ltrb[ltrb > 1.0] = 1.0\n",
    "    ltrb[ltrb < 0.0] = 0.0\n",
    "    l = int(ltrb[0] * img_w)\n",
    "    t = int(ltrb[1] * img_h)\n",
    "    r = int(ltrb[2] * img_w)\n",
    "    b = int(ltrb[3] * img_h)\n",
    "    crop = img[t:b, l:r]\n",
    "    try:\n",
    "        cv2.imwrite(save_crop_path, crop)\n",
    "    except:\n",
    "        print(img_name)\n",
    "        print(l, t, r, b)\n",
    "        print(img_w, img_h)\n",
    "        print(crop)\n",
    "        \n",
    "\n",
    "        \n",
    "_ = Parallel(n_jobs=32, backend='multiprocessing')(\n",
    "            delayed(process_one)(img_name)\n",
    "            for img_name in tqdm(img_names))"
   ]
  },
  {
   "cell_type": "code",
   "execution_count": null,
   "id": "c6a3e661",
   "metadata": {},
   "outputs": [],
   "source": []
  },
  {
   "cell_type": "code",
   "execution_count": null,
   "id": "ee0ca1bf",
   "metadata": {},
   "outputs": [],
   "source": []
  },
  {
   "cell_type": "code",
   "execution_count": null,
   "id": "561a1263",
   "metadata": {},
   "outputs": [],
   "source": []
  },
  {
   "cell_type": "code",
   "execution_count": null,
   "id": "de2ae505",
   "metadata": {},
   "outputs": [],
   "source": []
  },
  {
   "cell_type": "code",
   "execution_count": null,
   "id": "56e4ba45",
   "metadata": {},
   "outputs": [],
   "source": []
  },
  {
   "cell_type": "code",
   "execution_count": null,
   "id": "f6198700",
   "metadata": {},
   "outputs": [],
   "source": []
  },
  {
   "cell_type": "code",
   "execution_count": null,
   "id": "223c1077",
   "metadata": {},
   "outputs": [],
   "source": []
  }
 ],
 "metadata": {
  "kernelspec": {
   "display_name": "Python 3 (ipykernel)",
   "language": "python",
   "name": "python3"
  },
  "language_info": {
   "codemirror_mode": {
    "name": "ipython",
    "version": 3
   },
   "file_extension": ".py",
   "mimetype": "text/x-python",
   "name": "python",
   "nbconvert_exporter": "python",
   "pygments_lexer": "ipython3",
   "version": "3.10.8"
  }
 },
 "nbformat": 4,
 "nbformat_minor": 5
}
