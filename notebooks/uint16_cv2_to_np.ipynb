{
 "cells": [
  {
   "cell_type": "code",
   "execution_count": 8,
   "id": "5cc42fa6",
   "metadata": {},
   "outputs": [],
   "source": [
    "import os\n",
    "import sys\n",
    "import cv2\n",
    "import numpy as np\n",
    "from tqdm import tqdm"
   ]
  },
  {
   "cell_type": "code",
   "execution_count": 9,
   "id": "4b6265f4",
   "metadata": {},
   "outputs": [],
   "source": [
    "SRC_DIR = '/raid/.comp/export_uint16_png_v2/'\n",
    "DST_DIR = '/raid/.comp/jpeg_export_uint16_png_v2/'\n",
    "\n",
    "os.makedirs(DST_DIR, exist_ok = True)"
   ]
  },
  {
   "cell_type": "code",
   "execution_count": 7,
   "id": "cd83e2bb",
   "metadata": {},
   "outputs": [
    {
     "name": "stdout",
     "output_type": "stream",
     "text": [
      "Number of images: 54706\n"
     ]
    },
    {
     "name": "stderr",
     "output_type": "stream",
     "text": [
      "100%|█████████████████████████████████████████| 1000/1000 [03:15<00:00,  5.11it/s]\n"
     ]
    }
   ],
   "source": [
    "img_names = os.listdir(SRC_DIR)\n",
    "print('Number of images:', len(img_names))\n",
    "\n",
    "for img_name in tqdm(img_names[:1000]):\n",
    "    img_path = os.path.join(SRC_DIR, img_name)\n",
    "    save_path = os.path.join(DST_DIR, img_name.replace('.png', '.npy'))\n",
    "    img = cv2.imread(img_path, cv2.IMREAD_ANYDEPTH)\n",
    "    np.save(save_path, img)\n"
   ]
  },
  {
   "cell_type": "code",
   "execution_count": null,
   "id": "20d052e5",
   "metadata": {},
   "outputs": [],
   "source": []
  },
  {
   "cell_type": "code",
   "execution_count": 10,
   "id": "8a5cf72a",
   "metadata": {},
   "outputs": [
    {
     "name": "stdout",
     "output_type": "stream",
     "text": [
      "Number of images: 54706\n"
     ]
    },
    {
     "name": "stderr",
     "output_type": "stream",
     "text": [
      "100%|█████████████████████████████████████████| 1000/1000 [05:57<00:00,  2.80it/s]\n"
     ]
    }
   ],
   "source": [
    "img_names = os.listdir(SRC_DIR)\n",
    "print('Number of images:', len(img_names))\n",
    "\n",
    "for img_name in tqdm(img_names[:1000]):\n",
    "    img_path = os.path.join(SRC_DIR, img_name)\n",
    "    save_path = os.path.join(DST_DIR, img_name.replace('.png', '.jp2'))\n",
    "    img = cv2.imread(img_path, cv2.IMREAD_ANYDEPTH)\n",
    "#     np.save(save_path, img)\n",
    "    cv2.imwrite(img_path, img)"
   ]
  },
  {
   "cell_type": "code",
   "execution_count": null,
   "id": "742a3adf",
   "metadata": {},
   "outputs": [],
   "source": []
  },
  {
   "cell_type": "code",
   "execution_count": null,
   "id": "aa40956e",
   "metadata": {},
   "outputs": [],
   "source": []
  },
  {
   "cell_type": "code",
   "execution_count": null,
   "id": "be6adaf1",
   "metadata": {},
   "outputs": [],
   "source": []
  },
  {
   "cell_type": "code",
   "execution_count": null,
   "id": "11c57880",
   "metadata": {},
   "outputs": [],
   "source": []
  },
  {
   "cell_type": "code",
   "execution_count": null,
   "id": "f73e7a0d",
   "metadata": {},
   "outputs": [],
   "source": []
  }
 ],
 "metadata": {
  "kernelspec": {
   "display_name": "Python 3 (ipykernel)",
   "language": "python",
   "name": "python3"
  },
  "language_info": {
   "codemirror_mode": {
    "name": "ipython",
    "version": 3
   },
   "file_extension": ".py",
   "mimetype": "text/x-python",
   "name": "python",
   "nbconvert_exporter": "python",
   "pygments_lexer": "ipython3",
   "version": "3.10.8"
  }
 },
 "nbformat": 4,
 "nbformat_minor": 5
}
