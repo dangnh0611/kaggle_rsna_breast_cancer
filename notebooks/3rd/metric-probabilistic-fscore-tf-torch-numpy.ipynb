{
 "cells": [
  {
   "cell_type": "markdown",
   "id": "a0deeb47",
   "metadata": {
    "_cell_guid": "b1076dfc-b9ad-4769-8c92-a6c4dae69d19",
    "_uuid": "8f2839f25d086af736a60e9eeb907d3b93b6e0e5",
    "execution": {
     "iopub.execute_input": "2022-11-23T17:36:31.237715Z",
     "iopub.status.busy": "2022-11-23T17:36:31.237182Z",
     "iopub.status.idle": "2022-11-23T17:36:31.268217Z",
     "shell.execute_reply": "2022-11-23T17:36:31.26697Z",
     "shell.execute_reply.started": "2022-11-23T17:36:31.237581Z"
    },
    "papermill": {
     "duration": 0.009365,
     "end_time": "2022-12-29T14:59:35.546709",
     "exception": false,
     "start_time": "2022-12-29T14:59:35.537344",
     "status": "completed"
    },
    "tags": []
   },
   "source": [
    "This is implements the probablistic F score described here:\n",
    "\n",
    "https://aclanthology.org/2020.eval4nlp-1.9.pdf"
   ]
  },
  {
   "cell_type": "markdown",
   "id": "93366512",
   "metadata": {
    "papermill": {
     "duration": 0.007462,
     "end_time": "2022-12-29T14:59:35.563188",
     "exception": false,
     "start_time": "2022-12-29T14:59:35.555726",
     "status": "completed"
    },
    "tags": []
   },
   "source": [
    "# Implementation\n",
    "Instead of using for loop we can use following methods to speed up our metric calculations. Tensorflow, Torch and Numpy takes nearly `78ms` comparing native loop method which takes `19s` which is nearly `140x` slower for `5M` samples. For our competition there will not be that many samples, but we can still save some time. \n",
    "$$\n",
    "pF1=2\\frac{pPrecision⋅pRecall}{pPrecision+pRecall}\n",
    "$$\n",
    "\n",
    "Where,\n",
    "$$\n",
    "pPrecision=\\frac{pTP}{pTP+pFP}\n",
    "$$\n",
    "$$\n",
    "pRecall=\\frac{pTP}{TP+FN}\n",
    "$$"
   ]
  },
  {
   "cell_type": "markdown",
   "id": "d1d8f527",
   "metadata": {
    "papermill": {
     "duration": 0.007905,
     "end_time": "2022-12-29T14:59:35.578875",
     "exception": false,
     "start_time": "2022-12-29T14:59:35.570970",
     "status": "completed"
    },
    "tags": []
   },
   "source": [
    "# Dummy Labels and Predictions"
   ]
  },
  {
   "cell_type": "code",
   "execution_count": 1,
   "id": "a1cbdb49",
   "metadata": {
    "execution": {
     "iopub.execute_input": "2022-12-29T14:59:35.597154Z",
     "iopub.status.busy": "2022-12-29T14:59:35.596392Z",
     "iopub.status.idle": "2022-12-29T14:59:35.752344Z",
     "shell.execute_reply": "2022-12-29T14:59:35.750497Z"
    },
    "papermill": {
     "duration": 0.170063,
     "end_time": "2022-12-29T14:59:35.756916",
     "exception": false,
     "start_time": "2022-12-29T14:59:35.586853",
     "status": "completed"
    },
    "tags": []
   },
   "outputs": [],
   "source": [
    "import numpy as np\n",
    "np.random.seed(42)\n",
    "labels = np.random.randint(0, 2, size=(5000000)).astype(np.float32)\n",
    "preds = np.random.uniform(0, 1, size=(5000000)).astype(np.float32)"
   ]
  },
  {
   "cell_type": "markdown",
   "id": "fb98a6fe",
   "metadata": {
    "papermill": {
     "duration": 0.008496,
     "end_time": "2022-12-29T14:59:35.773162",
     "exception": false,
     "start_time": "2022-12-29T14:59:35.764666",
     "status": "completed"
    },
    "tags": []
   },
   "source": [
    "# Naive Python (using `for` loop)"
   ]
  },
  {
   "cell_type": "code",
   "execution_count": 2,
   "id": "b7d45720",
   "metadata": {
    "execution": {
     "iopub.execute_input": "2022-12-29T14:59:35.792172Z",
     "iopub.status.busy": "2022-12-29T14:59:35.791537Z",
     "iopub.status.idle": "2022-12-29T14:59:35.808185Z",
     "shell.execute_reply": "2022-12-29T14:59:35.806754Z"
    },
    "papermill": {
     "duration": 0.030001,
     "end_time": "2022-12-29T14:59:35.811150",
     "exception": false,
     "start_time": "2022-12-29T14:59:35.781149",
     "status": "completed"
    },
    "tags": []
   },
   "outputs": [],
   "source": [
    "def pfbeta(labels, predictions, beta=1):\n",
    "    y_true_count = 0\n",
    "    ctp = 0\n",
    "    cfp = 0\n",
    "\n",
    "    for idx in range(len(labels)):\n",
    "        prediction = min(max(predictions[idx], 0), 1)\n",
    "        if (labels[idx]):\n",
    "            y_true_count += 1\n",
    "            ctp += prediction\n",
    "        else:\n",
    "            cfp += prediction\n",
    "\n",
    "    beta_squared = beta * beta\n",
    "    c_precision = ctp / (ctp + cfp)\n",
    "    c_recall = ctp / y_true_count\n",
    "    if (c_precision > 0 and c_recall > 0):\n",
    "        result = (1 + beta_squared) * (c_precision * c_recall) / (beta_squared * c_precision + c_recall)\n",
    "        return result\n",
    "    else:\n",
    "        return 0"
   ]
  },
  {
   "cell_type": "code",
   "execution_count": 3,
   "id": "daaffd94",
   "metadata": {
    "execution": {
     "iopub.execute_input": "2022-12-29T14:59:35.828095Z",
     "iopub.status.busy": "2022-12-29T14:59:35.826901Z",
     "iopub.status.idle": "2022-12-29T14:59:59.060394Z",
     "shell.execute_reply": "2022-12-29T14:59:59.058899Z"
    },
    "papermill": {
     "duration": 23.247518,
     "end_time": "2022-12-29T14:59:59.065946",
     "exception": false,
     "start_time": "2022-12-29T14:59:35.818428",
     "status": "completed"
    },
    "tags": []
   },
   "outputs": [
    {
     "name": "stdout",
     "output_type": "stream",
     "text": [
      "CPU times: user 23.2 s, sys: 3.52 ms, total: 23.2 s\n",
      "Wall time: 23.2 s\n"
     ]
    },
    {
     "data": {
      "text/plain": [
       "0.4999093296483036"
      ]
     },
     "execution_count": 3,
     "metadata": {},
     "output_type": "execute_result"
    }
   ],
   "source": [
    "%%time\n",
    "pfbeta(labels, preds)"
   ]
  },
  {
   "cell_type": "markdown",
   "id": "8f0a56f7",
   "metadata": {
    "papermill": {
     "duration": 0.007113,
     "end_time": "2022-12-29T14:59:59.084169",
     "exception": false,
     "start_time": "2022-12-29T14:59:59.077056",
     "status": "completed"
    },
    "tags": []
   },
   "source": [
    "# Numpy"
   ]
  },
  {
   "cell_type": "code",
   "execution_count": 4,
   "id": "334e0b9e",
   "metadata": {
    "execution": {
     "iopub.execute_input": "2022-12-29T14:59:59.101576Z",
     "iopub.status.busy": "2022-12-29T14:59:59.101123Z",
     "iopub.status.idle": "2022-12-29T14:59:59.109541Z",
     "shell.execute_reply": "2022-12-29T14:59:59.108132Z"
    },
    "papermill": {
     "duration": 0.020343,
     "end_time": "2022-12-29T14:59:59.112453",
     "exception": false,
     "start_time": "2022-12-29T14:59:59.092110",
     "status": "completed"
    },
    "tags": []
   },
   "outputs": [],
   "source": [
    "def pfbeta_np(labels, preds, beta=1):\n",
    "    preds = preds.clip(0, 1)\n",
    "    y_true_count = labels.sum()\n",
    "    ctp = preds[labels==1].sum()\n",
    "    cfp = preds[labels==0].sum()\n",
    "    beta_squared = beta * beta\n",
    "    c_precision = ctp / (ctp + cfp)\n",
    "    c_recall = ctp / y_true_count\n",
    "    if (c_precision > 0 and c_recall > 0):\n",
    "        result = (1 + beta_squared) * (c_precision * c_recall) / (beta_squared * c_precision + c_recall)\n",
    "        return result\n",
    "    else:\n",
    "        return 0.0"
   ]
  },
  {
   "cell_type": "code",
   "execution_count": 5,
   "id": "ee02f01a",
   "metadata": {
    "execution": {
     "iopub.execute_input": "2022-12-29T14:59:59.129997Z",
     "iopub.status.busy": "2022-12-29T14:59:59.129557Z",
     "iopub.status.idle": "2022-12-29T14:59:59.262153Z",
     "shell.execute_reply": "2022-12-29T14:59:59.260275Z"
    },
    "papermill": {
     "duration": 0.145048,
     "end_time": "2022-12-29T14:59:59.265243",
     "exception": false,
     "start_time": "2022-12-29T14:59:59.120195",
     "status": "completed"
    },
    "tags": []
   },
   "outputs": [
    {
     "name": "stdout",
     "output_type": "stream",
     "text": [
      "CPU times: user 107 ms, sys: 12.9 ms, total: 120 ms\n",
      "Wall time: 119 ms\n"
     ]
    },
    {
     "data": {
      "text/plain": [
       "0.4999094292348718"
      ]
     },
     "execution_count": 5,
     "metadata": {},
     "output_type": "execute_result"
    }
   ],
   "source": [
    "%%time\n",
    "pfbeta_np(labels, preds)"
   ]
  },
  {
   "cell_type": "markdown",
   "id": "42edbbde",
   "metadata": {
    "papermill": {
     "duration": 0.008513,
     "end_time": "2022-12-29T14:59:59.281473",
     "exception": false,
     "start_time": "2022-12-29T14:59:59.272960",
     "status": "completed"
    },
    "tags": []
   },
   "source": [
    "# Numba"
   ]
  },
  {
   "cell_type": "code",
   "execution_count": 6,
   "id": "d95c42b4",
   "metadata": {
    "execution": {
     "iopub.execute_input": "2022-12-29T14:59:59.300594Z",
     "iopub.status.busy": "2022-12-29T14:59:59.298870Z",
     "iopub.status.idle": "2022-12-29T15:00:02.497609Z",
     "shell.execute_reply": "2022-12-29T15:00:02.496155Z"
    },
    "papermill": {
     "duration": 3.21229,
     "end_time": "2022-12-29T15:00:02.501676",
     "exception": false,
     "start_time": "2022-12-29T14:59:59.289386",
     "status": "completed"
    },
    "tags": []
   },
   "outputs": [
    {
     "data": {
      "text/plain": [
       "0.4998940004682342"
      ]
     },
     "execution_count": 6,
     "metadata": {},
     "output_type": "execute_result"
    }
   ],
   "source": [
    "from numba import njit, jit\n",
    "# @jit(nopython=True)\n",
    "@njit\n",
    "def pfbeta_numba(labels, preds, beta=1):\n",
    "    preds = preds.clip(0, 1)\n",
    "    y_true_count = labels.sum()\n",
    "    ctp = preds[labels==1].sum()\n",
    "    cfp = preds[labels==0].sum()\n",
    "    beta_squared = beta * beta\n",
    "    c_precision = ctp / (ctp + cfp)\n",
    "    c_recall = ctp / y_true_count\n",
    "    if (c_precision > 0 and c_recall > 0):\n",
    "        result = (1 + beta_squared) * (c_precision * c_recall) / (beta_squared * c_precision + c_recall)\n",
    "        return result\n",
    "    else:\n",
    "        return 0.0\n",
    "\n",
    "# run first time to compile\n",
    "pfbeta_numba(labels, preds)"
   ]
  },
  {
   "cell_type": "code",
   "execution_count": 7,
   "id": "d80fe04f",
   "metadata": {
    "execution": {
     "iopub.execute_input": "2022-12-29T15:00:02.522348Z",
     "iopub.status.busy": "2022-12-29T15:00:02.521380Z",
     "iopub.status.idle": "2022-12-29T15:00:02.621311Z",
     "shell.execute_reply": "2022-12-29T15:00:02.618826Z"
    },
    "papermill": {
     "duration": 0.115354,
     "end_time": "2022-12-29T15:00:02.625511",
     "exception": false,
     "start_time": "2022-12-29T15:00:02.510157",
     "status": "completed"
    },
    "tags": []
   },
   "outputs": [
    {
     "name": "stdout",
     "output_type": "stream",
     "text": [
      "CPU times: user 85.8 ms, sys: 0 ns, total: 85.8 ms\n",
      "Wall time: 86.3 ms\n"
     ]
    },
    {
     "data": {
      "text/plain": [
       "0.4998940004682342"
      ]
     },
     "execution_count": 7,
     "metadata": {},
     "output_type": "execute_result"
    }
   ],
   "source": [
    "%%time\n",
    "pfbeta_numba(labels, preds)"
   ]
  },
  {
   "cell_type": "markdown",
   "id": "d3663a16",
   "metadata": {
    "papermill": {
     "duration": 0.009078,
     "end_time": "2022-12-29T15:00:02.643171",
     "exception": false,
     "start_time": "2022-12-29T15:00:02.634093",
     "status": "completed"
    },
    "tags": []
   },
   "source": [
    "# TensorFlow"
   ]
  },
  {
   "cell_type": "markdown",
   "id": "49ffbd37",
   "metadata": {
    "papermill": {
     "duration": 0.008556,
     "end_time": "2022-12-29T15:00:02.660137",
     "exception": false,
     "start_time": "2022-12-29T15:00:02.651581",
     "status": "completed"
    },
    "tags": []
   },
   "source": [
    "## Batchwise"
   ]
  },
  {
   "cell_type": "code",
   "execution_count": 8,
   "id": "b33ffce4",
   "metadata": {
    "execution": {
     "iopub.execute_input": "2022-12-29T15:00:02.681608Z",
     "iopub.status.busy": "2022-12-29T15:00:02.680422Z",
     "iopub.status.idle": "2022-12-29T15:00:02.690785Z",
     "shell.execute_reply": "2022-12-29T15:00:02.688871Z"
    },
    "papermill": {
     "duration": 0.024949,
     "end_time": "2022-12-29T15:00:02.694393",
     "exception": false,
     "start_time": "2022-12-29T15:00:02.669444",
     "status": "completed"
    },
    "tags": []
   },
   "outputs": [],
   "source": [
    "def pfbeta_tf(labels, preds, beta=1):\n",
    "    preds = tf.clip_by_value(preds, 0, 1)\n",
    "    y_true_count = tf.reduce_sum(labels)\n",
    "    ctp = tf.reduce_sum(preds[labels==1])\n",
    "    cfp = tf.reduce_sum(preds[labels==0])\n",
    "    beta_squared = beta * beta\n",
    "    c_precision = ctp / (ctp + cfp)\n",
    "    c_recall = ctp / y_true_count\n",
    "    if (c_precision > 0 and c_recall > 0):\n",
    "        result = (1 + beta_squared) * (c_precision * c_recall) / (beta_squared * c_precision + c_recall)\n",
    "        return result\n",
    "    else:\n",
    "        return 0.0"
   ]
  },
  {
   "cell_type": "code",
   "execution_count": 9,
   "id": "3e9facc0",
   "metadata": {
    "execution": {
     "iopub.execute_input": "2022-12-29T15:00:02.713068Z",
     "iopub.status.busy": "2022-12-29T15:00:02.712565Z",
     "iopub.status.idle": "2022-12-29T15:00:09.588809Z",
     "shell.execute_reply": "2022-12-29T15:00:09.587180Z"
    },
    "papermill": {
     "duration": 6.889376,
     "end_time": "2022-12-29T15:00:09.592141",
     "exception": false,
     "start_time": "2022-12-29T15:00:02.702765",
     "status": "completed"
    },
    "tags": []
   },
   "outputs": [
    {
     "name": "stderr",
     "output_type": "stream",
     "text": [
      "2022-12-29 15:00:09.520919: I tensorflow/core/common_runtime/process_util.cc:146] Creating new thread pool with default inter op setting: 2. Tune using inter_op_parallelism_threads for best performance.\n"
     ]
    }
   ],
   "source": [
    "import tensorflow as tf\n",
    "labels = tf.convert_to_tensor(labels)\n",
    "preds = tf.convert_to_tensor(preds)"
   ]
  },
  {
   "cell_type": "code",
   "execution_count": 10,
   "id": "0d2a88ff",
   "metadata": {
    "execution": {
     "iopub.execute_input": "2022-12-29T15:00:09.611141Z",
     "iopub.status.busy": "2022-12-29T15:00:09.610383Z",
     "iopub.status.idle": "2022-12-29T15:00:09.830959Z",
     "shell.execute_reply": "2022-12-29T15:00:09.829996Z"
    },
    "papermill": {
     "duration": 0.233794,
     "end_time": "2022-12-29T15:00:09.834304",
     "exception": false,
     "start_time": "2022-12-29T15:00:09.600510",
     "status": "completed"
    },
    "tags": []
   },
   "outputs": [
    {
     "name": "stdout",
     "output_type": "stream",
     "text": [
      "CPU times: user 181 ms, sys: 56.7 ms, total: 238 ms\n",
      "Wall time: 210 ms\n"
     ]
    },
    {
     "data": {
      "text/plain": [
       "<tf.Tensor: shape=(), dtype=float32, numpy=0.49990934>"
      ]
     },
     "execution_count": 10,
     "metadata": {},
     "output_type": "execute_result"
    }
   ],
   "source": [
    "%%time\n",
    "pfbeta_tf(labels, preds)"
   ]
  },
  {
   "cell_type": "markdown",
   "id": "b244de15",
   "metadata": {
    "papermill": {
     "duration": 0.008003,
     "end_time": "2022-12-29T15:00:09.850734",
     "exception": false,
     "start_time": "2022-12-29T15:00:09.842731",
     "status": "completed"
    },
    "tags": []
   },
   "source": [
    "## Overall\n",
    "It holds the intermediate state hence can aggregate overall result unlike previous one."
   ]
  },
  {
   "cell_type": "code",
   "execution_count": 11,
   "id": "bd52f781",
   "metadata": {
    "execution": {
     "iopub.execute_input": "2022-12-29T15:00:09.870136Z",
     "iopub.status.busy": "2022-12-29T15:00:09.869375Z",
     "iopub.status.idle": "2022-12-29T15:00:11.159637Z",
     "shell.execute_reply": "2022-12-29T15:00:11.157762Z"
    },
    "papermill": {
     "duration": 1.304411,
     "end_time": "2022-12-29T15:00:11.163285",
     "exception": false,
     "start_time": "2022-12-29T15:00:09.858874",
     "status": "completed"
    },
    "tags": []
   },
   "outputs": [],
   "source": [
    "class pFBeta(tf.keras.metrics.Metric):\n",
    "    \"\"\"Compute overall probabilistic F-beta score.\"\"\"\n",
    "    def __init__(self, beta=1, epsilon=1e-5, name='pfbeta', **kwargs):\n",
    "        super().__init__(name=name, **kwargs)\n",
    "        self.beta = beta\n",
    "        self.epsilon = epsilon\n",
    "        self.pos = self.add_weight(name='pos', initializer='zeros')\n",
    "        self.ctp = self.add_weight(name='ctp', initializer='zeros')\n",
    "        self.cfp = self.add_weight(name='cfp', initializer='zeros')\n",
    "        \n",
    "    def update_state(self, y_true, y_pred, sample_weight=None):\n",
    "        y_true = tf.cast(y_true, tf.float32)\n",
    "        y_pred = tf.clip_by_value(y_pred, 0, 1)\n",
    "        pos = tf.reduce_sum(y_true)\n",
    "        ctp = tf.reduce_sum(y_pred[y_true==1])\n",
    "        cfp = tf.reduce_sum(y_pred[y_true==0])\n",
    "        self.pos.assign_add(pos)\n",
    "        self.ctp.assign_add(ctp)\n",
    "        self.cfp.assign_add(cfp)\n",
    "        \n",
    "    def result(self):\n",
    "        beta_squared = self.beta * self.beta\n",
    "        c_precision = self.ctp / (self.ctp + self.cfp + self.epsilon)\n",
    "        c_recall = self.ctp / (self.pos + self.epsilon)\n",
    "        result = (1 + beta_squared) * (c_precision * c_recall) / (beta_squared * c_precision + c_recall)\n",
    "        return tf.cond(c_precision > 0 and c_recall > 0, lambda: result, lambda: 0.0)"
   ]
  },
  {
   "cell_type": "code",
   "execution_count": 12,
   "id": "c4dbeb4f",
   "metadata": {
    "execution": {
     "iopub.execute_input": "2022-12-29T15:00:11.183900Z",
     "iopub.status.busy": "2022-12-29T15:00:11.183449Z",
     "iopub.status.idle": "2022-12-29T15:00:11.227215Z",
     "shell.execute_reply": "2022-12-29T15:00:11.225764Z"
    },
    "papermill": {
     "duration": 0.05803,
     "end_time": "2022-12-29T15:00:11.230500",
     "exception": false,
     "start_time": "2022-12-29T15:00:11.172470",
     "status": "completed"
    },
    "tags": []
   },
   "outputs": [],
   "source": [
    "pfbeta_tf_v2 = pFBeta(beta=1, epsilon=0)"
   ]
  },
  {
   "cell_type": "code",
   "execution_count": 13,
   "id": "db375670",
   "metadata": {
    "execution": {
     "iopub.execute_input": "2022-12-29T15:00:11.249316Z",
     "iopub.status.busy": "2022-12-29T15:00:11.248788Z",
     "iopub.status.idle": "2022-12-29T15:00:11.727214Z",
     "shell.execute_reply": "2022-12-29T15:00:11.725499Z"
    },
    "papermill": {
     "duration": 0.491532,
     "end_time": "2022-12-29T15:00:11.730279",
     "exception": false,
     "start_time": "2022-12-29T15:00:11.238747",
     "status": "completed"
    },
    "tags": []
   },
   "outputs": [
    {
     "name": "stdout",
     "output_type": "stream",
     "text": [
      "CPU times: user 530 ms, sys: 1.83 ms, total: 532 ms\n",
      "Wall time: 469 ms\n"
     ]
    },
    {
     "data": {
      "text/plain": [
       "<tf.Tensor: shape=(), dtype=float32, numpy=0.49990934>"
      ]
     },
     "execution_count": 13,
     "metadata": {},
     "output_type": "execute_result"
    }
   ],
   "source": [
    "%%time\n",
    "pfbeta_tf_v2.update_state(labels, preds)\n",
    "pfbeta_tf_v2.result()"
   ]
  },
  {
   "cell_type": "markdown",
   "id": "33f6d9df",
   "metadata": {
    "papermill": {
     "duration": 0.008981,
     "end_time": "2022-12-29T15:00:11.750503",
     "exception": false,
     "start_time": "2022-12-29T15:00:11.741522",
     "status": "completed"
    },
    "tags": []
   },
   "source": [
    "This will give you overall pFBeta score for overall data during training. This perks comes from using `tf.kreas.metrics.Metric`. For an example, below I am updating the state again with another batch of samples.  When I can result it will show me the overall computed result rather than batch-wise aggregates result."
   ]
  },
  {
   "cell_type": "code",
   "execution_count": 14,
   "id": "d9b8edfb",
   "metadata": {
    "execution": {
     "iopub.execute_input": "2022-12-29T15:00:11.771220Z",
     "iopub.status.busy": "2022-12-29T15:00:11.770758Z",
     "iopub.status.idle": "2022-12-29T15:00:11.911474Z",
     "shell.execute_reply": "2022-12-29T15:00:11.909761Z"
    },
    "papermill": {
     "duration": 0.154837,
     "end_time": "2022-12-29T15:00:11.914539",
     "exception": false,
     "start_time": "2022-12-29T15:00:11.759702",
     "status": "completed"
    },
    "tags": []
   },
   "outputs": [
    {
     "data": {
      "text/plain": [
       "<tf.Tensor: shape=(), dtype=float32, numpy=0.5118099>"
      ]
     },
     "execution_count": 14,
     "metadata": {},
     "output_type": "execute_result"
    }
   ],
   "source": [
    "pfbeta_tf_v2.update_state(labels, preds+0.05)\n",
    "pfbeta_tf_v2.result()"
   ]
  },
  {
   "cell_type": "markdown",
   "id": "500f3e00",
   "metadata": {
    "papermill": {
     "duration": 0.008013,
     "end_time": "2022-12-29T15:00:11.931573",
     "exception": false,
     "start_time": "2022-12-29T15:00:11.923560",
     "status": "completed"
    },
    "tags": []
   },
   "source": [
    "You would get the same result if you concat these two batches and compute metric at once, Here an example "
   ]
  },
  {
   "cell_type": "code",
   "execution_count": 15,
   "id": "1f4f2393",
   "metadata": {
    "execution": {
     "iopub.execute_input": "2022-12-29T15:00:11.951331Z",
     "iopub.status.busy": "2022-12-29T15:00:11.950848Z",
     "iopub.status.idle": "2022-12-29T15:00:12.230602Z",
     "shell.execute_reply": "2022-12-29T15:00:12.228946Z"
    },
    "papermill": {
     "duration": 0.292964,
     "end_time": "2022-12-29T15:00:12.233482",
     "exception": false,
     "start_time": "2022-12-29T15:00:11.940518",
     "status": "completed"
    },
    "tags": []
   },
   "outputs": [
    {
     "data": {
      "text/plain": [
       "<tf.Tensor: shape=(), dtype=float32, numpy=0.51180995>"
      ]
     },
     "execution_count": 15,
     "metadata": {},
     "output_type": "execute_result"
    }
   ],
   "source": [
    "pfbeta_tf(tf.concat([labels, labels],0), tf.concat([preds, preds+0.05],0))"
   ]
  },
  {
   "cell_type": "markdown",
   "id": "595ad245",
   "metadata": {
    "papermill": {
     "duration": 0.008515,
     "end_time": "2022-12-29T15:00:12.251523",
     "exception": false,
     "start_time": "2022-12-29T15:00:12.243008",
     "status": "completed"
    },
    "tags": []
   },
   "source": [
    "# Torch (Same as `numpy`)"
   ]
  },
  {
   "cell_type": "code",
   "execution_count": 16,
   "id": "ac6652d2",
   "metadata": {
    "execution": {
     "iopub.execute_input": "2022-12-29T15:00:12.273110Z",
     "iopub.status.busy": "2022-12-29T15:00:12.272603Z",
     "iopub.status.idle": "2022-12-29T15:00:12.281425Z",
     "shell.execute_reply": "2022-12-29T15:00:12.279850Z"
    },
    "papermill": {
     "duration": 0.02289,
     "end_time": "2022-12-29T15:00:12.284205",
     "exception": false,
     "start_time": "2022-12-29T15:00:12.261315",
     "status": "completed"
    },
    "tags": []
   },
   "outputs": [],
   "source": [
    "def pfbeta_torch(labels, preds, beta=1):\n",
    "    preds = preds.clip(0, 1)\n",
    "    y_true_count = labels.sum()\n",
    "    ctp = preds[labels==1].sum()\n",
    "    cfp = preds[labels==0].sum()\n",
    "    beta_squared = beta * beta\n",
    "    c_precision = ctp / (ctp + cfp)\n",
    "    c_recall = ctp / y_true_count\n",
    "    if (c_precision > 0 and c_recall > 0):\n",
    "        result = (1 + beta_squared) * (c_precision * c_recall) / (beta_squared * c_precision + c_recall)\n",
    "        return result\n",
    "    else:\n",
    "        return 0.0"
   ]
  },
  {
   "cell_type": "code",
   "execution_count": 17,
   "id": "1f8afd55",
   "metadata": {
    "execution": {
     "iopub.execute_input": "2022-12-29T15:00:12.305409Z",
     "iopub.status.busy": "2022-12-29T15:00:12.304880Z",
     "iopub.status.idle": "2022-12-29T15:00:14.516715Z",
     "shell.execute_reply": "2022-12-29T15:00:14.515302Z"
    },
    "papermill": {
     "duration": 2.226165,
     "end_time": "2022-12-29T15:00:14.519929",
     "exception": false,
     "start_time": "2022-12-29T15:00:12.293764",
     "status": "completed"
    },
    "tags": []
   },
   "outputs": [],
   "source": [
    "import torch\n",
    "labels = torch.Tensor(labels.numpy())\n",
    "preds = torch.Tensor(preds.numpy())"
   ]
  },
  {
   "cell_type": "code",
   "execution_count": 18,
   "id": "9a17413c",
   "metadata": {
    "execution": {
     "iopub.execute_input": "2022-12-29T15:00:14.539669Z",
     "iopub.status.busy": "2022-12-29T15:00:14.539217Z",
     "iopub.status.idle": "2022-12-29T15:00:14.698066Z",
     "shell.execute_reply": "2022-12-29T15:00:14.696618Z"
    },
    "papermill": {
     "duration": 0.172376,
     "end_time": "2022-12-29T15:00:14.700872",
     "exception": false,
     "start_time": "2022-12-29T15:00:14.528496",
     "status": "completed"
    },
    "tags": []
   },
   "outputs": [
    {
     "name": "stdout",
     "output_type": "stream",
     "text": [
      "CPU times: user 199 ms, sys: 73.1 ms, total: 272 ms\n",
      "Wall time: 147 ms\n"
     ]
    },
    {
     "data": {
      "text/plain": [
       "tensor(0.4999)"
      ]
     },
     "execution_count": 18,
     "metadata": {},
     "output_type": "execute_result"
    }
   ],
   "source": [
    "%%time\n",
    "pfbeta_torch(labels, preds)"
   ]
  },
  {
   "cell_type": "code",
   "execution_count": null,
   "id": "be5e8569",
   "metadata": {},
   "outputs": [],
   "source": []
  },
  {
   "cell_type": "code",
   "execution_count": 10,
   "id": "31c44612",
   "metadata": {},
   "outputs": [
    {
     "data": {
      "text/plain": [
       "tensor([[1],\n",
       "        [0],\n",
       "        [0],\n",
       "        [0],\n",
       "        [1],\n",
       "        [0],\n",
       "        [0],\n",
       "        [0],\n",
       "        [1],\n",
       "        [0],\n",
       "        [0],\n",
       "        [0],\n",
       "        [1],\n",
       "        [0]])"
      ]
     },
     "execution_count": 10,
     "metadata": {},
     "output_type": "execute_result"
    }
   ],
   "source": [
    "import torch\n",
    "target = torch.Tensor([1, 0, 0, 0, 1, 0, 0, 0, 1, 0, 0, 0, 1, 0]).long().view(-1, 1)\n",
    "target"
   ]
  },
  {
   "cell_type": "code",
   "execution_count": 15,
   "id": "2d52742a",
   "metadata": {},
   "outputs": [
    {
     "data": {
      "text/plain": [
       "tensor([[0.0500, 0.9500],\n",
       "        [0.9500, 0.0500],\n",
       "        [0.9500, 0.0500],\n",
       "        [0.9500, 0.0500],\n",
       "        [0.0500, 0.9500],\n",
       "        [0.9500, 0.0500],\n",
       "        [0.9500, 0.0500],\n",
       "        [0.9500, 0.0500],\n",
       "        [0.0500, 0.9500],\n",
       "        [0.9500, 0.0500],\n",
       "        [0.9500, 0.0500],\n",
       "        [0.9500, 0.0500],\n",
       "        [0.0500, 0.9500],\n",
       "        [0.9500, 0.0500]])"
      ]
     },
     "execution_count": 15,
     "metadata": {},
     "output_type": "execute_result"
    }
   ],
   "source": [
    "torch.full((target.size()[0], 2),\n",
    "                0.05).scatter_(1, target, 0.95)"
   ]
  },
  {
   "cell_type": "code",
   "execution_count": 21,
   "id": "ea25b363",
   "metadata": {},
   "outputs": [
    {
     "data": {
      "text/plain": [
       "tensor([[0.7211],\n",
       "        [0.5125],\n",
       "        [0.5125],\n",
       "        [0.5125],\n",
       "        [0.7211],\n",
       "        [0.5125],\n",
       "        [0.5125],\n",
       "        [0.5125],\n",
       "        [0.7211],\n",
       "        [0.5125],\n",
       "        [0.5125],\n",
       "        [0.5125],\n",
       "        [0.7211],\n",
       "        [0.5125]])"
      ]
     },
     "execution_count": 21,
     "metadata": {},
     "output_type": "execute_result"
    }
   ],
   "source": [
    "torch.where(target.bool(), 0.95, 0.05).sigmoid()"
   ]
  },
  {
   "cell_type": "code",
   "execution_count": null,
   "id": "65c7b574",
   "metadata": {},
   "outputs": [],
   "source": []
  }
 ],
 "metadata": {
  "kernelspec": {
   "display_name": "Python 3 (ipykernel)",
   "language": "python",
   "name": "python3"
  },
  "language_info": {
   "codemirror_mode": {
    "name": "ipython",
    "version": 3
   },
   "file_extension": ".py",
   "mimetype": "text/x-python",
   "name": "python",
   "nbconvert_exporter": "python",
   "pygments_lexer": "ipython3",
   "version": "3.8.13"
  },
  "papermill": {
   "default_parameters": {},
   "duration": 53.393472,
   "end_time": "2022-12-29T15:00:18.104380",
   "environment_variables": {},
   "exception": null,
   "input_path": "__notebook__.ipynb",
   "output_path": "__notebook__.ipynb",
   "parameters": {},
   "start_time": "2022-12-29T14:59:24.710908",
   "version": "2.3.4"
  }
 },
 "nbformat": 4,
 "nbformat_minor": 5
}
