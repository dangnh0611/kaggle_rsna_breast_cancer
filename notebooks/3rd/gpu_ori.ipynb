{
 "cells": [
  {
   "cell_type": "markdown",
   "id": "9043be9d",
   "metadata": {
    "papermill": {
     "duration": 0.006015,
     "end_time": "2022-12-10T17:00:15.112799",
     "exception": false,
     "start_time": "2022-12-10T17:00:15.106784",
     "status": "completed"
    },
    "tags": []
   },
   "source": [
    "[Nvidia Dali ](http://https://docs.nvidia.com/deeplearning/dali/user-guide/docs/index.html) is a GPU based library for very fast data loading and preprocessing.  It contains GPU based image decoders which can be used for fast and parallel decoding of jpeg2000 images.  This notebook contains a minimal example of extracting the jpeg2000 encoded images conatained in a dicom container and decoding them on GPU."
   ]
  },
  {
   "cell_type": "markdown",
   "id": "86edb06c",
   "metadata": {
    "papermill": {
     "duration": 0.004681,
     "end_time": "2022-12-10T17:00:15.122615",
     "exception": false,
     "start_time": "2022-12-10T17:00:15.117934",
     "status": "completed"
    },
    "tags": []
   },
   "source": [
    "![](https://arcwiki.rs.gsu.edu/nvidia_dali_pipeline.png)"
   ]
  },
  {
   "cell_type": "markdown",
   "id": "9cc3f0d1",
   "metadata": {
    "papermill": {
     "duration": 0.004838,
     "end_time": "2022-12-10T17:00:15.132280",
     "exception": false,
     "start_time": "2022-12-10T17:00:15.127442",
     "status": "completed"
    },
    "tags": []
   },
   "source": [
    "**Note:** Need to use a nightly build of DALI because UINT16 support was recently added and is not in the main prod wheel"
   ]
  },
  {
   "cell_type": "code",
   "execution_count": 1,
   "id": "3cfc86e7",
   "metadata": {
    "execution": {
     "iopub.execute_input": "2022-12-10T17:00:15.144500Z",
     "iopub.status.busy": "2022-12-10T17:00:15.143657Z",
     "iopub.status.idle": "2022-12-10T17:00:54.360393Z",
     "shell.execute_reply": "2022-12-10T17:00:54.359266Z"
    },
    "papermill": {
     "duration": 39.226034,
     "end_time": "2022-12-10T17:00:54.363227",
     "exception": false,
     "start_time": "2022-12-10T17:00:15.137193",
     "status": "completed"
    },
    "tags": []
   },
   "outputs": [
    {
     "name": "stdout",
     "output_type": "stream",
     "text": [
      "\u001b[33mWARNING: Running pip as the 'root' user can result in broken permissions and conflicting behaviour with the system package manager. It is recommended to use a virtual environment instead: https://pip.pypa.io/warnings/venv\u001b[0m\u001b[33m\r\n",
      "\u001b[0mLooking in indexes: https://pypi.org/simple, https://developer.download.nvidia.com/compute/redist/nightly\r\n",
      "Collecting nvidia-dali-nightly-cuda110\r\n",
      "  Downloading https://developer.download.nvidia.com/compute/redist/nightly/nvidia-dali-nightly-cuda110/nvidia_dali_nightly_cuda110-1.21.0.dev20221207-6701433-py3-none-manylinux2014_x86_64.whl (446.5 MB)\r\n",
      "\u001b[2K     \u001b[90m━━━━━━━━━━━━━━━━━━━━━━━━━━━━━━━━━━━━━━━\u001b[0m \u001b[32m446.5/446.5 MB\u001b[0m \u001b[31m2.7 MB/s\u001b[0m eta \u001b[36m0:00:00\u001b[0m\r\n",
      "\u001b[?25hInstalling collected packages: nvidia-dali-nightly-cuda110\r\n",
      "Successfully installed nvidia-dali-nightly-cuda110-1.21.0.dev20221207\r\n",
      "\u001b[33mWARNING: Running pip as the 'root' user can result in broken permissions and conflicting behaviour with the system package manager. It is recommended to use a virtual environment instead: https://pip.pypa.io/warnings/venv\u001b[0m\u001b[33m\r\n",
      "\u001b[0m"
     ]
    }
   ],
   "source": [
    "!pip install -qU python-gdcm pydicom pylibjpeg\n",
    "!pip install --extra-index-url https://developer.download.nvidia.com/compute/redist/nightly --upgrade nvidia-dali-nightly-cuda110"
   ]
  },
  {
   "cell_type": "code",
   "execution_count": 2,
   "id": "4e40b268",
   "metadata": {
    "execution": {
     "iopub.execute_input": "2022-12-10T17:00:54.387685Z",
     "iopub.status.busy": "2022-12-10T17:00:54.387307Z",
     "iopub.status.idle": "2022-12-10T17:00:54.906312Z",
     "shell.execute_reply": "2022-12-10T17:00:54.905330Z"
    },
    "papermill": {
     "duration": 0.533991,
     "end_time": "2022-12-10T17:00:54.908615",
     "exception": false,
     "start_time": "2022-12-10T17:00:54.374624",
     "status": "completed"
    },
    "tags": []
   },
   "outputs": [],
   "source": [
    "import numpy as np\n",
    "import pandas as pd\n",
    "import pydicom\n",
    "import glob, os\n",
    "import pydicom\n",
    "from pydicom.filebase import DicomBytesIO\n",
    "from tqdm.notebook import tqdm\n",
    "from joblib import Parallel, delayed\n",
    "\n",
    "from nvidia.dali import pipeline_def\n",
    "import nvidia.dali.fn as fn\n",
    "import nvidia.dali.types as types\n",
    "from nvidia.dali.types import DALIDataType"
   ]
  },
  {
   "cell_type": "code",
   "execution_count": 3,
   "id": "5abd88b6",
   "metadata": {
    "execution": {
     "iopub.execute_input": "2022-12-10T17:00:54.933917Z",
     "iopub.status.busy": "2022-12-10T17:00:54.933617Z",
     "iopub.status.idle": "2022-12-10T17:00:54.940761Z",
     "shell.execute_reply": "2022-12-10T17:00:54.939597Z"
    },
    "papermill": {
     "duration": 0.02194,
     "end_time": "2022-12-10T17:00:54.943217",
     "exception": false,
     "start_time": "2022-12-10T17:00:54.921277",
     "status": "completed"
    },
    "tags": []
   },
   "outputs": [],
   "source": [
    "#here's the magic of hacking the jpeg2000 encoded bitstream.  Function saves jp2 encoded image files contained within dicom which will be later decoded by DALI \n",
    "def convert_dicom_to_j2k(file):\n",
    "    patient = file.split('/')[-2]\n",
    "    image = file.split('/')[-1][:-4]\n",
    "    dcmfile = pydicom.dcmread(f'../input/rsna-breast-cancer-detection/train_images/{file}')\n",
    "    if dcmfile.file_meta.TransferSyntaxUID=='1.2.840.10008.1.2.4.90':\n",
    "        with open(f'../input/rsna-breast-cancer-detection/train_images/{file}', 'rb') as fp:\n",
    "            raw = DicomBytesIO(fp.read())\n",
    "            ds = pydicom.dcmread(raw)\n",
    "        offset = ds.PixelData.find(b\"\\x00\\x00\\x00\\x0C\")  #<---- the jpeg2000 header info we're looking for\n",
    "        hackedbitstream = bytearray()\n",
    "        hackedbitstream.extend(ds.PixelData[offset:])\n",
    "        with open(f\"../working/{patient}_{image}.jp2\", \"wb\") as binary_file:\n",
    "            binary_file.write(hackedbitstream)"
   ]
  },
  {
   "cell_type": "code",
   "execution_count": 4,
   "id": "77abeeb4",
   "metadata": {
    "execution": {
     "iopub.execute_input": "2022-12-10T17:00:54.966969Z",
     "iopub.status.busy": "2022-12-10T17:00:54.966119Z",
     "iopub.status.idle": "2022-12-10T17:00:55.065272Z",
     "shell.execute_reply": "2022-12-10T17:00:55.064285Z"
    },
    "papermill": {
     "duration": 0.112999,
     "end_time": "2022-12-10T17:00:55.067263",
     "exception": false,
     "start_time": "2022-12-10T17:00:54.954264",
     "status": "completed"
    },
    "tags": []
   },
   "outputs": [
    {
     "data": {
      "text/plain": [
       "1.2.840.10008.1.2.4.70    29519\n",
       "1.2.840.10008.1.2.4.90    25187\n",
       "Name: uid, dtype: int64"
      ]
     },
     "execution_count": 4,
     "metadata": {},
     "output_type": "execute_result"
    }
   ],
   "source": [
    "df = pd.read_csv('/kaggle/input/dali-rsna-helpers/dicom_jpg_formats.csv')\n",
    "del df['label']\n",
    "df['uid'].value_counts()"
   ]
  },
  {
   "cell_type": "markdown",
   "id": "05578b97",
   "metadata": {
    "papermill": {
     "duration": 0.011158,
     "end_time": "2022-12-10T17:00:55.089951",
     "exception": false,
     "start_time": "2022-12-10T17:00:55.078793",
     "status": "completed"
    },
    "tags": []
   },
   "source": [
    "1.2.840.10008.1.2.4.70  ----> JPEG Lossless, Nonhierarchical, First- Order Prediction (Processes 14)\n",
    "\n",
    "1.2.840.10008.1.2.4.90  ----> JPEG 2000 Image Compression (Lossless Only) \n",
    "\n",
    "**For now this solution applies only to the JPEG 2000 Image Compression standard**\n"
   ]
  },
  {
   "cell_type": "code",
   "execution_count": 5,
   "id": "28749556",
   "metadata": {
    "execution": {
     "iopub.execute_input": "2022-12-10T17:00:55.113966Z",
     "iopub.status.busy": "2022-12-10T17:00:55.113263Z",
     "iopub.status.idle": "2022-12-10T17:00:55.123781Z",
     "shell.execute_reply": "2022-12-10T17:00:55.122941Z"
    },
    "papermill": {
     "duration": 0.024587,
     "end_time": "2022-12-10T17:00:55.125717",
     "exception": false,
     "start_time": "2022-12-10T17:00:55.101130",
     "status": "completed"
    },
    "tags": []
   },
   "outputs": [],
   "source": [
    "allj2kdicoms = df[df['uid']=='1.2.840.10008.1.2.4.90']['dicom'].tolist()"
   ]
  },
  {
   "cell_type": "markdown",
   "id": "aee4e965",
   "metadata": {
    "papermill": {
     "duration": 0.010896,
     "end_time": "2022-12-10T17:00:55.147986",
     "exception": false,
     "start_time": "2022-12-10T17:00:55.137090",
     "status": "completed"
    },
    "tags": []
   },
   "source": [
    "Let's get our initial baseline of time to decode a single image using pydicom (CPU based decoding)."
   ]
  },
  {
   "cell_type": "code",
   "execution_count": 6,
   "id": "b21e4294",
   "metadata": {
    "execution": {
     "iopub.execute_input": "2022-12-10T17:00:55.171949Z",
     "iopub.status.busy": "2022-12-10T17:00:55.171134Z",
     "iopub.status.idle": "2022-12-10T17:00:55.175927Z",
     "shell.execute_reply": "2022-12-10T17:00:55.175102Z"
    },
    "papermill": {
     "duration": 0.018671,
     "end_time": "2022-12-10T17:00:55.177880",
     "exception": false,
     "start_time": "2022-12-10T17:00:55.159209",
     "status": "completed"
    },
    "tags": []
   },
   "outputs": [],
   "source": [
    "def pydicom_benchmark(file):\n",
    "    dicom = pydicom.dcmread(f'../input/rsna-breast-cancer-detection/train_images/{file}')\n",
    "    img = dicom.pixel_array"
   ]
  },
  {
   "cell_type": "code",
   "execution_count": 7,
   "id": "21cc0307",
   "metadata": {
    "execution": {
     "iopub.execute_input": "2022-12-10T17:00:55.201668Z",
     "iopub.status.busy": "2022-12-10T17:00:55.200851Z",
     "iopub.status.idle": "2022-12-10T17:01:32.977437Z",
     "shell.execute_reply": "2022-12-10T17:01:32.976252Z"
    },
    "papermill": {
     "duration": 37.791011,
     "end_time": "2022-12-10T17:01:32.979991",
     "exception": false,
     "start_time": "2022-12-10T17:00:55.188980",
     "status": "completed"
    },
    "tags": []
   },
   "outputs": [
    {
     "data": {
      "application/vnd.jupyter.widget-view+json": {
       "model_id": "6a0e063cdfe44ebdbc1064a036e934cd",
       "version_major": 2,
       "version_minor": 0
      },
      "text/plain": [
       "  0%|          | 0/32 [00:00<?, ?it/s]"
      ]
     },
     "metadata": {},
     "output_type": "display_data"
    }
   ],
   "source": [
    "_ = Parallel(n_jobs=2)(delayed(pydicom_benchmark)(uid) for uid in tqdm(allj2kdicoms[:32]))"
   ]
  },
  {
   "cell_type": "markdown",
   "id": "86c86615",
   "metadata": {
    "papermill": {
     "duration": 0.011291,
     "end_time": "2022-12-10T17:01:33.002809",
     "exception": false,
     "start_time": "2022-12-10T17:01:32.991518",
     "status": "completed"
    },
    "tags": []
   },
   "source": [
    "Now to the GPU based vesion. \n",
    "\n",
    "Step 1: convert dicoms to .jp2 files (jpeg2000 encoded images)"
   ]
  },
  {
   "cell_type": "code",
   "execution_count": 8,
   "id": "503513f0",
   "metadata": {
    "execution": {
     "iopub.execute_input": "2022-12-10T17:01:33.026971Z",
     "iopub.status.busy": "2022-12-10T17:01:33.026245Z",
     "iopub.status.idle": "2022-12-10T17:01:33.377409Z",
     "shell.execute_reply": "2022-12-10T17:01:33.376383Z"
    },
    "papermill": {
     "duration": 0.366133,
     "end_time": "2022-12-10T17:01:33.380160",
     "exception": false,
     "start_time": "2022-12-10T17:01:33.014027",
     "status": "completed"
    },
    "tags": []
   },
   "outputs": [
    {
     "data": {
      "application/vnd.jupyter.widget-view+json": {
       "model_id": "e8bd9c21f5184f49bd0f56eff4543db9",
       "version_major": 2,
       "version_minor": 0
      },
      "text/plain": [
       "  0%|          | 0/32 [00:00<?, ?it/s]"
      ]
     },
     "metadata": {},
     "output_type": "display_data"
    }
   ],
   "source": [
    "_ = Parallel(n_jobs=2)(delayed(convert_dicom_to_j2k)(uid) for uid in tqdm(allj2kdicoms[:32]))"
   ]
  },
  {
   "cell_type": "markdown",
   "id": "6c79e669",
   "metadata": {
    "papermill": {
     "duration": 0.011032,
     "end_time": "2022-12-10T17:01:33.402928",
     "exception": false,
     "start_time": "2022-12-10T17:01:33.391896",
     "status": "completed"
    },
    "tags": []
   },
   "source": [
    "Step 2: create [DALI pipeline](https://docs.nvidia.com/deeplearning/dali/user-guide/docs/pipeline.html).  \n",
    "\n",
    "All we're doing in the pipeline is reading and decoding the j2k files and returining the uint16 array (equivalent to pydicom.pixel_array function)"
   ]
  },
  {
   "cell_type": "code",
   "execution_count": 9,
   "id": "e52d0706",
   "metadata": {
    "execution": {
     "iopub.execute_input": "2022-12-10T17:01:33.427080Z",
     "iopub.status.busy": "2022-12-10T17:01:33.426204Z",
     "iopub.status.idle": "2022-12-10T17:01:33.431477Z",
     "shell.execute_reply": "2022-12-10T17:01:33.430631Z"
    },
    "papermill": {
     "duration": 0.019369,
     "end_time": "2022-12-10T17:01:33.433438",
     "exception": false,
     "start_time": "2022-12-10T17:01:33.414069",
     "status": "completed"
    },
    "tags": []
   },
   "outputs": [],
   "source": [
    "j2kfiles = [f'../working/{thing.split(\"/\")[-2]}_{thing.split(\"/\")[-1][:-4]}.jp2' for thing in allj2kdicoms[:32]]"
   ]
  },
  {
   "cell_type": "code",
   "execution_count": 10,
   "id": "26140e27",
   "metadata": {
    "execution": {
     "iopub.execute_input": "2022-12-10T17:01:33.457295Z",
     "iopub.status.busy": "2022-12-10T17:01:33.456464Z",
     "iopub.status.idle": "2022-12-10T17:01:33.461810Z",
     "shell.execute_reply": "2022-12-10T17:01:33.460979Z"
    },
    "papermill": {
     "duration": 0.019218,
     "end_time": "2022-12-10T17:01:33.463737",
     "exception": false,
     "start_time": "2022-12-10T17:01:33.444519",
     "status": "completed"
    },
    "tags": []
   },
   "outputs": [],
   "source": [
    "@pipeline_def\n",
    "def j2k_decode_pipeline():\n",
    "    jpegs, _ = fn.readers.file(files = j2kfiles)\n",
    "    images = fn.experimental.decoders.image(jpegs, device='mixed', output_type=types.ANY_DATA, dtype=DALIDataType.UINT16)\n",
    "    return images"
   ]
  },
  {
   "cell_type": "code",
   "execution_count": 11,
   "id": "1b7be91f",
   "metadata": {
    "execution": {
     "iopub.execute_input": "2022-12-10T17:01:33.487741Z",
     "iopub.status.busy": "2022-12-10T17:01:33.487400Z",
     "iopub.status.idle": "2022-12-10T17:01:33.681416Z",
     "shell.execute_reply": "2022-12-10T17:01:33.680398Z"
    },
    "papermill": {
     "duration": 0.208717,
     "end_time": "2022-12-10T17:01:33.683700",
     "exception": false,
     "start_time": "2022-12-10T17:01:33.474983",
     "status": "completed"
    },
    "tags": []
   },
   "outputs": [],
   "source": [
    "max_batch_size = 32\n",
    "pipe = j2k_decode_pipeline(batch_size=max_batch_size, num_threads=2, device_id=0, debug=True)\n",
    "pipe.build()"
   ]
  },
  {
   "cell_type": "code",
   "execution_count": 12,
   "id": "72d07e34",
   "metadata": {
    "execution": {
     "iopub.execute_input": "2022-12-10T17:01:33.712128Z",
     "iopub.status.busy": "2022-12-10T17:01:33.711564Z",
     "iopub.status.idle": "2022-12-10T17:01:35.770359Z",
     "shell.execute_reply": "2022-12-10T17:01:35.769413Z"
    },
    "papermill": {
     "duration": 2.073958,
     "end_time": "2022-12-10T17:01:35.772961",
     "exception": false,
     "start_time": "2022-12-10T17:01:33.699003",
     "status": "completed"
    },
    "tags": []
   },
   "outputs": [
    {
     "name": "stdout",
     "output_type": "stream",
     "text": [
      "CPU times: user 2.89 s, sys: 346 ms, total: 3.23 s\n",
      "Wall time: 2.03 s\n"
     ]
    }
   ],
   "source": [
    "%%time\n",
    "pipe_out = pipe.run()"
   ]
  },
  {
   "cell_type": "markdown",
   "id": "3d2f8454",
   "metadata": {
    "papermill": {
     "duration": 0.046703,
     "end_time": "2022-12-10T17:01:35.866314",
     "exception": false,
     "start_time": "2022-12-10T17:01:35.819611",
     "status": "completed"
    },
    "tags": []
   },
   "source": [
    "Wow nice speedup, that's the time to decode **32 images** AND the data is sitting on the GPU already.  How much memory are we using?"
   ]
  },
  {
   "cell_type": "code",
   "execution_count": 13,
   "id": "863b098d",
   "metadata": {
    "execution": {
     "iopub.execute_input": "2022-12-10T17:01:35.929423Z",
     "iopub.status.busy": "2022-12-10T17:01:35.928912Z",
     "iopub.status.idle": "2022-12-10T17:01:37.721560Z",
     "shell.execute_reply": "2022-12-10T17:01:37.720300Z"
    },
    "papermill": {
     "duration": 1.827928,
     "end_time": "2022-12-10T17:01:37.724101",
     "exception": false,
     "start_time": "2022-12-10T17:01:35.896173",
     "status": "completed"
    },
    "tags": []
   },
   "outputs": [
    {
     "name": "stdout",
     "output_type": "stream",
     "text": [
      "Sat Dec 10 17:01:37 2022       \r\n",
      "+-----------------------------------------------------------------------------+\r\n",
      "| NVIDIA-SMI 470.82.01    Driver Version: 470.82.01    CUDA Version: 11.4     |\r\n",
      "|-------------------------------+----------------------+----------------------+\r\n",
      "| GPU  Name        Persistence-M| Bus-Id        Disp.A | Volatile Uncorr. ECC |\r\n",
      "| Fan  Temp  Perf  Pwr:Usage/Cap|         Memory-Usage | GPU-Util  Compute M. |\r\n",
      "|                               |                      |               MIG M. |\r\n",
      "|===============================+======================+======================|\r\n",
      "|   0  Tesla P100-PCIE...  Off  | 00000000:00:04.0 Off |                    0 |\r\n",
      "| N/A   37C    P0    39W / 250W |   3361MiB / 16280MiB |      0%      Default |\r\n",
      "|                               |                      |                  N/A |\r\n",
      "+-------------------------------+----------------------+----------------------+\r\n",
      "                                                                               \r\n",
      "+-----------------------------------------------------------------------------+\r\n",
      "| Processes:                                                                  |\r\n",
      "|  GPU   GI   CI        PID   Type   Process name                  GPU Memory |\r\n",
      "|        ID   ID                                                   Usage      |\r\n",
      "|=============================================================================|\r\n",
      "+-----------------------------------------------------------------------------+\r\n"
     ]
    }
   ],
   "source": [
    "!nvidia-smi"
   ]
  },
  {
   "cell_type": "markdown",
   "id": "81184b6d",
   "metadata": {
    "papermill": {
     "duration": 0.011215,
     "end_time": "2022-12-10T17:01:37.747023",
     "exception": false,
     "start_time": "2022-12-10T17:01:37.735808",
     "status": "completed"
    },
    "tags": []
   },
   "source": [
    "Let's test and make sure the array we get from pydicom is the same as what DALI gives us after decode"
   ]
  },
  {
   "cell_type": "code",
   "execution_count": 14,
   "id": "8484cad3",
   "metadata": {
    "execution": {
     "iopub.execute_input": "2022-12-10T17:01:37.771306Z",
     "iopub.status.busy": "2022-12-10T17:01:37.770979Z",
     "iopub.status.idle": "2022-12-10T17:01:38.359916Z",
     "shell.execute_reply": "2022-12-10T17:01:38.358880Z"
    },
    "papermill": {
     "duration": 0.603901,
     "end_time": "2022-12-10T17:01:38.362298",
     "exception": false,
     "start_time": "2022-12-10T17:01:37.758397",
     "status": "completed"
    },
    "tags": []
   },
   "outputs": [],
   "source": [
    "pydicom_image = pydicom.dcmread(f'../input/rsna-breast-cancer-detection/train_images/{allj2kdicoms[30]}').pixel_array"
   ]
  },
  {
   "cell_type": "code",
   "execution_count": 15,
   "id": "cdc2a244",
   "metadata": {
    "execution": {
     "iopub.execute_input": "2022-12-10T17:01:38.389281Z",
     "iopub.status.busy": "2022-12-10T17:01:38.388252Z",
     "iopub.status.idle": "2022-12-10T17:01:38.398276Z",
     "shell.execute_reply": "2022-12-10T17:01:38.397245Z"
    },
    "papermill": {
     "duration": 0.026948,
     "end_time": "2022-12-10T17:01:38.401350",
     "exception": false,
     "start_time": "2022-12-10T17:01:38.374402",
     "status": "completed"
    },
    "tags": []
   },
   "outputs": [
    {
     "data": {
      "text/plain": [
       "array([[2652, 2525, 2791, ...,    0,    0,    0],\n",
       "       [2720, 2841, 2678, ...,    0,    0,    0],\n",
       "       [2977, 2490, 2829, ...,    0,    0,    0],\n",
       "       ...,\n",
       "       [1990, 1809, 1650, ...,    0,    0,    0],\n",
       "       [1914, 1969, 1909, ...,    0,    0,    0],\n",
       "       [1788, 1960, 1914, ...,    0,    0,    0]], dtype=uint16)"
      ]
     },
     "execution_count": 15,
     "metadata": {},
     "output_type": "execute_result"
    }
   ],
   "source": [
    "pydicom_image"
   ]
  },
  {
   "cell_type": "code",
   "execution_count": 16,
   "id": "fcee756e",
   "metadata": {
    "execution": {
     "iopub.execute_input": "2022-12-10T17:01:38.428454Z",
     "iopub.status.busy": "2022-12-10T17:01:38.428140Z",
     "iopub.status.idle": "2022-12-10T17:01:38.558494Z",
     "shell.execute_reply": "2022-12-10T17:01:38.557424Z"
    },
    "papermill": {
     "duration": 0.146355,
     "end_time": "2022-12-10T17:01:38.560777",
     "exception": false,
     "start_time": "2022-12-10T17:01:38.414422",
     "status": "completed"
    },
    "tags": []
   },
   "outputs": [],
   "source": [
    "testfile = [f'../working/{thing.split(\"/\")[-2]}_{thing.split(\"/\")[-1][:-4]}.jp2' for thing in [allj2kdicoms[30]]]\n",
    "\n",
    "\n",
    "@pipeline_def\n",
    "def j2k_decode_pipeline():\n",
    "    jpegs, _ = fn.readers.file(files = testfile)\n",
    "    images = fn.experimental.decoders.image(jpegs, device='mixed', output_type=types.ANY_DATA, dtype=DALIDataType.UINT16)\n",
    "    return images\n",
    "\n",
    "max_batch_size = 1\n",
    "pipe = j2k_decode_pipeline(batch_size=max_batch_size, num_threads=2, device_id=0, debug=True)\n",
    "pipe.build()\n",
    "\n",
    "pipe_out = pipe.run()\n",
    "\n",
    "dali_image = pipe_out[0].as_cpu().as_array()[0,:,:,0]"
   ]
  },
  {
   "cell_type": "code",
   "execution_count": 17,
   "id": "5313b41f",
   "metadata": {
    "execution": {
     "iopub.execute_input": "2022-12-10T17:01:38.588313Z",
     "iopub.status.busy": "2022-12-10T17:01:38.588000Z",
     "iopub.status.idle": "2022-12-10T17:01:38.594524Z",
     "shell.execute_reply": "2022-12-10T17:01:38.593474Z"
    },
    "papermill": {
     "duration": 0.023428,
     "end_time": "2022-12-10T17:01:38.597528",
     "exception": false,
     "start_time": "2022-12-10T17:01:38.574100",
     "status": "completed"
    },
    "tags": []
   },
   "outputs": [
    {
     "data": {
      "text/plain": [
       "array([[2652, 2525, 2791, ...,    0,    0,    0],\n",
       "       [2720, 2841, 2678, ...,    0,    0,    0],\n",
       "       [2977, 2490, 2829, ...,    0,    0,    0],\n",
       "       ...,\n",
       "       [1990, 1809, 1650, ...,    0,    0,    0],\n",
       "       [1914, 1969, 1909, ...,    0,    0,    0],\n",
       "       [1788, 1960, 1914, ...,    0,    0,    0]], dtype=uint16)"
      ]
     },
     "execution_count": 17,
     "metadata": {},
     "output_type": "execute_result"
    }
   ],
   "source": [
    "dali_image"
   ]
  },
  {
   "cell_type": "code",
   "execution_count": 18,
   "id": "4310bf26",
   "metadata": {
    "execution": {
     "iopub.execute_input": "2022-12-10T17:01:38.622882Z",
     "iopub.status.busy": "2022-12-10T17:01:38.622589Z",
     "iopub.status.idle": "2022-12-10T17:01:38.631698Z",
     "shell.execute_reply": "2022-12-10T17:01:38.630688Z"
    },
    "papermill": {
     "duration": 0.023874,
     "end_time": "2022-12-10T17:01:38.633890",
     "exception": false,
     "start_time": "2022-12-10T17:01:38.610016",
     "status": "completed"
    },
    "tags": []
   },
   "outputs": [
    {
     "data": {
      "text/plain": [
       "True"
      ]
     },
     "execution_count": 18,
     "metadata": {},
     "output_type": "execute_result"
    }
   ],
   "source": [
    "np.all(dali_image==pydicom_image)"
   ]
  }
 ],
 "metadata": {
  "kernelspec": {
   "display_name": "Python 3 (ipykernel)",
   "language": "python",
   "name": "python3"
  },
  "language_info": {
   "codemirror_mode": {
    "name": "ipython",
    "version": 3
   },
   "file_extension": ".py",
   "mimetype": "text/x-python",
   "name": "python",
   "nbconvert_exporter": "python",
   "pygments_lexer": "ipython3",
   "version": "3.8.10"
  },
  "papermill": {
   "default_parameters": {},
   "duration": 94.05032,
   "end_time": "2022-12-10T17:01:41.367028",
   "environment_variables": {},
   "exception": null,
   "input_path": "__notebook__.ipynb",
   "output_path": "__notebook__.ipynb",
   "parameters": {},
   "start_time": "2022-12-10T17:00:07.316708",
   "version": "2.3.4"
  },
  "widgets": {
   "application/vnd.jupyter.widget-state+json": {
    "state": {
     "14862218c71749b9b0629afbd8aede6d": {
      "model_module": "@jupyter-widgets/base",
      "model_module_version": "1.2.0",
      "model_name": "LayoutModel",
      "state": {
       "_model_module": "@jupyter-widgets/base",
       "_model_module_version": "1.2.0",
       "_model_name": "LayoutModel",
       "_view_count": null,
       "_view_module": "@jupyter-widgets/base",
       "_view_module_version": "1.2.0",
       "_view_name": "LayoutView",
       "align_content": null,
       "align_items": null,
       "align_self": null,
       "border": null,
       "bottom": null,
       "display": null,
       "flex": null,
       "flex_flow": null,
       "grid_area": null,
       "grid_auto_columns": null,
       "grid_auto_flow": null,
       "grid_auto_rows": null,
       "grid_column": null,
       "grid_gap": null,
       "grid_row": null,
       "grid_template_areas": null,
       "grid_template_columns": null,
       "grid_template_rows": null,
       "height": null,
       "justify_content": null,
       "justify_items": null,
       "left": null,
       "margin": null,
       "max_height": null,
       "max_width": null,
       "min_height": null,
       "min_width": null,
       "object_fit": null,
       "object_position": null,
       "order": null,
       "overflow": null,
       "overflow_x": null,
       "overflow_y": null,
       "padding": null,
       "right": null,
       "top": null,
       "visibility": null,
       "width": null
      }
     },
     "54c5c7d8456845a1af28b04329ef080e": {
      "model_module": "@jupyter-widgets/controls",
      "model_module_version": "1.5.0",
      "model_name": "ProgressStyleModel",
      "state": {
       "_model_module": "@jupyter-widgets/controls",
       "_model_module_version": "1.5.0",
       "_model_name": "ProgressStyleModel",
       "_view_count": null,
       "_view_module": "@jupyter-widgets/base",
       "_view_module_version": "1.2.0",
       "_view_name": "StyleView",
       "bar_color": null,
       "description_width": ""
      }
     },
     "599d8a29ffa34cf8987dd4fbd2822f26": {
      "model_module": "@jupyter-widgets/controls",
      "model_module_version": "1.5.0",
      "model_name": "FloatProgressModel",
      "state": {
       "_dom_classes": [],
       "_model_module": "@jupyter-widgets/controls",
       "_model_module_version": "1.5.0",
       "_model_name": "FloatProgressModel",
       "_view_count": null,
       "_view_module": "@jupyter-widgets/controls",
       "_view_module_version": "1.5.0",
       "_view_name": "ProgressView",
       "bar_style": "success",
       "description": "",
       "description_tooltip": null,
       "layout": "IPY_MODEL_7c949da7a91640209c536e6f71fea5ff",
       "max": 32,
       "min": 0,
       "orientation": "horizontal",
       "style": "IPY_MODEL_54c5c7d8456845a1af28b04329ef080e",
       "value": 32
      }
     },
     "669d213c67824cf4b44d9e2dfb30e0de": {
      "model_module": "@jupyter-widgets/base",
      "model_module_version": "1.2.0",
      "model_name": "LayoutModel",
      "state": {
       "_model_module": "@jupyter-widgets/base",
       "_model_module_version": "1.2.0",
       "_model_name": "LayoutModel",
       "_view_count": null,
       "_view_module": "@jupyter-widgets/base",
       "_view_module_version": "1.2.0",
       "_view_name": "LayoutView",
       "align_content": null,
       "align_items": null,
       "align_self": null,
       "border": null,
       "bottom": null,
       "display": null,
       "flex": null,
       "flex_flow": null,
       "grid_area": null,
       "grid_auto_columns": null,
       "grid_auto_flow": null,
       "grid_auto_rows": null,
       "grid_column": null,
       "grid_gap": null,
       "grid_row": null,
       "grid_template_areas": null,
       "grid_template_columns": null,
       "grid_template_rows": null,
       "height": null,
       "justify_content": null,
       "justify_items": null,
       "left": null,
       "margin": null,
       "max_height": null,
       "max_width": null,
       "min_height": null,
       "min_width": null,
       "object_fit": null,
       "object_position": null,
       "order": null,
       "overflow": null,
       "overflow_x": null,
       "overflow_y": null,
       "padding": null,
       "right": null,
       "top": null,
       "visibility": null,
       "width": null
      }
     },
     "6a0e063cdfe44ebdbc1064a036e934cd": {
      "model_module": "@jupyter-widgets/controls",
      "model_module_version": "1.5.0",
      "model_name": "HBoxModel",
      "state": {
       "_dom_classes": [],
       "_model_module": "@jupyter-widgets/controls",
       "_model_module_version": "1.5.0",
       "_model_name": "HBoxModel",
       "_view_count": null,
       "_view_module": "@jupyter-widgets/controls",
       "_view_module_version": "1.5.0",
       "_view_name": "HBoxView",
       "box_style": "",
       "children": [
        "IPY_MODEL_f044c14ff592479fa4fb9c0a9d44e158",
        "IPY_MODEL_c54b41e18e814926b6b3fc8353d2d427",
        "IPY_MODEL_c609c2e4d81a4e34a9a6a771700c6214"
       ],
       "layout": "IPY_MODEL_ceb8e81ab4ed4369a9a2b092e432451f"
      }
     },
     "6c0c0c22170948f7ae3e127e0c9fe48d": {
      "model_module": "@jupyter-widgets/controls",
      "model_module_version": "1.5.0",
      "model_name": "HTMLModel",
      "state": {
       "_dom_classes": [],
       "_model_module": "@jupyter-widgets/controls",
       "_model_module_version": "1.5.0",
       "_model_name": "HTMLModel",
       "_view_count": null,
       "_view_module": "@jupyter-widgets/controls",
       "_view_module_version": "1.5.0",
       "_view_name": "HTMLView",
       "description": "",
       "description_tooltip": null,
       "layout": "IPY_MODEL_75afbee4510c4bfbb422e1b0eb37a867",
       "placeholder": "​",
       "style": "IPY_MODEL_df75e93392024e60860b39dc58ffc4f7",
       "value": " 32/32 [00:00&lt;00:00, 100.31it/s]"
      }
     },
     "701c4e7eca2c424284991833df1afb88": {
      "model_module": "@jupyter-widgets/controls",
      "model_module_version": "1.5.0",
      "model_name": "ProgressStyleModel",
      "state": {
       "_model_module": "@jupyter-widgets/controls",
       "_model_module_version": "1.5.0",
       "_model_name": "ProgressStyleModel",
       "_view_count": null,
       "_view_module": "@jupyter-widgets/base",
       "_view_module_version": "1.2.0",
       "_view_name": "StyleView",
       "bar_color": null,
       "description_width": ""
      }
     },
     "710cab34c3ea40b4a37c7cdccdd9db93": {
      "model_module": "@jupyter-widgets/base",
      "model_module_version": "1.2.0",
      "model_name": "LayoutModel",
      "state": {
       "_model_module": "@jupyter-widgets/base",
       "_model_module_version": "1.2.0",
       "_model_name": "LayoutModel",
       "_view_count": null,
       "_view_module": "@jupyter-widgets/base",
       "_view_module_version": "1.2.0",
       "_view_name": "LayoutView",
       "align_content": null,
       "align_items": null,
       "align_self": null,
       "border": null,
       "bottom": null,
       "display": null,
       "flex": null,
       "flex_flow": null,
       "grid_area": null,
       "grid_auto_columns": null,
       "grid_auto_flow": null,
       "grid_auto_rows": null,
       "grid_column": null,
       "grid_gap": null,
       "grid_row": null,
       "grid_template_areas": null,
       "grid_template_columns": null,
       "grid_template_rows": null,
       "height": null,
       "justify_content": null,
       "justify_items": null,
       "left": null,
       "margin": null,
       "max_height": null,
       "max_width": null,
       "min_height": null,
       "min_width": null,
       "object_fit": null,
       "object_position": null,
       "order": null,
       "overflow": null,
       "overflow_x": null,
       "overflow_y": null,
       "padding": null,
       "right": null,
       "top": null,
       "visibility": null,
       "width": null
      }
     },
     "75afbee4510c4bfbb422e1b0eb37a867": {
      "model_module": "@jupyter-widgets/base",
      "model_module_version": "1.2.0",
      "model_name": "LayoutModel",
      "state": {
       "_model_module": "@jupyter-widgets/base",
       "_model_module_version": "1.2.0",
       "_model_name": "LayoutModel",
       "_view_count": null,
       "_view_module": "@jupyter-widgets/base",
       "_view_module_version": "1.2.0",
       "_view_name": "LayoutView",
       "align_content": null,
       "align_items": null,
       "align_self": null,
       "border": null,
       "bottom": null,
       "display": null,
       "flex": null,
       "flex_flow": null,
       "grid_area": null,
       "grid_auto_columns": null,
       "grid_auto_flow": null,
       "grid_auto_rows": null,
       "grid_column": null,
       "grid_gap": null,
       "grid_row": null,
       "grid_template_areas": null,
       "grid_template_columns": null,
       "grid_template_rows": null,
       "height": null,
       "justify_content": null,
       "justify_items": null,
       "left": null,
       "margin": null,
       "max_height": null,
       "max_width": null,
       "min_height": null,
       "min_width": null,
       "object_fit": null,
       "object_position": null,
       "order": null,
       "overflow": null,
       "overflow_x": null,
       "overflow_y": null,
       "padding": null,
       "right": null,
       "top": null,
       "visibility": null,
       "width": null
      }
     },
     "7c949da7a91640209c536e6f71fea5ff": {
      "model_module": "@jupyter-widgets/base",
      "model_module_version": "1.2.0",
      "model_name": "LayoutModel",
      "state": {
       "_model_module": "@jupyter-widgets/base",
       "_model_module_version": "1.2.0",
       "_model_name": "LayoutModel",
       "_view_count": null,
       "_view_module": "@jupyter-widgets/base",
       "_view_module_version": "1.2.0",
       "_view_name": "LayoutView",
       "align_content": null,
       "align_items": null,
       "align_self": null,
       "border": null,
       "bottom": null,
       "display": null,
       "flex": null,
       "flex_flow": null,
       "grid_area": null,
       "grid_auto_columns": null,
       "grid_auto_flow": null,
       "grid_auto_rows": null,
       "grid_column": null,
       "grid_gap": null,
       "grid_row": null,
       "grid_template_areas": null,
       "grid_template_columns": null,
       "grid_template_rows": null,
       "height": null,
       "justify_content": null,
       "justify_items": null,
       "left": null,
       "margin": null,
       "max_height": null,
       "max_width": null,
       "min_height": null,
       "min_width": null,
       "object_fit": null,
       "object_position": null,
       "order": null,
       "overflow": null,
       "overflow_x": null,
       "overflow_y": null,
       "padding": null,
       "right": null,
       "top": null,
       "visibility": null,
       "width": null
      }
     },
     "7efa031502cb41339d63f466187218b9": {
      "model_module": "@jupyter-widgets/controls",
      "model_module_version": "1.5.0",
      "model_name": "HTMLModel",
      "state": {
       "_dom_classes": [],
       "_model_module": "@jupyter-widgets/controls",
       "_model_module_version": "1.5.0",
       "_model_name": "HTMLModel",
       "_view_count": null,
       "_view_module": "@jupyter-widgets/controls",
       "_view_module_version": "1.5.0",
       "_view_name": "HTMLView",
       "description": "",
       "description_tooltip": null,
       "layout": "IPY_MODEL_710cab34c3ea40b4a37c7cdccdd9db93",
       "placeholder": "​",
       "style": "IPY_MODEL_d1bd087a5f5f45099c9ed566d8900efe",
       "value": "100%"
      }
     },
     "84dc48d9088243f091ddecfd45ba151f": {
      "model_module": "@jupyter-widgets/controls",
      "model_module_version": "1.5.0",
      "model_name": "DescriptionStyleModel",
      "state": {
       "_model_module": "@jupyter-widgets/controls",
       "_model_module_version": "1.5.0",
       "_model_name": "DescriptionStyleModel",
       "_view_count": null,
       "_view_module": "@jupyter-widgets/base",
       "_view_module_version": "1.2.0",
       "_view_name": "StyleView",
       "description_width": ""
      }
     },
     "c54b41e18e814926b6b3fc8353d2d427": {
      "model_module": "@jupyter-widgets/controls",
      "model_module_version": "1.5.0",
      "model_name": "FloatProgressModel",
      "state": {
       "_dom_classes": [],
       "_model_module": "@jupyter-widgets/controls",
       "_model_module_version": "1.5.0",
       "_model_name": "FloatProgressModel",
       "_view_count": null,
       "_view_module": "@jupyter-widgets/controls",
       "_view_module_version": "1.5.0",
       "_view_name": "ProgressView",
       "bar_style": "success",
       "description": "",
       "description_tooltip": null,
       "layout": "IPY_MODEL_14862218c71749b9b0629afbd8aede6d",
       "max": 32,
       "min": 0,
       "orientation": "horizontal",
       "style": "IPY_MODEL_701c4e7eca2c424284991833df1afb88",
       "value": 32
      }
     },
     "c609c2e4d81a4e34a9a6a771700c6214": {
      "model_module": "@jupyter-widgets/controls",
      "model_module_version": "1.5.0",
      "model_name": "HTMLModel",
      "state": {
       "_dom_classes": [],
       "_model_module": "@jupyter-widgets/controls",
       "_model_module_version": "1.5.0",
       "_model_name": "HTMLModel",
       "_view_count": null,
       "_view_module": "@jupyter-widgets/controls",
       "_view_module_version": "1.5.0",
       "_view_name": "HTMLView",
       "description": "",
       "description_tooltip": null,
       "layout": "IPY_MODEL_669d213c67824cf4b44d9e2dfb30e0de",
       "placeholder": "​",
       "style": "IPY_MODEL_d7b2cf27ba5f40a3a8ecf29ba7e5adde",
       "value": " 32/32 [00:36&lt;00:00,  1.07it/s]"
      }
     },
     "ceb8e81ab4ed4369a9a2b092e432451f": {
      "model_module": "@jupyter-widgets/base",
      "model_module_version": "1.2.0",
      "model_name": "LayoutModel",
      "state": {
       "_model_module": "@jupyter-widgets/base",
       "_model_module_version": "1.2.0",
       "_model_name": "LayoutModel",
       "_view_count": null,
       "_view_module": "@jupyter-widgets/base",
       "_view_module_version": "1.2.0",
       "_view_name": "LayoutView",
       "align_content": null,
       "align_items": null,
       "align_self": null,
       "border": null,
       "bottom": null,
       "display": null,
       "flex": null,
       "flex_flow": null,
       "grid_area": null,
       "grid_auto_columns": null,
       "grid_auto_flow": null,
       "grid_auto_rows": null,
       "grid_column": null,
       "grid_gap": null,
       "grid_row": null,
       "grid_template_areas": null,
       "grid_template_columns": null,
       "grid_template_rows": null,
       "height": null,
       "justify_content": null,
       "justify_items": null,
       "left": null,
       "margin": null,
       "max_height": null,
       "max_width": null,
       "min_height": null,
       "min_width": null,
       "object_fit": null,
       "object_position": null,
       "order": null,
       "overflow": null,
       "overflow_x": null,
       "overflow_y": null,
       "padding": null,
       "right": null,
       "top": null,
       "visibility": null,
       "width": null
      }
     },
     "d1bd087a5f5f45099c9ed566d8900efe": {
      "model_module": "@jupyter-widgets/controls",
      "model_module_version": "1.5.0",
      "model_name": "DescriptionStyleModel",
      "state": {
       "_model_module": "@jupyter-widgets/controls",
       "_model_module_version": "1.5.0",
       "_model_name": "DescriptionStyleModel",
       "_view_count": null,
       "_view_module": "@jupyter-widgets/base",
       "_view_module_version": "1.2.0",
       "_view_name": "StyleView",
       "description_width": ""
      }
     },
     "d7b2cf27ba5f40a3a8ecf29ba7e5adde": {
      "model_module": "@jupyter-widgets/controls",
      "model_module_version": "1.5.0",
      "model_name": "DescriptionStyleModel",
      "state": {
       "_model_module": "@jupyter-widgets/controls",
       "_model_module_version": "1.5.0",
       "_model_name": "DescriptionStyleModel",
       "_view_count": null,
       "_view_module": "@jupyter-widgets/base",
       "_view_module_version": "1.2.0",
       "_view_name": "StyleView",
       "description_width": ""
      }
     },
     "df75e93392024e60860b39dc58ffc4f7": {
      "model_module": "@jupyter-widgets/controls",
      "model_module_version": "1.5.0",
      "model_name": "DescriptionStyleModel",
      "state": {
       "_model_module": "@jupyter-widgets/controls",
       "_model_module_version": "1.5.0",
       "_model_name": "DescriptionStyleModel",
       "_view_count": null,
       "_view_module": "@jupyter-widgets/base",
       "_view_module_version": "1.2.0",
       "_view_name": "StyleView",
       "description_width": ""
      }
     },
     "e8bd9c21f5184f49bd0f56eff4543db9": {
      "model_module": "@jupyter-widgets/controls",
      "model_module_version": "1.5.0",
      "model_name": "HBoxModel",
      "state": {
       "_dom_classes": [],
       "_model_module": "@jupyter-widgets/controls",
       "_model_module_version": "1.5.0",
       "_model_name": "HBoxModel",
       "_view_count": null,
       "_view_module": "@jupyter-widgets/controls",
       "_view_module_version": "1.5.0",
       "_view_name": "HBoxView",
       "box_style": "",
       "children": [
        "IPY_MODEL_7efa031502cb41339d63f466187218b9",
        "IPY_MODEL_599d8a29ffa34cf8987dd4fbd2822f26",
        "IPY_MODEL_6c0c0c22170948f7ae3e127e0c9fe48d"
       ],
       "layout": "IPY_MODEL_e9d62750777f4b94b9de28f8cbdd65f2"
      }
     },
     "e9d62750777f4b94b9de28f8cbdd65f2": {
      "model_module": "@jupyter-widgets/base",
      "model_module_version": "1.2.0",
      "model_name": "LayoutModel",
      "state": {
       "_model_module": "@jupyter-widgets/base",
       "_model_module_version": "1.2.0",
       "_model_name": "LayoutModel",
       "_view_count": null,
       "_view_module": "@jupyter-widgets/base",
       "_view_module_version": "1.2.0",
       "_view_name": "LayoutView",
       "align_content": null,
       "align_items": null,
       "align_self": null,
       "border": null,
       "bottom": null,
       "display": null,
       "flex": null,
       "flex_flow": null,
       "grid_area": null,
       "grid_auto_columns": null,
       "grid_auto_flow": null,
       "grid_auto_rows": null,
       "grid_column": null,
       "grid_gap": null,
       "grid_row": null,
       "grid_template_areas": null,
       "grid_template_columns": null,
       "grid_template_rows": null,
       "height": null,
       "justify_content": null,
       "justify_items": null,
       "left": null,
       "margin": null,
       "max_height": null,
       "max_width": null,
       "min_height": null,
       "min_width": null,
       "object_fit": null,
       "object_position": null,
       "order": null,
       "overflow": null,
       "overflow_x": null,
       "overflow_y": null,
       "padding": null,
       "right": null,
       "top": null,
       "visibility": null,
       "width": null
      }
     },
     "f044c14ff592479fa4fb9c0a9d44e158": {
      "model_module": "@jupyter-widgets/controls",
      "model_module_version": "1.5.0",
      "model_name": "HTMLModel",
      "state": {
       "_dom_classes": [],
       "_model_module": "@jupyter-widgets/controls",
       "_model_module_version": "1.5.0",
       "_model_name": "HTMLModel",
       "_view_count": null,
       "_view_module": "@jupyter-widgets/controls",
       "_view_module_version": "1.5.0",
       "_view_name": "HTMLView",
       "description": "",
       "description_tooltip": null,
       "layout": "IPY_MODEL_f9c55bce62694b50984c0aa9ccce8fd1",
       "placeholder": "​",
       "style": "IPY_MODEL_84dc48d9088243f091ddecfd45ba151f",
       "value": "100%"
      }
     },
     "f9c55bce62694b50984c0aa9ccce8fd1": {
      "model_module": "@jupyter-widgets/base",
      "model_module_version": "1.2.0",
      "model_name": "LayoutModel",
      "state": {
       "_model_module": "@jupyter-widgets/base",
       "_model_module_version": "1.2.0",
       "_model_name": "LayoutModel",
       "_view_count": null,
       "_view_module": "@jupyter-widgets/base",
       "_view_module_version": "1.2.0",
       "_view_name": "LayoutView",
       "align_content": null,
       "align_items": null,
       "align_self": null,
       "border": null,
       "bottom": null,
       "display": null,
       "flex": null,
       "flex_flow": null,
       "grid_area": null,
       "grid_auto_columns": null,
       "grid_auto_flow": null,
       "grid_auto_rows": null,
       "grid_column": null,
       "grid_gap": null,
       "grid_row": null,
       "grid_template_areas": null,
       "grid_template_columns": null,
       "grid_template_rows": null,
       "height": null,
       "justify_content": null,
       "justify_items": null,
       "left": null,
       "margin": null,
       "max_height": null,
       "max_width": null,
       "min_height": null,
       "min_width": null,
       "object_fit": null,
       "object_position": null,
       "order": null,
       "overflow": null,
       "overflow_x": null,
       "overflow_y": null,
       "padding": null,
       "right": null,
       "top": null,
       "visibility": null,
       "width": null
      }
     }
    },
    "version_major": 2,
    "version_minor": 0
   }
  }
 },
 "nbformat": 4,
 "nbformat_minor": 5
}
